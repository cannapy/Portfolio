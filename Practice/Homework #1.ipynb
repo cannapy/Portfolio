{
 "cells": [
  {
   "cell_type": "markdown",
   "id": "24b5aabf",
   "metadata": {},
   "source": [
    "### Importing libraries"
   ]
  },
  {
   "cell_type": "code",
   "execution_count": 16,
   "id": "174e2af7",
   "metadata": {},
   "outputs": [],
   "source": [
    "import numpy as np\n",
    "import pandas as pd\n",
    "import matplotlib.pyplot as plt\n",
    "import statistics\n",
    "from scipy.stats import norm"
   ]
  },
  {
   "cell_type": "markdown",
   "id": "8125f1c5",
   "metadata": {},
   "source": [
    "# Question 1"
   ]
  },
  {
   "cell_type": "markdown",
   "id": "e2b12cd8",
   "metadata": {},
   "source": [
    "## Generating random variables for v1"
   ]
  },
  {
   "cell_type": "code",
   "execution_count": 17,
   "id": "d77b2571",
   "metadata": {},
   "outputs": [
    {
     "data": {
      "text/plain": [
       "array([153.16, 146.45, 144.2 , 145.6 , 154.07, 151.95])"
      ]
     },
     "execution_count": 17,
     "metadata": {},
     "output_type": "execute_result"
    }
   ],
   "source": [
    "v1 = np.array([153.16, 146.45, 144.20, 145.60, 154.07, 151.95])\n",
    "v1"
   ]
  },
  {
   "cell_type": "markdown",
   "id": "d61f5c90",
   "metadata": {},
   "source": [
    "## Median of v1"
   ]
  },
  {
   "cell_type": "code",
   "execution_count": 18,
   "id": "2f022910",
   "metadata": {},
   "outputs": [
    {
     "data": {
      "text/plain": [
       "149.2"
      ]
     },
     "execution_count": 18,
     "metadata": {},
     "output_type": "execute_result"
    }
   ],
   "source": [
    "med=np.median(v1)\n",
    "med"
   ]
  },
  {
   "cell_type": "markdown",
   "id": "93fa34e0",
   "metadata": {},
   "source": [
    "## Mean of v1"
   ]
  },
  {
   "cell_type": "code",
   "execution_count": 19,
   "id": "a5211b34",
   "metadata": {},
   "outputs": [
    {
     "data": {
      "text/plain": [
       "149.23833333333334"
      ]
     },
     "execution_count": 19,
     "metadata": {},
     "output_type": "execute_result"
    }
   ],
   "source": [
    "mean=np.mean(v1)\n",
    "mean"
   ]
  },
  {
   "cell_type": "markdown",
   "id": "53380d25",
   "metadata": {},
   "source": [
    "## Standard Deviation of v1"
   ]
  },
  {
   "cell_type": "code",
   "execution_count": 20,
   "id": "22654817",
   "metadata": {},
   "outputs": [
    {
     "data": {
      "text/plain": [
       "3.9258689767008565"
      ]
     },
     "execution_count": 20,
     "metadata": {},
     "output_type": "execute_result"
    }
   ],
   "source": [
    "std= np.std(v1)\n",
    "std"
   ]
  },
  {
   "cell_type": "markdown",
   "id": "74b4d8a7",
   "metadata": {},
   "source": [
    "## Creating a Histogram"
   ]
  },
  {
   "cell_type": "code",
   "execution_count": 21,
   "id": "b4531c57",
   "metadata": {},
   "outputs": [
    {
     "data": {
      "image/png": "[encoded data removed]",
      "text/plain": [
       "<Figure size 432x288 with 1 Axes>"
      ]
     },
     "metadata": {
      "needs_background": "light"
     },
     "output_type": "display_data"
    }
   ],
   "source": [
    "plt.hist(v1)\n",
    "plt.ylabel('V[i]')\n",
    "plt.xlabel('i')\n",
    "plt.title('Histogram of V1')\n",
    "plt.show()"
   ]
  },
  {
   "cell_type": "markdown",
   "id": "c0424f0f",
   "metadata": {},
   "source": [
    "# Question 2"
   ]
  },
  {
   "cell_type": "markdown",
   "id": "c0e23b19",
   "metadata": {},
   "source": [
    "## Generating Random Variables"
   ]
  },
  {
   "cell_type": "code",
   "execution_count": 22,
   "id": "87ce27a4",
   "metadata": {},
   "outputs": [],
   "source": [
    "x = np.random.normal(1,4,100)"
   ]
  },
  {
   "cell_type": "markdown",
   "id": "d1e9cf17",
   "metadata": {},
   "source": [
    "## Histogram"
   ]
  },
  {
   "cell_type": "code",
   "execution_count": 23,
   "id": "bb462a24",
   "metadata": {},
   "outputs": [
    {
     "data": {
      "image/png": "[encoded data removed]",
      "text/plain": [
       "<Figure size 432x288 with 1 Axes>"
      ]
     },
     "metadata": {
      "needs_background": "light"
     },
     "output_type": "display_data"
    }
   ],
   "source": [
    "plt.hist(x)\n",
    "plt.plot(x, norm.pdf(x, 0, 1), 'k', linewidth=2)\n",
    "plt.xlabel('i')\n",
    "plt.ylabel('x[i]')\n",
    "plt.title('Histogram')\n",
    "plt.show()"
   ]
  },
  {
   "cell_type": "markdown",
   "id": "e472e7e8",
   "metadata": {},
   "source": [
    "## Generating Random Variables"
   ]
  },
  {
   "cell_type": "code",
   "execution_count": 24,
   "id": "2997acce",
   "metadata": {},
   "outputs": [],
   "source": [
    "e = np.random.normal(0,1, 100)"
   ]
  },
  {
   "cell_type": "markdown",
   "id": "54ff0c42",
   "metadata": {},
   "source": [
    "## Creating Y as a function of x and e"
   ]
  },
  {
   "cell_type": "code",
   "execution_count": 25,
   "id": "acca1371",
   "metadata": {},
   "outputs": [],
   "source": [
    "y = 3*x + e"
   ]
  },
  {
   "cell_type": "markdown",
   "id": "8bf41e30",
   "metadata": {},
   "source": [
    "## Creating a Scatter Plot"
   ]
  },
  {
   "cell_type": "code",
   "execution_count": 26,
   "id": "b8859a08",
   "metadata": {},
   "outputs": [
    {
     "data": {
      "image/png": "[encoded data removed]",
      "text/plain": [
       "<Figure size 432x288 with 1 Axes>"
      ]
     },
     "metadata": {
      "needs_background": "light"
     },
     "output_type": "display_data"
    }
   ],
   "source": [
    "plt.scatter(x,y)\n",
    "plt.xlabel('x')\n",
    "plt.ylabel('y')\n",
    "plt.title('scatter plot')\n",
    "plt.show()"
   ]
  },
  {
   "cell_type": "markdown",
   "id": "a6abb5a4",
   "metadata": {},
   "source": [
    "# Question 6\n",
    "Parts a: 1-4\n",
    "\n",
    "Scores ~ N(10,2)"
   ]
  },
  {
   "cell_type": "code",
   "execution_count": 27,
   "id": "f2259344",
   "metadata": {},
   "outputs": [
    {
     "data": {
      "text/plain": [
       "array([13.10093834,  5.71546142, 10.19094199, ..., 12.02502922,\n",
       "        9.08009265,  9.55044676])"
      ]
     },
     "execution_count": 27,
     "metadata": {},
     "output_type": "execute_result"
    }
   ],
   "source": [
    "\n",
    "\n",
    "x1= np.random.normal(10,2,10000)\n",
    "x1"
   ]
  },
  {
   "cell_type": "markdown",
   "id": "60e5ad3b",
   "metadata": {},
   "source": [
    "## Estimate P(7<=x1<=11)"
   ]
  },
  {
   "cell_type": "code",
   "execution_count": 28,
   "id": "30dc52ef",
   "metadata": {},
   "outputs": [
    {
     "name": "stdout",
     "output_type": "stream",
     "text": [
      "P: 0.6321\n"
     ]
    }
   ],
   "source": [
    "sx1 = np.count_nonzero((x1>=7)&(x1<=11))\n",
    "px1=sx1/len(x1)\n",
    "\n",
    "print('P:',px1)"
   ]
  },
  {
   "cell_type": "code",
   "execution_count": 29,
   "id": "ce1a755a",
   "metadata": {},
   "outputs": [
    {
     "data": {
      "text/plain": [
       "array([11.76373561,  9.87872757,  7.51582918, ...,  6.87708684,\n",
       "       12.70046228,  8.25299578])"
      ]
     },
     "execution_count": 29,
     "metadata": {},
     "output_type": "execute_result"
    }
   ],
   "source": [
    "x2= np.random.normal(10,2,10000)\n",
    "x2"
   ]
  },
  {
   "cell_type": "markdown",
   "id": "eeba8b2f",
   "metadata": {},
   "source": [
    "## Estimate P(7<=(x1+x2)/2<=11)"
   ]
  },
  {
   "cell_type": "code",
   "execution_count": 30,
   "id": "b193d812",
   "metadata": {},
   "outputs": [
    {
     "name": "stdout",
     "output_type": "stream",
     "text": [
      "P: 0.7472\n"
     ]
    }
   ],
   "source": [
    "y=(x1+x2)/2\n",
    "\n",
    "sy=np.count_nonzero((y>=7)&(y<=11))\n",
    "\n",
    "py= sy/len(y)\n",
    "\n",
    "print('P:',py)"
   ]
  },
  {
   "cell_type": "code",
   "execution_count": null,
   "id": "9add266f",
   "metadata": {},
   "outputs": [],
   "source": []
  },
  {
   "cell_type": "code",
   "execution_count": null,
   "id": "b81b7ac9",
   "metadata": {},
   "outputs": [],
   "source": []
  },
  {
   "cell_type": "code",
   "execution_count": null,
   "id": "b20140b1",
   "metadata": {},
   "outputs": [],
   "source": []
  },
  {
   "cell_type": "code",
   "execution_count": null,
   "id": "e8b4b675",
   "metadata": {},
   "outputs": [],
   "source": []
  },
  {
   "cell_type": "code",
   "execution_count": null,
   "id": "43a2e5a8",
   "metadata": {},
   "outputs": [],
   "source": []
  },
  {
   "cell_type": "code",
   "execution_count": null,
   "id": "f2ae36e6",
   "metadata": {},
   "outputs": [],
   "source": []
  },
  {
   "cell_type": "code",
   "execution_count": null,
   "id": "1597de03",
   "metadata": {},
   "outputs": [],
   "source": []
  },
  {
   "cell_type": "code",
   "execution_count": null,
   "id": "5b2a5519",
   "metadata": {},
   "outputs": [],
   "source": []
  },
  {
   "cell_type": "code",
   "execution_count": null,
   "id": "b169a1ca",
   "metadata": {},
   "outputs": [],
   "source": []
  },
  {
   "cell_type": "code",
   "execution_count": null,
   "id": "11e4a4b3",
   "metadata": {},
   "outputs": [],
   "source": []
  },
  {
   "cell_type": "code",
   "execution_count": null,
   "id": "2ea24d51",
   "metadata": {},
   "outputs": [],
   "source": []
  },
  {
   "cell_type": "code",
   "execution_count": null,
   "id": "4b72d088",
   "metadata": {},
   "outputs": [],
   "source": []
  },
  {
   "cell_type": "code",
   "execution_count": null,
   "id": "fe55de7f",
   "metadata": {},
   "outputs": [],
   "source": []
  },
  {
   "cell_type": "code",
   "execution_count": null,
   "id": "1d45c3c0",
   "metadata": {},
   "outputs": [],
   "source": []
  },
  {
   "cell_type": "code",
   "execution_count": null,
   "id": "8ffbdb8c",
   "metadata": {},
   "outputs": [],
   "source": []
  },
  {
   "cell_type": "code",
   "execution_count": null,
   "id": "109d7bf0",
   "metadata": {},
   "outputs": [],
   "source": []
  },
  {
   "cell_type": "code",
   "execution_count": null,
   "id": "7055faef",
   "metadata": {},
   "outputs": [],
   "source": []
  },
  {
   "cell_type": "code",
   "execution_count": null,
   "id": "c9e6c479",
   "metadata": {},
   "outputs": [],
   "source": []
  },
  {
   "cell_type": "code",
   "execution_count": null,
   "id": "5c3fba40",
   "metadata": {},
   "outputs": [],
   "source": []
  },
  {
   "cell_type": "code",
   "execution_count": null,
   "id": "24005ae8",
   "metadata": {},
   "outputs": [],
   "source": []
  },
  {
   "cell_type": "code",
   "execution_count": null,
   "id": "0e418325",
   "metadata": {},
   "outputs": [],
   "source": []
  },
  {
   "cell_type": "code",
   "execution_count": null,
   "id": "eea4b163",
   "metadata": {},
   "outputs": [],
   "source": []
  }
 ],
 "metadata": {
  "kernelspec": {
   "display_name": "Python 3 (ipykernel)",
   "language": "python",
   "name": "python3"
  },
  "language_info": {
   "codemirror_mode": {
    "name": "ipython",
    "version": 3
   },
   "file_extension": ".py",
   "mimetype": "text/x-python",
   "name": "python",
   "nbconvert_exporter": "python",
   "pygments_lexer": "ipython3",
   "version": "3.9.12"
  }
 },
 "nbformat": 4,
 "nbformat_minor": 5
}
