{
 "cells": [
  {
   "cell_type": "code",
   "execution_count": 1,
   "id": "8518ba52",
   "metadata": {},
   "outputs": [],
   "source": [
    "'''TASK 1'''\n",
    "from gettext import install\n",
    "import pandas as pd\n",
    "import matplotlib.pyplot as plt\n",
    "import numpy as np\n",
    "import seaborn as sns\n",
    "from scipy.stats import chi2_contingency\n",
    "from sklearn.metrics import mutual_info_score\n",
    "from sklearn.feature_selection import mutual_info_classif, mutual_info_regression\n",
    "from sklearn.preprocessing import Normalizer\n",
    "from sklearn.preprocessing import MinMaxScaler\n",
    "%matplotlib inline"
   ]
  },
  {
   "cell_type": "code",
   "execution_count": 3,
   "id": "e5ae5e7f",
   "metadata": {},
   "outputs": [
    {
     "data": {
      "text/html": [
       "<div>\n",
       "<style scoped>\n",
       "    .dataframe tbody tr th:only-of-type {\n",
       "        vertical-align: middle;\n",
       "    }\n",
       "\n",
       "    .dataframe tbody tr th {\n",
       "        vertical-align: top;\n",
       "    }\n",
       "\n",
       "    .dataframe thead th {\n",
       "        text-align: right;\n",
       "    }\n",
       "</style>\n",
       "<table border=\"1\" class=\"dataframe\">\n",
       "  <thead>\n",
       "    <tr style=\"text-align: right;\">\n",
       "      <th></th>\n",
       "      <th>ID</th>\n",
       "      <th>LIMIT_BAL</th>\n",
       "      <th>SEX</th>\n",
       "      <th>EDUCATION</th>\n",
       "      <th>MARRIAGE</th>\n",
       "      <th>AGE</th>\n",
       "      <th>PAY_0</th>\n",
       "      <th>PAY_2</th>\n",
       "      <th>PAY_3</th>\n",
       "      <th>PAY_4</th>\n",
       "      <th>...</th>\n",
       "      <th>BILL_AMT4</th>\n",
       "      <th>BILL_AMT5</th>\n",
       "      <th>BILL_AMT6</th>\n",
       "      <th>PAY_AMT1</th>\n",
       "      <th>PAY_AMT2</th>\n",
       "      <th>PAY_AMT3</th>\n",
       "      <th>PAY_AMT4</th>\n",
       "      <th>PAY_AMT5</th>\n",
       "      <th>PAY_AMT6</th>\n",
       "      <th>default payment next month</th>\n",
       "    </tr>\n",
       "  </thead>\n",
       "  <tbody>\n",
       "    <tr>\n",
       "      <th>0</th>\n",
       "      <td>5771</td>\n",
       "      <td>180000</td>\n",
       "      <td>1</td>\n",
       "      <td>2</td>\n",
       "      <td>1</td>\n",
       "      <td>38</td>\n",
       "      <td>1</td>\n",
       "      <td>2</td>\n",
       "      <td>2</td>\n",
       "      <td>0</td>\n",
       "      <td>...</td>\n",
       "      <td>5071</td>\n",
       "      <td>5195</td>\n",
       "      <td>0</td>\n",
       "      <td>2000</td>\n",
       "      <td>200</td>\n",
       "      <td>500</td>\n",
       "      <td>124</td>\n",
       "      <td>0</td>\n",
       "      <td>0</td>\n",
       "      <td>1</td>\n",
       "    </tr>\n",
       "    <tr>\n",
       "      <th>1</th>\n",
       "      <td>3999</td>\n",
       "      <td>20000</td>\n",
       "      <td>2</td>\n",
       "      <td>1</td>\n",
       "      <td>2</td>\n",
       "      <td>23</td>\n",
       "      <td>2</td>\n",
       "      <td>2</td>\n",
       "      <td>2</td>\n",
       "      <td>2</td>\n",
       "      <td>...</td>\n",
       "      <td>12957</td>\n",
       "      <td>13104</td>\n",
       "      <td>12744</td>\n",
       "      <td>3500</td>\n",
       "      <td>200</td>\n",
       "      <td>1000</td>\n",
       "      <td>500</td>\n",
       "      <td>0</td>\n",
       "      <td>1000</td>\n",
       "      <td>1</td>\n",
       "    </tr>\n",
       "    <tr>\n",
       "      <th>2</th>\n",
       "      <td>397</td>\n",
       "      <td>100000</td>\n",
       "      <td>1</td>\n",
       "      <td>1</td>\n",
       "      <td>2</td>\n",
       "      <td>38</td>\n",
       "      <td>0</td>\n",
       "      <td>0</td>\n",
       "      <td>0</td>\n",
       "      <td>0</td>\n",
       "      <td>...</td>\n",
       "      <td>43011</td>\n",
       "      <td>43011</td>\n",
       "      <td>28947</td>\n",
       "      <td>2502</td>\n",
       "      <td>1200</td>\n",
       "      <td>860</td>\n",
       "      <td>0</td>\n",
       "      <td>579</td>\n",
       "      <td>0</td>\n",
       "      <td>0</td>\n",
       "    </tr>\n",
       "    <tr>\n",
       "      <th>3</th>\n",
       "      <td>15467</td>\n",
       "      <td>220000</td>\n",
       "      <td>1</td>\n",
       "      <td>1</td>\n",
       "      <td>2</td>\n",
       "      <td>30</td>\n",
       "      <td>2</td>\n",
       "      <td>0</td>\n",
       "      <td>0</td>\n",
       "      <td>0</td>\n",
       "      <td>...</td>\n",
       "      <td>90889</td>\n",
       "      <td>91892</td>\n",
       "      <td>93815</td>\n",
       "      <td>5000</td>\n",
       "      <td>5000</td>\n",
       "      <td>4200</td>\n",
       "      <td>4000</td>\n",
       "      <td>4000</td>\n",
       "      <td>5000</td>\n",
       "      <td>0</td>\n",
       "    </tr>\n",
       "    <tr>\n",
       "      <th>4</th>\n",
       "      <td>16482</td>\n",
       "      <td>240000</td>\n",
       "      <td>2</td>\n",
       "      <td>4</td>\n",
       "      <td>1</td>\n",
       "      <td>59</td>\n",
       "      <td>0</td>\n",
       "      <td>0</td>\n",
       "      <td>0</td>\n",
       "      <td>0</td>\n",
       "      <td>...</td>\n",
       "      <td>241075</td>\n",
       "      <td>146440</td>\n",
       "      <td>132290</td>\n",
       "      <td>8357</td>\n",
       "      <td>10001</td>\n",
       "      <td>10000</td>\n",
       "      <td>10000</td>\n",
       "      <td>5000</td>\n",
       "      <td>20000</td>\n",
       "      <td>0</td>\n",
       "    </tr>\n",
       "    <tr>\n",
       "      <th>...</th>\n",
       "      <td>...</td>\n",
       "      <td>...</td>\n",
       "      <td>...</td>\n",
       "      <td>...</td>\n",
       "      <td>...</td>\n",
       "      <td>...</td>\n",
       "      <td>...</td>\n",
       "      <td>...</td>\n",
       "      <td>...</td>\n",
       "      <td>...</td>\n",
       "      <td>...</td>\n",
       "      <td>...</td>\n",
       "      <td>...</td>\n",
       "      <td>...</td>\n",
       "      <td>...</td>\n",
       "      <td>...</td>\n",
       "      <td>...</td>\n",
       "      <td>...</td>\n",
       "      <td>...</td>\n",
       "      <td>...</td>\n",
       "      <td>...</td>\n",
       "    </tr>\n",
       "    <tr>\n",
       "      <th>23995</th>\n",
       "      <td>20939</td>\n",
       "      <td>280000</td>\n",
       "      <td>1</td>\n",
       "      <td>2</td>\n",
       "      <td>2</td>\n",
       "      <td>39</td>\n",
       "      <td>-2</td>\n",
       "      <td>-2</td>\n",
       "      <td>-2</td>\n",
       "      <td>-2</td>\n",
       "      <td>...</td>\n",
       "      <td>4071</td>\n",
       "      <td>-30</td>\n",
       "      <td>-30</td>\n",
       "      <td>12577</td>\n",
       "      <td>4897</td>\n",
       "      <td>4176</td>\n",
       "      <td>0</td>\n",
       "      <td>0</td>\n",
       "      <td>0</td>\n",
       "      <td>0</td>\n",
       "    </tr>\n",
       "    <tr>\n",
       "      <th>23996</th>\n",
       "      <td>4919</td>\n",
       "      <td>260000</td>\n",
       "      <td>2</td>\n",
       "      <td>1</td>\n",
       "      <td>2</td>\n",
       "      <td>39</td>\n",
       "      <td>0</td>\n",
       "      <td>0</td>\n",
       "      <td>0</td>\n",
       "      <td>0</td>\n",
       "      <td>...</td>\n",
       "      <td>95975</td>\n",
       "      <td>62817</td>\n",
       "      <td>61221</td>\n",
       "      <td>30054</td>\n",
       "      <td>20057</td>\n",
       "      <td>5113</td>\n",
       "      <td>3040</td>\n",
       "      <td>20000</td>\n",
       "      <td>30007</td>\n",
       "      <td>0</td>\n",
       "    </tr>\n",
       "    <tr>\n",
       "      <th>23997</th>\n",
       "      <td>1437</td>\n",
       "      <td>80000</td>\n",
       "      <td>2</td>\n",
       "      <td>1</td>\n",
       "      <td>2</td>\n",
       "      <td>29</td>\n",
       "      <td>0</td>\n",
       "      <td>0</td>\n",
       "      <td>0</td>\n",
       "      <td>2</td>\n",
       "      <td>...</td>\n",
       "      <td>80422</td>\n",
       "      <td>78284</td>\n",
       "      <td>77270</td>\n",
       "      <td>2842</td>\n",
       "      <td>20412</td>\n",
       "      <td>0</td>\n",
       "      <td>3000</td>\n",
       "      <td>3000</td>\n",
       "      <td>3000</td>\n",
       "      <td>1</td>\n",
       "    </tr>\n",
       "    <tr>\n",
       "      <th>23998</th>\n",
       "      <td>1764</td>\n",
       "      <td>500000</td>\n",
       "      <td>1</td>\n",
       "      <td>1</td>\n",
       "      <td>2</td>\n",
       "      <td>33</td>\n",
       "      <td>-1</td>\n",
       "      <td>-1</td>\n",
       "      <td>-1</td>\n",
       "      <td>-2</td>\n",
       "      <td>...</td>\n",
       "      <td>4158</td>\n",
       "      <td>7958</td>\n",
       "      <td>-196</td>\n",
       "      <td>2065</td>\n",
       "      <td>10556</td>\n",
       "      <td>4170</td>\n",
       "      <td>7963</td>\n",
       "      <td>196</td>\n",
       "      <td>7083</td>\n",
       "      <td>0</td>\n",
       "    </tr>\n",
       "    <tr>\n",
       "      <th>23999</th>\n",
       "      <td>12498</td>\n",
       "      <td>200000</td>\n",
       "      <td>1</td>\n",
       "      <td>1</td>\n",
       "      <td>2</td>\n",
       "      <td>34</td>\n",
       "      <td>0</td>\n",
       "      <td>0</td>\n",
       "      <td>0</td>\n",
       "      <td>2</td>\n",
       "      <td>...</td>\n",
       "      <td>155355</td>\n",
       "      <td>129942</td>\n",
       "      <td>118202</td>\n",
       "      <td>10000</td>\n",
       "      <td>15000</td>\n",
       "      <td>0</td>\n",
       "      <td>10000</td>\n",
       "      <td>0</td>\n",
       "      <td>11000</td>\n",
       "      <td>1</td>\n",
       "    </tr>\n",
       "  </tbody>\n",
       "</table>\n",
       "<p>24000 rows × 25 columns</p>\n",
       "</div>"
      ],
      "text/plain": [
       "          ID  LIMIT_BAL  SEX  EDUCATION  MARRIAGE  AGE  PAY_0  PAY_2  PAY_3  \\\n",
       "0       5771     180000    1          2         1   38      1      2      2   \n",
       "1       3999      20000    2          1         2   23      2      2      2   \n",
       "2        397     100000    1          1         2   38      0      0      0   \n",
       "3      15467     220000    1          1         2   30      2      0      0   \n",
       "4      16482     240000    2          4         1   59      0      0      0   \n",
       "...      ...        ...  ...        ...       ...  ...    ...    ...    ...   \n",
       "23995  20939     280000    1          2         2   39     -2     -2     -2   \n",
       "23996   4919     260000    2          1         2   39      0      0      0   \n",
       "23997   1437      80000    2          1         2   29      0      0      0   \n",
       "23998   1764     500000    1          1         2   33     -1     -1     -1   \n",
       "23999  12498     200000    1          1         2   34      0      0      0   \n",
       "\n",
       "       PAY_4  ...  BILL_AMT4  BILL_AMT5  BILL_AMT6  PAY_AMT1  PAY_AMT2  \\\n",
       "0          0  ...       5071       5195          0      2000       200   \n",
       "1          2  ...      12957      13104      12744      3500       200   \n",
       "2          0  ...      43011      43011      28947      2502      1200   \n",
       "3          0  ...      90889      91892      93815      5000      5000   \n",
       "4          0  ...     241075     146440     132290      8357     10001   \n",
       "...      ...  ...        ...        ...        ...       ...       ...   \n",
       "23995     -2  ...       4071        -30        -30     12577      4897   \n",
       "23996      0  ...      95975      62817      61221     30054     20057   \n",
       "23997      2  ...      80422      78284      77270      2842     20412   \n",
       "23998     -2  ...       4158       7958       -196      2065     10556   \n",
       "23999      2  ...     155355     129942     118202     10000     15000   \n",
       "\n",
       "       PAY_AMT3  PAY_AMT4  PAY_AMT5  PAY_AMT6  default payment next month  \n",
       "0           500       124         0         0                           1  \n",
       "1          1000       500         0      1000                           1  \n",
       "2           860         0       579         0                           0  \n",
       "3          4200      4000      4000      5000                           0  \n",
       "4         10000     10000      5000     20000                           0  \n",
       "...         ...       ...       ...       ...                         ...  \n",
       "23995      4176         0         0         0                           0  \n",
       "23996      5113      3040     20000     30007                           0  \n",
       "23997         0      3000      3000      3000                           1  \n",
       "23998      4170      7963       196      7083                           0  \n",
       "23999         0     10000         0     11000                           1  \n",
       "\n",
       "[24000 rows x 25 columns]"
      ]
     },
     "execution_count": 3,
     "metadata": {},
     "output_type": "execute_result"
    }
   ],
   "source": [
    "df=pd.read_csv(\n",
    "    'credit cards-2022-post.csv',\n",
    ")\n",
    "df"
   ]
  },
  {
   "cell_type": "code",
   "execution_count": 4,
   "id": "92ae0316",
   "metadata": {},
   "outputs": [
    {
     "data": {
      "text/plain": [
       "ID                                 1\n",
       "LIMIT_BAL                      10000\n",
       "SEX                                1\n",
       "EDUCATION                          0\n",
       "MARRIAGE                           0\n",
       "AGE                               21\n",
       "PAY_0                             -2\n",
       "PAY_2                             -2\n",
       "PAY_3                             -2\n",
       "PAY_4                             -2\n",
       "PAY_5                             -2\n",
       "PAY_6                             -2\n",
       "BILL_AMT1                    -165580\n",
       "BILL_AMT2                     -69777\n",
       "BILL_AMT3                    -157264\n",
       "BILL_AMT4                    -170000\n",
       "BILL_AMT5                     -81334\n",
       "BILL_AMT6                    -209051\n",
       "PAY_AMT1                           0\n",
       "PAY_AMT2                           0\n",
       "PAY_AMT3                           0\n",
       "PAY_AMT4                           0\n",
       "PAY_AMT5                           0\n",
       "PAY_AMT6                           0\n",
       "default payment next month         0\n",
       "dtype: int64"
      ]
     },
     "execution_count": 4,
     "metadata": {},
     "output_type": "execute_result"
    }
   ],
   "source": [
    "df.min()"
   ]
  },
  {
   "cell_type": "code",
   "execution_count": 5,
   "id": "38670473",
   "metadata": {},
   "outputs": [
    {
     "data": {
      "text/plain": [
       "ID                              30000\n",
       "LIMIT_BAL                      800000\n",
       "SEX                                 2\n",
       "EDUCATION                           6\n",
       "MARRIAGE                            3\n",
       "AGE                                75\n",
       "PAY_0                               8\n",
       "PAY_2                               8\n",
       "PAY_3                               8\n",
       "PAY_4                               8\n",
       "PAY_5                               8\n",
       "PAY_6                               8\n",
       "BILL_AMT1                      746814\n",
       "BILL_AMT2                      743970\n",
       "BILL_AMT3                     1664089\n",
       "BILL_AMT4                      706864\n",
       "BILL_AMT5                      823540\n",
       "BILL_AMT6                      699944\n",
       "PAY_AMT1                       873552\n",
       "PAY_AMT2                      1684259\n",
       "PAY_AMT3                       889043\n",
       "PAY_AMT4                       621000\n",
       "PAY_AMT5                       426529\n",
       "PAY_AMT6                       528666\n",
       "default payment next month          1\n",
       "dtype: int64"
      ]
     },
     "execution_count": 5,
     "metadata": {},
     "output_type": "execute_result"
    }
   ],
   "source": [
    "df.max()"
   ]
  },
  {
   "cell_type": "code",
   "execution_count": 6,
   "id": "c3231f4d",
   "metadata": {},
   "outputs": [
    {
     "ename": "AttributeError",
     "evalue": "'DataFrame' object has no attribute 'range'",
     "output_type": "error",
     "traceback": [
      "\u001b[1;31m---------------------------------------------------------------------------\u001b[0m",
      "\u001b[1;31mAttributeError\u001b[0m                            Traceback (most recent call last)",
      "Input \u001b[1;32mIn [6]\u001b[0m, in \u001b[0;36m<cell line: 1>\u001b[1;34m()\u001b[0m\n\u001b[1;32m----> 1\u001b[0m \u001b[43mdf\u001b[49m\u001b[38;5;241;43m.\u001b[39;49m\u001b[43mrange\u001b[49m()\n",
      "File \u001b[1;32mC:\\ProgramData\\Anaconda3\\lib\\site-packages\\pandas\\core\\generic.py:5575\u001b[0m, in \u001b[0;36mNDFrame.__getattr__\u001b[1;34m(self, name)\u001b[0m\n\u001b[0;32m   5568\u001b[0m \u001b[38;5;28;01mif\u001b[39;00m (\n\u001b[0;32m   5569\u001b[0m     name \u001b[38;5;129;01mnot\u001b[39;00m \u001b[38;5;129;01min\u001b[39;00m \u001b[38;5;28mself\u001b[39m\u001b[38;5;241m.\u001b[39m_internal_names_set\n\u001b[0;32m   5570\u001b[0m     \u001b[38;5;129;01mand\u001b[39;00m name \u001b[38;5;129;01mnot\u001b[39;00m \u001b[38;5;129;01min\u001b[39;00m \u001b[38;5;28mself\u001b[39m\u001b[38;5;241m.\u001b[39m_metadata\n\u001b[0;32m   5571\u001b[0m     \u001b[38;5;129;01mand\u001b[39;00m name \u001b[38;5;129;01mnot\u001b[39;00m \u001b[38;5;129;01min\u001b[39;00m \u001b[38;5;28mself\u001b[39m\u001b[38;5;241m.\u001b[39m_accessors\n\u001b[0;32m   5572\u001b[0m     \u001b[38;5;129;01mand\u001b[39;00m \u001b[38;5;28mself\u001b[39m\u001b[38;5;241m.\u001b[39m_info_axis\u001b[38;5;241m.\u001b[39m_can_hold_identifiers_and_holds_name(name)\n\u001b[0;32m   5573\u001b[0m ):\n\u001b[0;32m   5574\u001b[0m     \u001b[38;5;28;01mreturn\u001b[39;00m \u001b[38;5;28mself\u001b[39m[name]\n\u001b[1;32m-> 5575\u001b[0m \u001b[38;5;28;01mreturn\u001b[39;00m \u001b[38;5;28;43mobject\u001b[39;49m\u001b[38;5;241;43m.\u001b[39;49m\u001b[38;5;21;43m__getattribute__\u001b[39;49m\u001b[43m(\u001b[49m\u001b[38;5;28;43mself\u001b[39;49m\u001b[43m,\u001b[49m\u001b[43m \u001b[49m\u001b[43mname\u001b[49m\u001b[43m)\u001b[49m\n",
      "\u001b[1;31mAttributeError\u001b[0m: 'DataFrame' object has no attribute 'range'"
     ]
    }
   ],
   "source": [
    "df.range()"
   ]
  },
  {
   "cell_type": "code",
   "execution_count": null,
   "id": "ba19e5ae",
   "metadata": {},
   "outputs": [],
   "source": [
    "df.median()"
   ]
  },
  {
   "cell_type": "code",
   "execution_count": null,
   "id": "ceb0b724",
   "metadata": {},
   "outputs": [],
   "source": [
    "df.mean()"
   ]
  },
  {
   "cell_type": "code",
   "execution_count": 282,
   "id": "d44a3786",
   "metadata": {},
   "outputs": [
    {
     "data": {
      "text/plain": [
       "ID     LIMIT_BAL  SEX  EDUCATION  MARRIAGE  AGE  PAY_0  PAY_2  PAY_3  PAY_4  PAY_5  PAY_6  BILL_AMT1  BILL_AMT2  BILL_AMT3  BILL_AMT4  BILL_AMT5  BILL_AMT6  PAY_AMT1  PAY_AMT2  PAY_AMT3  PAY_AMT4  PAY_AMT5  PAY_AMT6  default payment next month\n",
       "1      20000      2    2          1         24    2      2     -1     -1     -2     -2      3913       3102      689        0          0          0          0         689       0         0         0         0         1                             1\n",
       "19967  370000     2    1          1         36   -2     -2     -2     -2     -2     -2      2788       25790     3007       4246       3737       2290       25794     3007      4305      3737      2290      22259     0                             1\n",
       "19977  210000     2    1          2         32    1     -2     -1     -1     -1     -1     -974       -974       20363      770        0          6138       0         21337     770       0         6138      0         0                             1\n",
       "19976  220000     2    1          1         41    0      0      2      0      0      0      138657     156689    150748     154481     156487     154870     22000     0         8000      7000      6500      5000      0                             1\n",
       "19975  180000     2    2          2         36   -2     -1     -1     -1     -2     -2      0          1290      2985       0          0          0          1290      2985      0         0         0         0         0                             1\n",
       "                                                                                                                                                                                                                                                      ..\n",
       "10018  360000     2    1          2         47    1      2      0      0      2      0      366577     345484    354469     187836     186172     189759     0         14148     11500     0         5324      5500      0                             1\n",
       "10017  150000     2    2          2         37    0      0      0      0      0      0      152349     152359    150257     79162      79617      79670      7000      7000      5000      3000      4000      3500      0                             1\n",
       "10015  140000     2    1          1         35    0      0      0      0      0      0      26187      28431     26141      24958      27574      27151      3000      2000      2000      3000      1661      3500      0                             1\n",
       "10013  40000      2    1          2         35    0      0      0      0      0      0      26801      36208     25378      28058      31145      38030      10000     5000      5000      5000      7500      4596      0                             1\n",
       "30000  50000      1    2          1         46    0      0      0      0      0      0      47929      48905     49764      36535      32428      15313      2078      1800      1430      1000      1000      1000      1                             1\n",
       "Length: 24000, dtype: int64"
      ]
     },
     "execution_count": 282,
     "metadata": {},
     "output_type": "execute_result"
    }
   ],
   "source": [
    "df.value_counts()"
   ]
  },
  {
   "cell_type": "code",
   "execution_count": 283,
   "id": "e98abcfd",
   "metadata": {},
   "outputs": [
    {
     "data": {
      "text/html": [
       "<div>\n",
       "<style scoped>\n",
       "    .dataframe tbody tr th:only-of-type {\n",
       "        vertical-align: middle;\n",
       "    }\n",
       "\n",
       "    .dataframe tbody tr th {\n",
       "        vertical-align: top;\n",
       "    }\n",
       "\n",
       "    .dataframe thead th {\n",
       "        text-align: right;\n",
       "    }\n",
       "</style>\n",
       "<table border=\"1\" class=\"dataframe\">\n",
       "  <thead>\n",
       "    <tr style=\"text-align: right;\">\n",
       "      <th></th>\n",
       "      <th>ID</th>\n",
       "      <th>LIMIT_BAL</th>\n",
       "      <th>SEX</th>\n",
       "      <th>EDUCATION</th>\n",
       "      <th>MARRIAGE</th>\n",
       "      <th>AGE</th>\n",
       "      <th>PAY_0</th>\n",
       "      <th>PAY_2</th>\n",
       "      <th>PAY_3</th>\n",
       "      <th>PAY_4</th>\n",
       "      <th>...</th>\n",
       "      <th>BILL_AMT4</th>\n",
       "      <th>BILL_AMT5</th>\n",
       "      <th>BILL_AMT6</th>\n",
       "      <th>PAY_AMT1</th>\n",
       "      <th>PAY_AMT2</th>\n",
       "      <th>PAY_AMT3</th>\n",
       "      <th>PAY_AMT4</th>\n",
       "      <th>PAY_AMT5</th>\n",
       "      <th>PAY_AMT6</th>\n",
       "      <th>default payment next month</th>\n",
       "    </tr>\n",
       "  </thead>\n",
       "  <tbody>\n",
       "    <tr>\n",
       "      <th>0</th>\n",
       "      <td>1</td>\n",
       "      <td>50000.0</td>\n",
       "      <td>2.0</td>\n",
       "      <td>2.0</td>\n",
       "      <td>2.0</td>\n",
       "      <td>29.0</td>\n",
       "      <td>0.0</td>\n",
       "      <td>0.0</td>\n",
       "      <td>0.0</td>\n",
       "      <td>0.0</td>\n",
       "      <td>...</td>\n",
       "      <td>0.0</td>\n",
       "      <td>0.0</td>\n",
       "      <td>0.0</td>\n",
       "      <td>0.0</td>\n",
       "      <td>0.0</td>\n",
       "      <td>0.0</td>\n",
       "      <td>0.0</td>\n",
       "      <td>0.0</td>\n",
       "      <td>0.0</td>\n",
       "      <td>0.0</td>\n",
       "    </tr>\n",
       "    <tr>\n",
       "      <th>1</th>\n",
       "      <td>2</td>\n",
       "      <td>NaN</td>\n",
       "      <td>NaN</td>\n",
       "      <td>NaN</td>\n",
       "      <td>NaN</td>\n",
       "      <td>NaN</td>\n",
       "      <td>NaN</td>\n",
       "      <td>NaN</td>\n",
       "      <td>NaN</td>\n",
       "      <td>NaN</td>\n",
       "      <td>...</td>\n",
       "      <td>NaN</td>\n",
       "      <td>NaN</td>\n",
       "      <td>NaN</td>\n",
       "      <td>NaN</td>\n",
       "      <td>NaN</td>\n",
       "      <td>NaN</td>\n",
       "      <td>NaN</td>\n",
       "      <td>NaN</td>\n",
       "      <td>NaN</td>\n",
       "      <td>NaN</td>\n",
       "    </tr>\n",
       "    <tr>\n",
       "      <th>2</th>\n",
       "      <td>3</td>\n",
       "      <td>NaN</td>\n",
       "      <td>NaN</td>\n",
       "      <td>NaN</td>\n",
       "      <td>NaN</td>\n",
       "      <td>NaN</td>\n",
       "      <td>NaN</td>\n",
       "      <td>NaN</td>\n",
       "      <td>NaN</td>\n",
       "      <td>NaN</td>\n",
       "      <td>...</td>\n",
       "      <td>NaN</td>\n",
       "      <td>NaN</td>\n",
       "      <td>NaN</td>\n",
       "      <td>NaN</td>\n",
       "      <td>NaN</td>\n",
       "      <td>NaN</td>\n",
       "      <td>NaN</td>\n",
       "      <td>NaN</td>\n",
       "      <td>NaN</td>\n",
       "      <td>NaN</td>\n",
       "    </tr>\n",
       "    <tr>\n",
       "      <th>3</th>\n",
       "      <td>4</td>\n",
       "      <td>NaN</td>\n",
       "      <td>NaN</td>\n",
       "      <td>NaN</td>\n",
       "      <td>NaN</td>\n",
       "      <td>NaN</td>\n",
       "      <td>NaN</td>\n",
       "      <td>NaN</td>\n",
       "      <td>NaN</td>\n",
       "      <td>NaN</td>\n",
       "      <td>...</td>\n",
       "      <td>NaN</td>\n",
       "      <td>NaN</td>\n",
       "      <td>NaN</td>\n",
       "      <td>NaN</td>\n",
       "      <td>NaN</td>\n",
       "      <td>NaN</td>\n",
       "      <td>NaN</td>\n",
       "      <td>NaN</td>\n",
       "      <td>NaN</td>\n",
       "      <td>NaN</td>\n",
       "    </tr>\n",
       "    <tr>\n",
       "      <th>4</th>\n",
       "      <td>5</td>\n",
       "      <td>NaN</td>\n",
       "      <td>NaN</td>\n",
       "      <td>NaN</td>\n",
       "      <td>NaN</td>\n",
       "      <td>NaN</td>\n",
       "      <td>NaN</td>\n",
       "      <td>NaN</td>\n",
       "      <td>NaN</td>\n",
       "      <td>NaN</td>\n",
       "      <td>...</td>\n",
       "      <td>NaN</td>\n",
       "      <td>NaN</td>\n",
       "      <td>NaN</td>\n",
       "      <td>NaN</td>\n",
       "      <td>NaN</td>\n",
       "      <td>NaN</td>\n",
       "      <td>NaN</td>\n",
       "      <td>NaN</td>\n",
       "      <td>NaN</td>\n",
       "      <td>NaN</td>\n",
       "    </tr>\n",
       "    <tr>\n",
       "      <th>...</th>\n",
       "      <td>...</td>\n",
       "      <td>...</td>\n",
       "      <td>...</td>\n",
       "      <td>...</td>\n",
       "      <td>...</td>\n",
       "      <td>...</td>\n",
       "      <td>...</td>\n",
       "      <td>...</td>\n",
       "      <td>...</td>\n",
       "      <td>...</td>\n",
       "      <td>...</td>\n",
       "      <td>...</td>\n",
       "      <td>...</td>\n",
       "      <td>...</td>\n",
       "      <td>...</td>\n",
       "      <td>...</td>\n",
       "      <td>...</td>\n",
       "      <td>...</td>\n",
       "      <td>...</td>\n",
       "      <td>...</td>\n",
       "      <td>...</td>\n",
       "    </tr>\n",
       "    <tr>\n",
       "      <th>23995</th>\n",
       "      <td>29996</td>\n",
       "      <td>NaN</td>\n",
       "      <td>NaN</td>\n",
       "      <td>NaN</td>\n",
       "      <td>NaN</td>\n",
       "      <td>NaN</td>\n",
       "      <td>NaN</td>\n",
       "      <td>NaN</td>\n",
       "      <td>NaN</td>\n",
       "      <td>NaN</td>\n",
       "      <td>...</td>\n",
       "      <td>NaN</td>\n",
       "      <td>NaN</td>\n",
       "      <td>NaN</td>\n",
       "      <td>NaN</td>\n",
       "      <td>NaN</td>\n",
       "      <td>NaN</td>\n",
       "      <td>NaN</td>\n",
       "      <td>NaN</td>\n",
       "      <td>NaN</td>\n",
       "      <td>NaN</td>\n",
       "    </tr>\n",
       "    <tr>\n",
       "      <th>23996</th>\n",
       "      <td>29997</td>\n",
       "      <td>NaN</td>\n",
       "      <td>NaN</td>\n",
       "      <td>NaN</td>\n",
       "      <td>NaN</td>\n",
       "      <td>NaN</td>\n",
       "      <td>NaN</td>\n",
       "      <td>NaN</td>\n",
       "      <td>NaN</td>\n",
       "      <td>NaN</td>\n",
       "      <td>...</td>\n",
       "      <td>NaN</td>\n",
       "      <td>NaN</td>\n",
       "      <td>NaN</td>\n",
       "      <td>NaN</td>\n",
       "      <td>NaN</td>\n",
       "      <td>NaN</td>\n",
       "      <td>NaN</td>\n",
       "      <td>NaN</td>\n",
       "      <td>NaN</td>\n",
       "      <td>NaN</td>\n",
       "    </tr>\n",
       "    <tr>\n",
       "      <th>23997</th>\n",
       "      <td>29998</td>\n",
       "      <td>NaN</td>\n",
       "      <td>NaN</td>\n",
       "      <td>NaN</td>\n",
       "      <td>NaN</td>\n",
       "      <td>NaN</td>\n",
       "      <td>NaN</td>\n",
       "      <td>NaN</td>\n",
       "      <td>NaN</td>\n",
       "      <td>NaN</td>\n",
       "      <td>...</td>\n",
       "      <td>NaN</td>\n",
       "      <td>NaN</td>\n",
       "      <td>NaN</td>\n",
       "      <td>NaN</td>\n",
       "      <td>NaN</td>\n",
       "      <td>NaN</td>\n",
       "      <td>NaN</td>\n",
       "      <td>NaN</td>\n",
       "      <td>NaN</td>\n",
       "      <td>NaN</td>\n",
       "    </tr>\n",
       "    <tr>\n",
       "      <th>23998</th>\n",
       "      <td>29999</td>\n",
       "      <td>NaN</td>\n",
       "      <td>NaN</td>\n",
       "      <td>NaN</td>\n",
       "      <td>NaN</td>\n",
       "      <td>NaN</td>\n",
       "      <td>NaN</td>\n",
       "      <td>NaN</td>\n",
       "      <td>NaN</td>\n",
       "      <td>NaN</td>\n",
       "      <td>...</td>\n",
       "      <td>NaN</td>\n",
       "      <td>NaN</td>\n",
       "      <td>NaN</td>\n",
       "      <td>NaN</td>\n",
       "      <td>NaN</td>\n",
       "      <td>NaN</td>\n",
       "      <td>NaN</td>\n",
       "      <td>NaN</td>\n",
       "      <td>NaN</td>\n",
       "      <td>NaN</td>\n",
       "    </tr>\n",
       "    <tr>\n",
       "      <th>23999</th>\n",
       "      <td>30000</td>\n",
       "      <td>NaN</td>\n",
       "      <td>NaN</td>\n",
       "      <td>NaN</td>\n",
       "      <td>NaN</td>\n",
       "      <td>NaN</td>\n",
       "      <td>NaN</td>\n",
       "      <td>NaN</td>\n",
       "      <td>NaN</td>\n",
       "      <td>NaN</td>\n",
       "      <td>...</td>\n",
       "      <td>NaN</td>\n",
       "      <td>NaN</td>\n",
       "      <td>NaN</td>\n",
       "      <td>NaN</td>\n",
       "      <td>NaN</td>\n",
       "      <td>NaN</td>\n",
       "      <td>NaN</td>\n",
       "      <td>NaN</td>\n",
       "      <td>NaN</td>\n",
       "      <td>NaN</td>\n",
       "    </tr>\n",
       "  </tbody>\n",
       "</table>\n",
       "<p>24000 rows × 25 columns</p>\n",
       "</div>"
      ],
      "text/plain": [
       "          ID  LIMIT_BAL  SEX  EDUCATION  MARRIAGE   AGE  PAY_0  PAY_2  PAY_3  \\\n",
       "0          1    50000.0  2.0        2.0       2.0  29.0    0.0    0.0    0.0   \n",
       "1          2        NaN  NaN        NaN       NaN   NaN    NaN    NaN    NaN   \n",
       "2          3        NaN  NaN        NaN       NaN   NaN    NaN    NaN    NaN   \n",
       "3          4        NaN  NaN        NaN       NaN   NaN    NaN    NaN    NaN   \n",
       "4          5        NaN  NaN        NaN       NaN   NaN    NaN    NaN    NaN   \n",
       "...      ...        ...  ...        ...       ...   ...    ...    ...    ...   \n",
       "23995  29996        NaN  NaN        NaN       NaN   NaN    NaN    NaN    NaN   \n",
       "23996  29997        NaN  NaN        NaN       NaN   NaN    NaN    NaN    NaN   \n",
       "23997  29998        NaN  NaN        NaN       NaN   NaN    NaN    NaN    NaN   \n",
       "23998  29999        NaN  NaN        NaN       NaN   NaN    NaN    NaN    NaN   \n",
       "23999  30000        NaN  NaN        NaN       NaN   NaN    NaN    NaN    NaN   \n",
       "\n",
       "       PAY_4  ...  BILL_AMT4  BILL_AMT5  BILL_AMT6  PAY_AMT1  PAY_AMT2  \\\n",
       "0        0.0  ...        0.0        0.0        0.0       0.0       0.0   \n",
       "1        NaN  ...        NaN        NaN        NaN       NaN       NaN   \n",
       "2        NaN  ...        NaN        NaN        NaN       NaN       NaN   \n",
       "3        NaN  ...        NaN        NaN        NaN       NaN       NaN   \n",
       "4        NaN  ...        NaN        NaN        NaN       NaN       NaN   \n",
       "...      ...  ...        ...        ...        ...       ...       ...   \n",
       "23995    NaN  ...        NaN        NaN        NaN       NaN       NaN   \n",
       "23996    NaN  ...        NaN        NaN        NaN       NaN       NaN   \n",
       "23997    NaN  ...        NaN        NaN        NaN       NaN       NaN   \n",
       "23998    NaN  ...        NaN        NaN        NaN       NaN       NaN   \n",
       "23999    NaN  ...        NaN        NaN        NaN       NaN       NaN   \n",
       "\n",
       "       PAY_AMT3  PAY_AMT4  PAY_AMT5  PAY_AMT6  default payment next month  \n",
       "0           0.0       0.0       0.0       0.0                         0.0  \n",
       "1           NaN       NaN       NaN       NaN                         NaN  \n",
       "2           NaN       NaN       NaN       NaN                         NaN  \n",
       "3           NaN       NaN       NaN       NaN                         NaN  \n",
       "4           NaN       NaN       NaN       NaN                         NaN  \n",
       "...         ...       ...       ...       ...                         ...  \n",
       "23995       NaN       NaN       NaN       NaN                         NaN  \n",
       "23996       NaN       NaN       NaN       NaN                         NaN  \n",
       "23997       NaN       NaN       NaN       NaN                         NaN  \n",
       "23998       NaN       NaN       NaN       NaN                         NaN  \n",
       "23999       NaN       NaN       NaN       NaN                         NaN  \n",
       "\n",
       "[24000 rows x 25 columns]"
      ]
     },
     "execution_count": 283,
     "metadata": {},
     "output_type": "execute_result"
    }
   ],
   "source": [
    "df.mode()"
   ]
  },
  {
   "cell_type": "code",
   "execution_count": 284,
   "id": "da229b10",
   "metadata": {},
   "outputs": [
    {
     "data": {
      "text/plain": [
       "ID                              8653.399015\n",
       "LIMIT_BAL                     129609.074302\n",
       "SEX                                0.489137\n",
       "EDUCATION                          0.789898\n",
       "MARRIAGE                           0.521726\n",
       "AGE                                9.211893\n",
       "PAY_0                              1.127733\n",
       "PAY_2                              1.196885\n",
       "PAY_3                              1.196360\n",
       "PAY_4                              1.167250\n",
       "PAY_5                              1.131697\n",
       "PAY_6                              1.149977\n",
       "BILL_AMT1                      72964.598363\n",
       "BILL_AMT2                      70911.001131\n",
       "BILL_AMT3                      69518.727686\n",
       "BILL_AMT4                      64045.332972\n",
       "BILL_AMT5                      60414.130512\n",
       "BILL_AMT6                      59237.618064\n",
       "PAY_AMT1                       16840.629423\n",
       "PAY_AMT2                       24442.456139\n",
       "PAY_AMT3                       17138.698559\n",
       "PAY_AMT4                       15916.894010\n",
       "PAY_AMT5                       15612.982861\n",
       "PAY_AMT6                       17887.171784\n",
       "default payment next month         0.416322\n",
       "dtype: float64"
      ]
     },
     "execution_count": 284,
     "metadata": {},
     "output_type": "execute_result"
    }
   ],
   "source": [
    "df.std()"
   ]
  },
  {
   "cell_type": "code",
   "execution_count": 285,
   "id": "1fcf0bab",
   "metadata": {
    "scrolled": true
   },
   "outputs": [
    {
     "data": {
      "text/plain": [
       "ID                            7.488131e+07\n",
       "LIMIT_BAL                     1.679851e+10\n",
       "SEX                           2.392546e-01\n",
       "EDUCATION                     6.239395e-01\n",
       "MARRIAGE                      2.721985e-01\n",
       "AGE                           8.485897e+01\n",
       "PAY_0                         1.271781e+00\n",
       "PAY_2                         1.432533e+00\n",
       "PAY_3                         1.431276e+00\n",
       "PAY_4                         1.362473e+00\n",
       "PAY_5                         1.280739e+00\n",
       "PAY_6                         1.322447e+00\n",
       "BILL_AMT1                     5.323833e+09\n",
       "BILL_AMT2                     5.028370e+09\n",
       "BILL_AMT3                     4.832853e+09\n",
       "BILL_AMT4                     4.101805e+09\n",
       "BILL_AMT5                     3.649867e+09\n",
       "BILL_AMT6                     3.509095e+09\n",
       "PAY_AMT1                      2.836068e+08\n",
       "PAY_AMT2                      5.974337e+08\n",
       "PAY_AMT3                      2.937350e+08\n",
       "PAY_AMT4                      2.533475e+08\n",
       "PAY_AMT5                      2.437652e+08\n",
       "PAY_AMT6                      3.199509e+08\n",
       "default payment next month    1.733244e-01\n",
       "dtype: float64"
      ]
     },
     "execution_count": 285,
     "metadata": {},
     "output_type": "execute_result"
    }
   ],
   "source": [
    "df.var()"
   ]
  },
  {
   "cell_type": "code",
   "execution_count": 286,
   "id": "9193fecb",
   "metadata": {},
   "outputs": [
    {
     "data": {
      "text/plain": [
       "Series([], Name: ID, dtype: int64)"
      ]
     },
     "execution_count": 286,
     "metadata": {},
     "output_type": "execute_result"
    }
   ],
   "source": [
    "q1=df['ID'].quantile(0.25)\n",
    "q3=df['ID'].quantile(0.75)\n",
    "iqr=q3-q1\n",
    "\n",
    "lower_lim=q1-1.5*iqr\n",
    "upper_lim=q3+1.5*iqr\n",
    "\n",
    "lower_out=(df['ID']<lower_lim)\n",
    "upper_out=(df['ID']>upper_lim)\n",
    "\n",
    "df['ID'][(lower_out|upper_out)]"
   ]
  },
  {
   "cell_type": "code",
   "execution_count": 287,
   "id": "fcd926a0",
   "metadata": {},
   "outputs": [
    {
     "data": {
      "text/plain": [
       "98       590000\n",
       "484      660000\n",
       "513      670000\n",
       "865      610000\n",
       "1208     710000\n",
       "          ...  \n",
       "22448    640000\n",
       "22468    610000\n",
       "22501    620000\n",
       "22589    710000\n",
       "23898    550000\n",
       "Name: LIMIT_BAL, Length: 128, dtype: int64"
      ]
     },
     "execution_count": 287,
     "metadata": {},
     "output_type": "execute_result"
    }
   ],
   "source": [
    "q1=df['LIMIT_BAL'].quantile(0.25)\n",
    "q3=df['LIMIT_BAL'].quantile(0.75)\n",
    "iqr=q3-q1\n",
    "\n",
    "lower_lim=q1-1.5*iqr\n",
    "upper_lim=q3+1.5*iqr\n",
    "\n",
    "lower_out=(df['LIMIT_BAL']<lower_lim)\n",
    "upper_out=(df['LIMIT_BAL']>upper_lim)\n",
    "\n",
    "df['LIMIT_BAL'][(lower_out|upper_out)]"
   ]
  },
  {
   "cell_type": "code",
   "execution_count": 288,
   "id": "4e4db54b",
   "metadata": {},
   "outputs": [
    {
     "data": {
      "text/plain": [
       "Series([], Name: SEX, dtype: int64)"
      ]
     },
     "execution_count": 288,
     "metadata": {},
     "output_type": "execute_result"
    }
   ],
   "source": [
    "q1=df['SEX'].quantile(0.25)\n",
    "q3=df['SEX'].quantile(0.75)\n",
    "iqr=q3-q1\n",
    "\n",
    "lower_lim=q1-1.5*iqr\n",
    "upper_lim=q3+1.5*iqr\n",
    "\n",
    "lower_out=(df['SEX']<lower_lim)\n",
    "upper_out=(df['SEX']>upper_lim)\n",
    "\n",
    "df['SEX'][(lower_out|upper_out)]"
   ]
  },
  {
   "cell_type": "code",
   "execution_count": 289,
   "id": "eb188464",
   "metadata": {},
   "outputs": [
    {
     "data": {
      "text/plain": [
       "4        4\n",
       "30       6\n",
       "161      5\n",
       "167      4\n",
       "180      5\n",
       "        ..\n",
       "23652    4\n",
       "23684    4\n",
       "23756    5\n",
       "23822    5\n",
       "23898    5\n",
       "Name: EDUCATION, Length: 363, dtype: int64"
      ]
     },
     "execution_count": 289,
     "metadata": {},
     "output_type": "execute_result"
    }
   ],
   "source": [
    "q1=df['EDUCATION'].quantile(0.25)\n",
    "q3=df['EDUCATION'].quantile(0.75)\n",
    "iqr=q3-q1\n",
    "\n",
    "lower_lim=q1-1.5*iqr\n",
    "upper_lim=q3+1.5*iqr\n",
    "\n",
    "lower_out=(df['EDUCATION']<lower_lim)\n",
    "upper_out=(df['EDUCATION']>upper_lim)\n",
    "\n",
    "df['EDUCATION'][(lower_out|upper_out)]"
   ]
  },
  {
   "cell_type": "code",
   "execution_count": 290,
   "id": "f929cedb",
   "metadata": {},
   "outputs": [
    {
     "data": {
      "text/plain": [
       "Series([], Name: MARRIAGE, dtype: int64)"
      ]
     },
     "execution_count": 290,
     "metadata": {},
     "output_type": "execute_result"
    }
   ],
   "source": [
    "q1=df['MARRIAGE'].quantile(0.25)\n",
    "q3=df['MARRIAGE'].quantile(0.75)\n",
    "iqr=q3-q1\n",
    "\n",
    "lower_lim=q1-1.5*iqr\n",
    "upper_lim=q3+1.5*iqr\n",
    "\n",
    "lower_out=(df['MARRIAGE']<lower_lim)\n",
    "upper_out=(df['MARRIAGE']>upper_lim)\n",
    "\n",
    "df['MARRIAGE'][(lower_out|upper_out)]"
   ]
  },
  {
   "cell_type": "code",
   "execution_count": 291,
   "id": "ad5bdeb6",
   "metadata": {},
   "outputs": [
    {
     "data": {
      "text/plain": [
       "31       61\n",
       "86       61\n",
       "98       63\n",
       "145      62\n",
       "395      62\n",
       "         ..\n",
       "23282    66\n",
       "23380    68\n",
       "23381    65\n",
       "23704    69\n",
       "23757    62\n",
       "Name: AGE, Length: 224, dtype: int64"
      ]
     },
     "execution_count": 291,
     "metadata": {},
     "output_type": "execute_result"
    }
   ],
   "source": [
    "q1=df['AGE'].quantile(0.25)\n",
    "q3=df['AGE'].quantile(0.75)\n",
    "iqr=q3-q1\n",
    "\n",
    "lower_lim=q1-1.5*iqr\n",
    "upper_lim=q3+1.5*iqr\n",
    "\n",
    "lower_out=(df['AGE']<lower_lim)\n",
    "upper_out=(df['AGE']>upper_lim)\n",
    "\n",
    "df['AGE'][(lower_out|upper_out)]"
   ]
  },
  {
   "cell_type": "code",
   "execution_count": 292,
   "id": "cda9deea",
   "metadata": {},
   "outputs": [
    {
     "data": {
      "text/plain": [
       "1        2\n",
       "3        2\n",
       "17       2\n",
       "26       2\n",
       "37       2\n",
       "        ..\n",
       "23958    2\n",
       "23975    2\n",
       "23977    2\n",
       "23982    3\n",
       "23991    3\n",
       "Name: PAY_0, Length: 2516, dtype: int64"
      ]
     },
     "execution_count": 292,
     "metadata": {},
     "output_type": "execute_result"
    }
   ],
   "source": [
    "q1=df['PAY_0'].quantile(0.25)\n",
    "q3=df['PAY_0'].quantile(0.75)\n",
    "iqr=q3-q1\n",
    "\n",
    "lower_lim=q1-1.5*iqr\n",
    "upper_lim=q3+1.5*iqr\n",
    "\n",
    "lower_out=(df['PAY_0']<lower_lim)\n",
    "upper_out=(df['PAY_0']>upper_lim)\n",
    "\n",
    "df['PAY_0'][(lower_out|upper_out)]"
   ]
  },
  {
   "cell_type": "code",
   "execution_count": 293,
   "id": "72c2d084",
   "metadata": {},
   "outputs": [
    {
     "data": {
      "text/plain": [
       "0        2\n",
       "1        2\n",
       "13       2\n",
       "16       2\n",
       "18       2\n",
       "        ..\n",
       "23977    2\n",
       "23982    2\n",
       "23983    2\n",
       "23984    2\n",
       "23991    2\n",
       "Name: PAY_2, Length: 3515, dtype: int64"
      ]
     },
     "execution_count": 293,
     "metadata": {},
     "output_type": "execute_result"
    }
   ],
   "source": [
    "q1=df['PAY_2'].quantile(0.25)\n",
    "q3=df['PAY_2'].quantile(0.75)\n",
    "iqr=q3-q1\n",
    "\n",
    "lower_lim=q1-1.5*iqr\n",
    "upper_lim=q3+1.5*iqr\n",
    "\n",
    "lower_out=(df['PAY_2']<lower_lim)\n",
    "upper_out=(df['PAY_2']>upper_lim)\n",
    "\n",
    "df['PAY_2'][(lower_out|upper_out)]"
   ]
  },
  {
   "cell_type": "code",
   "execution_count": 294,
   "id": "b86d9b1d",
   "metadata": {},
   "outputs": [
    {
     "data": {
      "text/plain": [
       "0        2\n",
       "1        2\n",
       "23       2\n",
       "26       2\n",
       "29       2\n",
       "        ..\n",
       "23982    3\n",
       "23983    2\n",
       "23984    2\n",
       "23989    2\n",
       "23991    2\n",
       "Name: PAY_3, Length: 3381, dtype: int64"
      ]
     },
     "execution_count": 294,
     "metadata": {},
     "output_type": "execute_result"
    }
   ],
   "source": [
    "q1=df['PAY_3'].quantile(0.25)\n",
    "q3=df['PAY_3'].quantile(0.75)\n",
    "iqr=q3-q1\n",
    "\n",
    "lower_lim=q1-1.5*iqr\n",
    "upper_lim=q3+1.5*iqr\n",
    "\n",
    "lower_out=(df['PAY_3']<lower_lim)\n",
    "upper_out=(df['PAY_3']>upper_lim)\n",
    "\n",
    "df['PAY_3'][(lower_out|upper_out)]"
   ]
  },
  {
   "cell_type": "code",
   "execution_count": 295,
   "id": "487ee6fc",
   "metadata": {},
   "outputs": [
    {
     "data": {
      "text/plain": [
       "1        2\n",
       "23       2\n",
       "26       2\n",
       "31       2\n",
       "54       2\n",
       "        ..\n",
       "23982    2\n",
       "23983    2\n",
       "23984    2\n",
       "23997    2\n",
       "23999    2\n",
       "Name: PAY_4, Length: 2810, dtype: int64"
      ]
     },
     "execution_count": 295,
     "metadata": {},
     "output_type": "execute_result"
    }
   ],
   "source": [
    "q1=df['PAY_4'].quantile(0.25)\n",
    "q3=df['PAY_4'].quantile(0.75)\n",
    "iqr=q3-q1\n",
    "\n",
    "lower_lim=q1-1.5*iqr\n",
    "upper_lim=q3+1.5*iqr\n",
    "\n",
    "lower_out=(df['PAY_4']<lower_lim)\n",
    "upper_out=(df['PAY_4']>upper_lim)\n",
    "\n",
    "df['PAY_4'][(lower_out|upper_out)]"
   ]
  },
  {
   "cell_type": "code",
   "execution_count": 296,
   "id": "515b7203",
   "metadata": {},
   "outputs": [
    {
     "data": {
      "text/plain": [
       "1        2\n",
       "26       2\n",
       "31       2\n",
       "38       2\n",
       "78       2\n",
       "        ..\n",
       "23981    2\n",
       "23982    2\n",
       "23983    2\n",
       "23984    2\n",
       "23999    2\n",
       "Name: PAY_5, Length: 2376, dtype: int64"
      ]
     },
     "execution_count": 296,
     "metadata": {},
     "output_type": "execute_result"
    }
   ],
   "source": [
    "q1=df['PAY_5'].quantile(0.25)\n",
    "q3=df['PAY_5'].quantile(0.75)\n",
    "iqr=q3-q1\n",
    "\n",
    "lower_lim=q1-1.5*iqr\n",
    "upper_lim=q3+1.5*iqr\n",
    "\n",
    "lower_out=(df['PAY_5']<lower_lim)\n",
    "upper_out=(df['PAY_5']>upper_lim)\n",
    "\n",
    "df['PAY_5'][(lower_out|upper_out)]"
   ]
  },
  {
   "cell_type": "code",
   "execution_count": 297,
   "id": "69cf5620",
   "metadata": {},
   "outputs": [
    {
     "data": {
      "text/plain": [
       "1        2\n",
       "11       2\n",
       "17       2\n",
       "26       2\n",
       "29       2\n",
       "        ..\n",
       "23981    2\n",
       "23982    2\n",
       "23983    2\n",
       "23984    2\n",
       "23999    2\n",
       "Name: PAY_6, Length: 2481, dtype: int64"
      ]
     },
     "execution_count": 297,
     "metadata": {},
     "output_type": "execute_result"
    }
   ],
   "source": [
    "q1=df['PAY_6'].quantile(0.25)\n",
    "q3=df['PAY_6'].quantile(0.75)\n",
    "iqr=q3-q1\n",
    "\n",
    "lower_lim=q1-1.5*iqr\n",
    "upper_lim=q3+1.5*iqr\n",
    "\n",
    "lower_out=(df['PAY_6']<lower_lim)\n",
    "upper_out=(df['PAY_6']>upper_lim)\n",
    "\n",
    "df['PAY_6'][(lower_out|upper_out)]"
   ]
  },
  {
   "cell_type": "code",
   "execution_count": 298,
   "id": "10c93130",
   "metadata": {},
   "outputs": [
    {
     "data": {
      "text/plain": [
       "4        233918\n",
       "56       212601\n",
       "83       260991\n",
       "86       353176\n",
       "91       170440\n",
       "          ...  \n",
       "23971    184050\n",
       "23972    206714\n",
       "23974    177961\n",
       "23979    191953\n",
       "23990    274731\n",
       "Name: BILL_AMT1, Length: 1895, dtype: int64"
      ]
     },
     "execution_count": 298,
     "metadata": {},
     "output_type": "execute_result"
    }
   ],
   "source": [
    "q1=df['BILL_AMT1'].quantile(0.25)\n",
    "q3=df['BILL_AMT1'].quantile(0.75)\n",
    "iqr=q3-q1\n",
    "\n",
    "lower_lim=q1-1.5*iqr\n",
    "upper_lim=q3+1.5*iqr\n",
    "\n",
    "lower_out=(df['BILL_AMT1']<lower_lim)\n",
    "upper_out=(df['BILL_AMT1']>upper_lim)\n",
    "\n",
    "df['BILL_AMT1'][(lower_out|upper_out)]"
   ]
  },
  {
   "cell_type": "code",
   "execution_count": 299,
   "id": "9fc56a2b",
   "metadata": {},
   "outputs": [
    {
     "data": {
      "text/plain": [
       "4        235404\n",
       "39       160437\n",
       "56       177946\n",
       "62       367979\n",
       "83       214726\n",
       "          ...  \n",
       "23971    171714\n",
       "23972    197252\n",
       "23979    189147\n",
       "23990    281713\n",
       "23999    162377\n",
       "Name: BILL_AMT2, Length: 1917, dtype: int64"
      ]
     },
     "execution_count": 299,
     "metadata": {},
     "output_type": "execute_result"
    }
   ],
   "source": [
    "q1=df['BILL_AMT2'].quantile(0.25)\n",
    "q3=df['BILL_AMT2'].quantile(0.75)\n",
    "iqr=q3-q1\n",
    "\n",
    "lower_lim=q1-1.5*iqr\n",
    "upper_lim=q3+1.5*iqr\n",
    "\n",
    "lower_out=(df['BILL_AMT2']<lower_lim)\n",
    "upper_out=(df['BILL_AMT2']>upper_lim)\n",
    "\n",
    "df['BILL_AMT2'][(lower_out|upper_out)]"
   ]
  },
  {
   "cell_type": "code",
   "execution_count": 300,
   "id": "23addc37",
   "metadata": {},
   "outputs": [
    {
     "data": {
      "text/plain": [
       "4        236564\n",
       "62       294969\n",
       "80       177741\n",
       "83       230250\n",
       "86       303494\n",
       "          ...  \n",
       "23968    154653\n",
       "23971    154940\n",
       "23979    191673\n",
       "23990    242063\n",
       "23999    174501\n",
       "Name: BILL_AMT3, Length: 1976, dtype: int64"
      ]
     },
     "execution_count": 300,
     "metadata": {},
     "output_type": "execute_result"
    }
   ],
   "source": [
    "q1=df['BILL_AMT3'].quantile(0.25)\n",
    "q3=df['BILL_AMT3'].quantile(0.75)\n",
    "iqr=q3-q1\n",
    "\n",
    "lower_lim=q1-1.5*iqr\n",
    "upper_lim=q3+1.5*iqr\n",
    "\n",
    "lower_out=(df['BILL_AMT3']<lower_lim)\n",
    "upper_out=(df['BILL_AMT3']>upper_lim)\n",
    "\n",
    "df['BILL_AMT3'][(lower_out|upper_out)]"
   ]
  },
  {
   "cell_type": "code",
   "execution_count": 301,
   "id": "24775c6b",
   "metadata": {},
   "outputs": [
    {
     "data": {
      "text/plain": [
       "4        241075\n",
       "62       189612\n",
       "80       163299\n",
       "83       188805\n",
       "86       260113\n",
       "          ...  \n",
       "23925    156977\n",
       "23968    450497\n",
       "23971    136894\n",
       "23979    192051\n",
       "23999    155355\n",
       "Name: BILL_AMT4, Length: 2095, dtype: int64"
      ]
     },
     "execution_count": 301,
     "metadata": {},
     "output_type": "execute_result"
    }
   ],
   "source": [
    "q1=df['BILL_AMT4'].quantile(0.25)\n",
    "q3=df['BILL_AMT4'].quantile(0.75)\n",
    "iqr=q3-q1\n",
    "\n",
    "lower_lim=q1-1.5*iqr\n",
    "upper_lim=q3+1.5*iqr\n",
    "\n",
    "lower_out=(df['BILL_AMT4']<lower_lim)\n",
    "upper_out=(df['BILL_AMT4']>upper_lim)\n",
    "\n",
    "df['BILL_AMT4'][(lower_out|upper_out)]"
   ]
  },
  {
   "cell_type": "code",
   "execution_count": 302,
   "id": "d9b757b4",
   "metadata": {},
   "outputs": [
    {
     "data": {
      "text/plain": [
       "4        146440\n",
       "62       128459\n",
       "80       159110\n",
       "83       192229\n",
       "86       263229\n",
       "          ...  \n",
       "23956    181304\n",
       "23968    425957\n",
       "23971    138467\n",
       "23979    193348\n",
       "23999    129942\n",
       "Name: BILL_AMT5, Length: 2190, dtype: int64"
      ]
     },
     "execution_count": 302,
     "metadata": {},
     "output_type": "execute_result"
    }
   ],
   "source": [
    "q1=df['BILL_AMT5'].quantile(0.25)\n",
    "q3=df['BILL_AMT5'].quantile(0.75)\n",
    "iqr=q3-q1\n",
    "\n",
    "lower_lim=q1-1.5*iqr\n",
    "upper_lim=q3+1.5*iqr\n",
    "\n",
    "lower_out=(df['BILL_AMT5']<lower_lim)\n",
    "upper_out=(df['BILL_AMT5']>upper_lim)\n",
    "\n",
    "df['BILL_AMT5'][(lower_out|upper_out)]"
   ]
  },
  {
   "cell_type": "code",
   "execution_count": 303,
   "id": "76e03aaa",
   "metadata": {},
   "outputs": [
    {
     "data": {
      "text/plain": [
       "4        132290\n",
       "62       167105\n",
       "80       135658\n",
       "86       268446\n",
       "91       122952\n",
       "          ...  \n",
       "23956    219929\n",
       "23968    298509\n",
       "23971    128473\n",
       "23979    193337\n",
       "23994    125279\n",
       "Name: BILL_AMT6, Length: 2179, dtype: int64"
      ]
     },
     "execution_count": 303,
     "metadata": {},
     "output_type": "execute_result"
    }
   ],
   "source": [
    "q1=df['BILL_AMT6'].quantile(0.25)\n",
    "q3=df['BILL_AMT6'].quantile(0.75)\n",
    "iqr=q3-q1\n",
    "\n",
    "lower_lim=q1-1.5*iqr\n",
    "upper_lim=q3+1.5*iqr\n",
    "lower_out=(df['BILL_AMT6']<lower_lim)\n",
    "upper_out=(df['BILL_AMT6']>upper_lim)\n",
    "\n",
    "df['BILL_AMT6'][(lower_out|upper_out)]"
   ]
  },
  {
   "cell_type": "code",
   "execution_count": 304,
   "id": "a2bdbef4",
   "metadata": {},
   "outputs": [
    {
     "data": {
      "text/plain": [
       "42        50000\n",
       "62       368199\n",
       "64        17328\n",
       "70        20460\n",
       "86        13869\n",
       "          ...  \n",
       "23950     20000\n",
       "23956     20078\n",
       "23968     15785\n",
       "23995     12577\n",
       "23996     30054\n",
       "Name: PAY_AMT1, Length: 2180, dtype: int64"
      ]
     },
     "execution_count": 304,
     "metadata": {},
     "output_type": "execute_result"
    }
   ],
   "source": [
    "q1=df['PAY_AMT1'].quantile(0.25)\n",
    "q3=df['PAY_AMT1'].quantile(0.75)\n",
    "iqr=q3-q1\n",
    "\n",
    "lower_lim=q1-1.5*iqr\n",
    "upper_lim=q3+1.5*iqr\n",
    "\n",
    "lower_out=(df['PAY_AMT1']<lower_lim)\n",
    "upper_out=(df['PAY_AMT1']>upper_lim)\n",
    "\n",
    "df['PAY_AMT1'][(lower_out|upper_out)]"
   ]
  },
  {
   "cell_type": "code",
   "execution_count": 305,
   "id": "857774a3",
   "metadata": {},
   "outputs": [
    {
     "data": {
      "text/plain": [
       "27        13519\n",
       "28        13003\n",
       "38        20000\n",
       "73        15362\n",
       "80       177080\n",
       "          ...  \n",
       "23986     11950\n",
       "23990    145000\n",
       "23996     20057\n",
       "23997     20412\n",
       "23999     15000\n",
       "Name: PAY_AMT2, Length: 2173, dtype: int64"
      ]
     },
     "execution_count": 305,
     "metadata": {},
     "output_type": "execute_result"
    }
   ],
   "source": [
    "q1=df['PAY_AMT2'].quantile(0.25)\n",
    "q3=df['PAY_AMT2'].quantile(0.75)\n",
    "iqr=q3-q1\n",
    "\n",
    "lower_lim=q1-1.5*iqr\n",
    "upper_lim=q3+1.5*iqr\n",
    "\n",
    "lower_out=(df['PAY_AMT2']<lower_lim)\n",
    "upper_out=(df['PAY_AMT2']>upper_lim)\n",
    "\n",
    "df['PAY_AMT2'][(lower_out|upper_out)]"
   ]
  },
  {
   "cell_type": "code",
   "execution_count": 306,
   "id": "95a3d841",
   "metadata": {},
   "outputs": [
    {
     "data": {
      "text/plain": [
       "7        102680\n",
       "27        43251\n",
       "28        15000\n",
       "36        67867\n",
       "45        57113\n",
       "          ...  \n",
       "23932     18249\n",
       "23935     40682\n",
       "23956     30000\n",
       "23968    338394\n",
       "23990     26000\n",
       "Name: PAY_AMT3, Length: 2067, dtype: int64"
      ]
     },
     "execution_count": 306,
     "metadata": {},
     "output_type": "execute_result"
    }
   ],
   "source": [
    "q1=df['PAY_AMT3'].quantile(0.25)\n",
    "q3=df['PAY_AMT3'].quantile(0.75)\n",
    "iqr=q3-q1\n",
    "\n",
    "lower_lim=q1-1.5*iqr\n",
    "upper_lim=q3+1.5*iqr\n",
    "\n",
    "lower_out=(df['PAY_AMT3']<lower_lim)\n",
    "upper_out=(df['PAY_AMT3']>upper_lim)\n",
    "\n",
    "df['PAY_AMT3'][(lower_out|upper_out)]"
   ]
  },
  {
   "cell_type": "code",
   "execution_count": 307,
   "id": "b47d0943",
   "metadata": {},
   "outputs": [
    {
     "data": {
      "text/plain": [
       "4        10000\n",
       "5        67296\n",
       "22       18738\n",
       "23       63965\n",
       "28       11000\n",
       "         ...  \n",
       "23965    15000\n",
       "23968    16000\n",
       "23986    18567\n",
       "23989    11977\n",
       "23999    10000\n",
       "Name: PAY_AMT4, Length: 2383, dtype: int64"
      ]
     },
     "execution_count": 307,
     "metadata": {},
     "output_type": "execute_result"
    }
   ],
   "source": [
    "q1=df['PAY_AMT4'].quantile(0.25)\n",
    "q3=df['PAY_AMT4'].quantile(0.75)\n",
    "iqr=q3-q1\n",
    "\n",
    "lower_lim=q1-1.5*iqr\n",
    "upper_lim=q3+1.5*iqr\n",
    "\n",
    "lower_out=(df['PAY_AMT4']<lower_lim)\n",
    "upper_out=(df['PAY_AMT4']>upper_lim)\n",
    "\n",
    "df['PAY_AMT4'][(lower_out|upper_out)]"
   ]
  },
  {
   "cell_type": "code",
   "execution_count": 308,
   "id": "49b6fa57",
   "metadata": {},
   "outputs": [
    {
     "data": {
      "text/plain": [
       "21        26983\n",
       "28        10000\n",
       "39        10000\n",
       "50        10000\n",
       "62       167116\n",
       "          ...  \n",
       "23960     18178\n",
       "23973     15000\n",
       "23989     29127\n",
       "23990    101005\n",
       "23996     20000\n",
       "Name: PAY_AMT5, Length: 2325, dtype: int64"
      ]
     },
     "execution_count": 308,
     "metadata": {},
     "output_type": "execute_result"
    }
   ],
   "source": [
    "q1=df['PAY_AMT5'].quantile(0.25)\n",
    "q3=df['PAY_AMT5'].quantile(0.75)\n",
    "iqr=q3-q1\n",
    "\n",
    "lower_lim=q1-1.5*iqr\n",
    "upper_lim=q3+1.5*iqr\n",
    "\n",
    "lower_out=(df['PAY_AMT5']<lower_lim)\n",
    "upper_out=(df['PAY_AMT5']>upper_lim)\n",
    "\n",
    "df['PAY_AMT5'][(lower_out|upper_out)]"
   ]
  },
  {
   "cell_type": "code",
   "execution_count": 309,
   "id": "ff60f2a5",
   "metadata": {},
   "outputs": [
    {
     "data": {
      "text/plain": [
       "4        20000\n",
       "27       10649\n",
       "39       12000\n",
       "50       50000\n",
       "58       10381\n",
       "         ...  \n",
       "23973    10000\n",
       "23985    10000\n",
       "23989    16600\n",
       "23996    30007\n",
       "23999    11000\n",
       "Name: PAY_AMT6, Length: 2379, dtype: int64"
      ]
     },
     "execution_count": 309,
     "metadata": {},
     "output_type": "execute_result"
    }
   ],
   "source": [
    "q1=df['PAY_AMT6'].quantile(0.25)\n",
    "q3=df['PAY_AMT6'].quantile(0.75)\n",
    "iqr=q3-q1\n",
    "\n",
    "lower_lim=q1-1.5*iqr\n",
    "upper_lim=q3+1.5*iqr\n",
    "\n",
    "lower_out=(df['PAY_AMT6']<lower_lim)\n",
    "upper_out=(df['PAY_AMT6']>upper_lim)\n",
    "\n",
    "df['PAY_AMT6'][(lower_out|upper_out)]"
   ]
  },
  {
   "cell_type": "code",
   "execution_count": 377,
   "id": "d9ca7ea7",
   "metadata": {},
   "outputs": [
    {
     "data": {
      "text/plain": [
       "0        1\n",
       "1        1\n",
       "11       1\n",
       "15       1\n",
       "18       1\n",
       "        ..\n",
       "23989    1\n",
       "23991    1\n",
       "23993    1\n",
       "23997    1\n",
       "23999    1\n",
       "Name: default payment next month, Length: 5354, dtype: int64"
      ]
     },
     "execution_count": 377,
     "metadata": {},
     "output_type": "execute_result"
    }
   ],
   "source": [
    "q1=df['default payment next month'].quantile(0.25)\n",
    "q3=df['default payment next month'].quantile(0.75)\n",
    "iqr=q3-q1\n",
    "\n",
    "lower_lim=q1-1.5*iqr\n",
    "upper_lim=q3+1.5*iqr\n",
    "\n",
    "lower_out=(df['default payment next month']<lower_lim)\n",
    "upper_out=(df['default payment next month']>upper_lim)\n",
    "\n",
    "df['default payment next month'][(lower_out|upper_out)]"
   ]
  },
  {
   "cell_type": "code",
   "execution_count": 310,
   "id": "fdaf19d9",
   "metadata": {},
   "outputs": [
    {
     "data": {
      "text/html": [
       "<div>\n",
       "<style scoped>\n",
       "    .dataframe tbody tr th:only-of-type {\n",
       "        vertical-align: middle;\n",
       "    }\n",
       "\n",
       "    .dataframe tbody tr th {\n",
       "        vertical-align: top;\n",
       "    }\n",
       "\n",
       "    .dataframe thead th {\n",
       "        text-align: right;\n",
       "    }\n",
       "</style>\n",
       "<table border=\"1\" class=\"dataframe\">\n",
       "  <thead>\n",
       "    <tr style=\"text-align: right;\">\n",
       "      <th></th>\n",
       "      <th>ID</th>\n",
       "      <th>LIMIT_BAL</th>\n",
       "      <th>SEX</th>\n",
       "      <th>EDUCATION</th>\n",
       "      <th>MARRIAGE</th>\n",
       "      <th>AGE</th>\n",
       "      <th>PAY_0</th>\n",
       "      <th>PAY_2</th>\n",
       "      <th>PAY_3</th>\n",
       "      <th>PAY_4</th>\n",
       "      <th>...</th>\n",
       "      <th>BILL_AMT4</th>\n",
       "      <th>BILL_AMT5</th>\n",
       "      <th>BILL_AMT6</th>\n",
       "      <th>PAY_AMT1</th>\n",
       "      <th>PAY_AMT2</th>\n",
       "      <th>PAY_AMT3</th>\n",
       "      <th>PAY_AMT4</th>\n",
       "      <th>PAY_AMT5</th>\n",
       "      <th>PAY_AMT6</th>\n",
       "      <th>default payment next month</th>\n",
       "    </tr>\n",
       "  </thead>\n",
       "  <tbody>\n",
       "    <tr>\n",
       "      <th>0</th>\n",
       "      <td>4604.0</td>\n",
       "      <td>14499.0</td>\n",
       "      <td>4756.0</td>\n",
       "      <td>14053.0</td>\n",
       "      <td>5520.0</td>\n",
       "      <td>15488.5</td>\n",
       "      <td>20024.0</td>\n",
       "      <td>22053.0</td>\n",
       "      <td>22159.5</td>\n",
       "      <td>14606.5</td>\n",
       "      <td>...</td>\n",
       "      <td>7381.0</td>\n",
       "      <td>7886.5</td>\n",
       "      <td>2164.0</td>\n",
       "      <td>10958.5</td>\n",
       "      <td>4717.5</td>\n",
       "      <td>6421.5</td>\n",
       "      <td>5522.5</td>\n",
       "      <td>2688.0</td>\n",
       "      <td>2862.5</td>\n",
       "      <td>21323.5</td>\n",
       "    </tr>\n",
       "    <tr>\n",
       "      <th>1</th>\n",
       "      <td>3186.0</td>\n",
       "      <td>1188.5</td>\n",
       "      <td>16756.0</td>\n",
       "      <td>4221.5</td>\n",
       "      <td>17371.5</td>\n",
       "      <td>874.5</td>\n",
       "      <td>22554.0</td>\n",
       "      <td>22053.0</td>\n",
       "      <td>22159.5</td>\n",
       "      <td>22459.0</td>\n",
       "      <td>...</td>\n",
       "      <td>10043.5</td>\n",
       "      <td>10573.0</td>\n",
       "      <td>10931.0</td>\n",
       "      <td>15446.0</td>\n",
       "      <td>4717.5</td>\n",
       "      <td>8247.5</td>\n",
       "      <td>7150.5</td>\n",
       "      <td>2688.0</td>\n",
       "      <td>9896.0</td>\n",
       "      <td>21323.5</td>\n",
       "    </tr>\n",
       "    <tr>\n",
       "      <th>2</th>\n",
       "      <td>317.0</td>\n",
       "      <td>9597.5</td>\n",
       "      <td>4756.0</td>\n",
       "      <td>4221.5</td>\n",
       "      <td>17371.5</td>\n",
       "      <td>15488.5</td>\n",
       "      <td>12676.0</td>\n",
       "      <td>14178.0</td>\n",
       "      <td>14322.0</td>\n",
       "      <td>14606.5</td>\n",
       "      <td>...</td>\n",
       "      <td>16467.0</td>\n",
       "      <td>16991.5</td>\n",
       "      <td>15262.0</td>\n",
       "      <td>13027.0</td>\n",
       "      <td>7369.5</td>\n",
       "      <td>7523.0</td>\n",
       "      <td>2567.5</td>\n",
       "      <td>7532.0</td>\n",
       "      <td>2862.5</td>\n",
       "      <td>9323.5</td>\n",
       "    </tr>\n",
       "    <tr>\n",
       "      <th>3</th>\n",
       "      <td>12394.0</td>\n",
       "      <td>17085.0</td>\n",
       "      <td>4756.0</td>\n",
       "      <td>4221.5</td>\n",
       "      <td>17371.5</td>\n",
       "      <td>8224.5</td>\n",
       "      <td>22554.0</td>\n",
       "      <td>14178.0</td>\n",
       "      <td>14322.0</td>\n",
       "      <td>14606.5</td>\n",
       "      <td>...</td>\n",
       "      <td>20367.0</td>\n",
       "      <td>20681.0</td>\n",
       "      <td>20860.0</td>\n",
       "      <td>17701.0</td>\n",
       "      <td>17923.5</td>\n",
       "      <td>17732.0</td>\n",
       "      <td>17828.5</td>\n",
       "      <td>17768.5</td>\n",
       "      <td>19094.0</td>\n",
       "      <td>9323.5</td>\n",
       "    </tr>\n",
       "    <tr>\n",
       "      <th>4</th>\n",
       "      <td>13201.0</td>\n",
       "      <td>18110.5</td>\n",
       "      <td>16756.0</td>\n",
       "      <td>23689.0</td>\n",
       "      <td>5520.0</td>\n",
       "      <td>23691.0</td>\n",
       "      <td>12676.0</td>\n",
       "      <td>14178.0</td>\n",
       "      <td>14322.0</td>\n",
       "      <td>14606.5</td>\n",
       "      <td>...</td>\n",
       "      <td>23506.0</td>\n",
       "      <td>22475.0</td>\n",
       "      <td>22158.0</td>\n",
       "      <td>20614.5</td>\n",
       "      <td>21408.5</td>\n",
       "      <td>21588.5</td>\n",
       "      <td>21808.0</td>\n",
       "      <td>19011.0</td>\n",
       "      <td>22942.5</td>\n",
       "      <td>9323.5</td>\n",
       "    </tr>\n",
       "    <tr>\n",
       "      <th>...</th>\n",
       "      <td>...</td>\n",
       "      <td>...</td>\n",
       "      <td>...</td>\n",
       "      <td>...</td>\n",
       "      <td>...</td>\n",
       "      <td>...</td>\n",
       "      <td>...</td>\n",
       "      <td>...</td>\n",
       "      <td>...</td>\n",
       "      <td>...</td>\n",
       "      <td>...</td>\n",
       "      <td>...</td>\n",
       "      <td>...</td>\n",
       "      <td>...</td>\n",
       "      <td>...</td>\n",
       "      <td>...</td>\n",
       "      <td>...</td>\n",
       "      <td>...</td>\n",
       "      <td>...</td>\n",
       "      <td>...</td>\n",
       "      <td>...</td>\n",
       "    </tr>\n",
       "    <tr>\n",
       "      <th>23995</th>\n",
       "      <td>16774.0</td>\n",
       "      <td>19455.5</td>\n",
       "      <td>4756.0</td>\n",
       "      <td>14053.0</td>\n",
       "      <td>17371.5</td>\n",
       "      <td>16245.0</td>\n",
       "      <td>1106.0</td>\n",
       "      <td>1511.5</td>\n",
       "      <td>1618.0</td>\n",
       "      <td>1726.0</td>\n",
       "      <td>...</td>\n",
       "      <td>7018.5</td>\n",
       "      <td>359.0</td>\n",
       "      <td>392.0</td>\n",
       "      <td>22107.0</td>\n",
       "      <td>17560.5</td>\n",
       "      <td>17700.0</td>\n",
       "      <td>2567.5</td>\n",
       "      <td>2688.0</td>\n",
       "      <td>2862.5</td>\n",
       "      <td>9323.5</td>\n",
       "    </tr>\n",
       "    <tr>\n",
       "      <th>23996</th>\n",
       "      <td>3924.0</td>\n",
       "      <td>18863.5</td>\n",
       "      <td>16756.0</td>\n",
       "      <td>4221.5</td>\n",
       "      <td>17371.5</td>\n",
       "      <td>16245.0</td>\n",
       "      <td>12676.0</td>\n",
       "      <td>14178.0</td>\n",
       "      <td>14322.0</td>\n",
       "      <td>14606.5</td>\n",
       "      <td>...</td>\n",
       "      <td>20604.0</td>\n",
       "      <td>19022.0</td>\n",
       "      <td>19084.0</td>\n",
       "      <td>23360.0</td>\n",
       "      <td>22940.0</td>\n",
       "      <td>19103.5</td>\n",
       "      <td>16634.0</td>\n",
       "      <td>23028.0</td>\n",
       "      <td>23320.0</td>\n",
       "      <td>9323.5</td>\n",
       "    </tr>\n",
       "    <tr>\n",
       "      <th>23997</th>\n",
       "      <td>1159.0</td>\n",
       "      <td>8004.5</td>\n",
       "      <td>16756.0</td>\n",
       "      <td>4221.5</td>\n",
       "      <td>17371.5</td>\n",
       "      <td>7023.0</td>\n",
       "      <td>12676.0</td>\n",
       "      <td>14178.0</td>\n",
       "      <td>14322.0</td>\n",
       "      <td>22459.0</td>\n",
       "      <td>...</td>\n",
       "      <td>19830.0</td>\n",
       "      <td>19993.5</td>\n",
       "      <td>19994.0</td>\n",
       "      <td>13568.5</td>\n",
       "      <td>22981.0</td>\n",
       "      <td>2413.5</td>\n",
       "      <td>16158.0</td>\n",
       "      <td>16075.0</td>\n",
       "      <td>16123.0</td>\n",
       "      <td>21323.5</td>\n",
       "    </tr>\n",
       "    <tr>\n",
       "      <th>23998</th>\n",
       "      <td>1430.0</td>\n",
       "      <td>23546.5</td>\n",
       "      <td>4756.0</td>\n",
       "      <td>4221.5</td>\n",
       "      <td>17371.5</td>\n",
       "      <td>11145.0</td>\n",
       "      <td>4500.0</td>\n",
       "      <td>5459.0</td>\n",
       "      <td>5632.0</td>\n",
       "      <td>1726.0</td>\n",
       "      <td>...</td>\n",
       "      <td>7048.0</td>\n",
       "      <td>8818.5</td>\n",
       "      <td>290.0</td>\n",
       "      <td>11803.0</td>\n",
       "      <td>21645.0</td>\n",
       "      <td>17693.5</td>\n",
       "      <td>21113.0</td>\n",
       "      <td>5877.5</td>\n",
       "      <td>20854.0</td>\n",
       "      <td>9323.5</td>\n",
       "    </tr>\n",
       "    <tr>\n",
       "      <th>23999</th>\n",
       "      <td>9996.0</td>\n",
       "      <td>15691.5</td>\n",
       "      <td>4756.0</td>\n",
       "      <td>4221.5</td>\n",
       "      <td>17371.5</td>\n",
       "      <td>12061.5</td>\n",
       "      <td>12676.0</td>\n",
       "      <td>14178.0</td>\n",
       "      <td>14322.0</td>\n",
       "      <td>22459.0</td>\n",
       "      <td>...</td>\n",
       "      <td>22466.0</td>\n",
       "      <td>21995.0</td>\n",
       "      <td>21743.0</td>\n",
       "      <td>21278.5</td>\n",
       "      <td>22414.5</td>\n",
       "      <td>2413.5</td>\n",
       "      <td>21808.0</td>\n",
       "      <td>2688.0</td>\n",
       "      <td>22146.5</td>\n",
       "      <td>21323.5</td>\n",
       "    </tr>\n",
       "  </tbody>\n",
       "</table>\n",
       "<p>24000 rows × 25 columns</p>\n",
       "</div>"
      ],
      "text/plain": [
       "            ID  LIMIT_BAL      SEX  EDUCATION  MARRIAGE      AGE    PAY_0  \\\n",
       "0       4604.0    14499.0   4756.0    14053.0    5520.0  15488.5  20024.0   \n",
       "1       3186.0     1188.5  16756.0     4221.5   17371.5    874.5  22554.0   \n",
       "2        317.0     9597.5   4756.0     4221.5   17371.5  15488.5  12676.0   \n",
       "3      12394.0    17085.0   4756.0     4221.5   17371.5   8224.5  22554.0   \n",
       "4      13201.0    18110.5  16756.0    23689.0    5520.0  23691.0  12676.0   \n",
       "...        ...        ...      ...        ...       ...      ...      ...   \n",
       "23995  16774.0    19455.5   4756.0    14053.0   17371.5  16245.0   1106.0   \n",
       "23996   3924.0    18863.5  16756.0     4221.5   17371.5  16245.0  12676.0   \n",
       "23997   1159.0     8004.5  16756.0     4221.5   17371.5   7023.0  12676.0   \n",
       "23998   1430.0    23546.5   4756.0     4221.5   17371.5  11145.0   4500.0   \n",
       "23999   9996.0    15691.5   4756.0     4221.5   17371.5  12061.5  12676.0   \n",
       "\n",
       "         PAY_2    PAY_3    PAY_4  ...  BILL_AMT4  BILL_AMT5  BILL_AMT6  \\\n",
       "0      22053.0  22159.5  14606.5  ...     7381.0     7886.5     2164.0   \n",
       "1      22053.0  22159.5  22459.0  ...    10043.5    10573.0    10931.0   \n",
       "2      14178.0  14322.0  14606.5  ...    16467.0    16991.5    15262.0   \n",
       "3      14178.0  14322.0  14606.5  ...    20367.0    20681.0    20860.0   \n",
       "4      14178.0  14322.0  14606.5  ...    23506.0    22475.0    22158.0   \n",
       "...        ...      ...      ...  ...        ...        ...        ...   \n",
       "23995   1511.5   1618.0   1726.0  ...     7018.5      359.0      392.0   \n",
       "23996  14178.0  14322.0  14606.5  ...    20604.0    19022.0    19084.0   \n",
       "23997  14178.0  14322.0  22459.0  ...    19830.0    19993.5    19994.0   \n",
       "23998   5459.0   5632.0   1726.0  ...     7048.0     8818.5      290.0   \n",
       "23999  14178.0  14322.0  22459.0  ...    22466.0    21995.0    21743.0   \n",
       "\n",
       "       PAY_AMT1  PAY_AMT2  PAY_AMT3  PAY_AMT4  PAY_AMT5  PAY_AMT6  \\\n",
       "0       10958.5    4717.5    6421.5    5522.5    2688.0    2862.5   \n",
       "1       15446.0    4717.5    8247.5    7150.5    2688.0    9896.0   \n",
       "2       13027.0    7369.5    7523.0    2567.5    7532.0    2862.5   \n",
       "3       17701.0   17923.5   17732.0   17828.5   17768.5   19094.0   \n",
       "4       20614.5   21408.5   21588.5   21808.0   19011.0   22942.5   \n",
       "...         ...       ...       ...       ...       ...       ...   \n",
       "23995   22107.0   17560.5   17700.0    2567.5    2688.0    2862.5   \n",
       "23996   23360.0   22940.0   19103.5   16634.0   23028.0   23320.0   \n",
       "23997   13568.5   22981.0    2413.5   16158.0   16075.0   16123.0   \n",
       "23998   11803.0   21645.0   17693.5   21113.0    5877.5   20854.0   \n",
       "23999   21278.5   22414.5    2413.5   21808.0    2688.0   22146.5   \n",
       "\n",
       "       default payment next month  \n",
       "0                         21323.5  \n",
       "1                         21323.5  \n",
       "2                          9323.5  \n",
       "3                          9323.5  \n",
       "4                          9323.5  \n",
       "...                           ...  \n",
       "23995                      9323.5  \n",
       "23996                      9323.5  \n",
       "23997                     21323.5  \n",
       "23998                      9323.5  \n",
       "23999                     21323.5  \n",
       "\n",
       "[24000 rows x 25 columns]"
      ]
     },
     "execution_count": 310,
     "metadata": {},
     "output_type": "execute_result"
    }
   ],
   "source": [
    "df.rank()"
   ]
  },
  {
   "cell_type": "code",
   "execution_count": 311,
   "id": "065983f4",
   "metadata": {},
   "outputs": [
    {
     "data": {
      "text/plain": [
       "Text(0.5, 1.0, 'ID Distribution')"
      ]
     },
     "execution_count": 311,
     "metadata": {},
     "output_type": "execute_result"
    },
    {
     "data": {
      "image/png": "[encoded data removed]",
      "text/plain": [
       "<Figure size 432x288 with 1 Axes>"
      ]
     },
     "metadata": {
      "needs_background": "light"
     },
     "output_type": "display_data"
    }
   ],
   "source": [
    "val_counts=df['ID'].value_counts()\n",
    "graph=val_counts.plot(kind='bar')\n",
    "graph.set_xticklabels(graph.get_xticklabels(), rotation=0)\n",
    "graph.set_xlabel(\"ID\")\n",
    "graph.set_ylabel(\"Number of Occurrences\")\n",
    "graph.set_title(\"ID Distribution\")"
   ]
  },
  {
   "cell_type": "code",
   "execution_count": 312,
   "id": "69164a94",
   "metadata": {},
   "outputs": [
    {
     "data": {
      "text/plain": [
       "Text(0.5, 1.0, 'LIMIT_BAL Distribution')"
      ]
     },
     "execution_count": 312,
     "metadata": {},
     "output_type": "execute_result"
    },
    {
     "data": {
      "image/png": "[encoded data removed]",
      "text/plain": [
       "<Figure size 432x288 with 1 Axes>"
      ]
     },
     "metadata": {
      "needs_background": "light"
     },
     "output_type": "display_data"
    }
   ],
   "source": [
    "val_counts=df['LIMIT_BAL'].value_counts()\n",
    "graph=val_counts.plot(kind='bar')\n",
    "graph.set_xticklabels(graph.get_xticklabels(), rotation=0)\n",
    "graph.set_xlabel(\"LIMIT_BAL\")\n",
    "graph.set_ylabel(\"Number of Occurrences\")\n",
    "graph.set_title(\"LIMIT_BAL Distribution\")"
   ]
  },
  {
   "cell_type": "code",
   "execution_count": 313,
   "id": "ccfe8e3f",
   "metadata": {},
   "outputs": [
    {
     "data": {
      "text/plain": [
       "Text(0.5, 1.0, 'SEX Distribution')"
      ]
     },
     "execution_count": 313,
     "metadata": {},
     "output_type": "execute_result"
    },
    {
     "data": {
      "image/png": "[encoded data removed]",
      "text/plain": [
       "<Figure size 432x288 with 1 Axes>"
      ]
     },
     "metadata": {
      "needs_background": "light"
     },
     "output_type": "display_data"
    }
   ],
   "source": [
    "val_counts=df['SEX'].value_counts()\n",
    "graph=val_counts.plot(kind='bar')\n",
    "graph.set_xticklabels(graph.get_xticklabels(), rotation=0)\n",
    "graph.set_xlabel(\"SEX\")\n",
    "graph.set_ylabel(\"Number of Occurrences\")\n",
    "graph.set_title(\"SEX Distribution\")"
   ]
  },
  {
   "cell_type": "code",
   "execution_count": 314,
   "id": "740f55f3",
   "metadata": {},
   "outputs": [
    {
     "data": {
      "text/plain": [
       "Text(0.5, 1.0, 'EDUCATION Distribution')"
      ]
     },
     "execution_count": 314,
     "metadata": {},
     "output_type": "execute_result"
    },
    {
     "data": {
      "image/png": "[encoded data removed]",
      "text/plain": [
       "<Figure size 432x288 with 1 Axes>"
      ]
     },
     "metadata": {
      "needs_background": "light"
     },
     "output_type": "display_data"
    }
   ],
   "source": [
    "val_counts=df['EDUCATION'].value_counts()\n",
    "graph=val_counts.plot(kind='bar')\n",
    "graph.set_xticklabels(graph.get_xticklabels(), rotation=0)\n",
    "graph.set_xlabel(\"EDUCATION\")\n",
    "graph.set_ylabel(\"Number of Occurrences\")\n",
    "graph.set_title(\"EDUCATION Distribution\")"
   ]
  },
  {
   "cell_type": "code",
   "execution_count": 315,
   "id": "4939694c",
   "metadata": {},
   "outputs": [
    {
     "data": {
      "text/plain": [
       "Text(0.5, 1.0, 'MARRIAGE Distribution')"
      ]
     },
     "execution_count": 315,
     "metadata": {},
     "output_type": "execute_result"
    },
    {
     "data": {
      "image/png": "[encoded data removed]",
      "text/plain": [
       "<Figure size 432x288 with 1 Axes>"
      ]
     },
     "metadata": {
      "needs_background": "light"
     },
     "output_type": "display_data"
    }
   ],
   "source": [
    "val_counts=df['MARRIAGE'].value_counts()\n",
    "graph=val_counts.plot(kind='bar')\n",
    "graph.set_xticklabels(graph.get_xticklabels(), rotation=0)\n",
    "graph.set_xlabel(\"MARRIAGE\")\n",
    "graph.set_ylabel(\"Number of Occurrences\")\n",
    "graph.set_title(\"MARRIAGE Distribution\")"
   ]
  },
  {
   "cell_type": "code",
   "execution_count": 316,
   "id": "18dfa433",
   "metadata": {},
   "outputs": [
    {
     "data": {
      "text/plain": [
       "Text(0.5, 1.0, 'AGE Distribution')"
      ]
     },
     "execution_count": 316,
     "metadata": {},
     "output_type": "execute_result"
    },
    {
     "data": {
      "image/png": "[encoded data removed]",
      "text/plain": [
       "<Figure size 432x288 with 1 Axes>"
      ]
     },
     "metadata": {
      "needs_background": "light"
     },
     "output_type": "display_data"
    }
   ],
   "source": [
    "val_counts=df['AGE'].value_counts()\n",
    "graph=val_counts.plot(kind='bar')\n",
    "graph.set_xticklabels(graph.get_xticklabels(), rotation=0)\n",
    "graph.set_xlabel(\"AGE\")\n",
    "graph.set_ylabel(\"Number of Occurrences\")\n",
    "graph.set_title(\"AGE Distribution\")"
   ]
  },
  {
   "cell_type": "code",
   "execution_count": 317,
   "id": "a560b955",
   "metadata": {},
   "outputs": [
    {
     "data": {
      "text/plain": [
       "Text(0.5, 1.0, 'PAY_0 Distribution')"
      ]
     },
     "execution_count": 317,
     "metadata": {},
     "output_type": "execute_result"
    },
    {
     "data": {
      "image/png": "[encoded data removed]",
      "text/plain": [
       "<Figure size 432x288 with 1 Axes>"
      ]
     },
     "metadata": {
      "needs_background": "light"
     },
     "output_type": "display_data"
    }
   ],
   "source": [
    "val_counts=df['PAY_0'].value_counts()\n",
    "graph=val_counts.plot(kind='bar')\n",
    "graph.set_xticklabels(graph.get_xticklabels(), rotation=0)\n",
    "graph.set_xlabel(\"PAY_0\")\n",
    "graph.set_ylabel(\"Number of Occurrences\")\n",
    "graph.set_title(\"PAY_0 Distribution\")"
   ]
  },
  {
   "cell_type": "code",
   "execution_count": 318,
   "id": "1828c834",
   "metadata": {},
   "outputs": [
    {
     "data": {
      "text/plain": [
       "Text(0.5, 1.0, 'PAY_2 Distribution')"
      ]
     },
     "execution_count": 318,
     "metadata": {},
     "output_type": "execute_result"
    },
    {
     "data": {
      "image/png": "[encoded data removed]",
      "text/plain": [
       "<Figure size 432x288 with 1 Axes>"
      ]
     },
     "metadata": {
      "needs_background": "light"
     },
     "output_type": "display_data"
    }
   ],
   "source": [
    "val_counts=df['PAY_2'].value_counts()\n",
    "graph=val_counts.plot(kind='bar')\n",
    "graph.set_xticklabels(graph.get_xticklabels(), rotation=0)\n",
    "graph.set_xlabel(\"PAY_2\")\n",
    "graph.set_ylabel(\"Number of Occurrences\")\n",
    "graph.set_title(\"PAY_2 Distribution\")"
   ]
  },
  {
   "cell_type": "code",
   "execution_count": 319,
   "id": "207a321a",
   "metadata": {},
   "outputs": [
    {
     "data": {
      "text/plain": [
       "Text(0.5, 1.0, 'PAY_3 Distribution')"
      ]
     },
     "execution_count": 319,
     "metadata": {},
     "output_type": "execute_result"
    },
    {
     "data": {
      "image/png": "[encoded data removed]",
      "text/plain": [
       "<Figure size 432x288 with 1 Axes>"
      ]
     },
     "metadata": {
      "needs_background": "light"
     },
     "output_type": "display_data"
    }
   ],
   "source": [
    "val_counts=df['PAY_3'].value_counts()\n",
    "graph=val_counts.plot(kind='bar')\n",
    "graph.set_xticklabels(graph.get_xticklabels(), rotation=0)\n",
    "graph.set_xlabel(\"PAY_3\")\n",
    "graph.set_ylabel(\"Number of Occurrences\")\n",
    "graph.set_title(\"PAY_3 Distribution\")"
   ]
  },
  {
   "cell_type": "code",
   "execution_count": 320,
   "id": "f2f648b3",
   "metadata": {},
   "outputs": [
    {
     "data": {
      "text/plain": [
       "Text(0.5, 1.0, 'PAY_4 Distribution')"
      ]
     },
     "execution_count": 320,
     "metadata": {},
     "output_type": "execute_result"
    },
    {
     "data": {
      "image/png": "[encoded data removed]",
      "text/plain": [
       "<Figure size 432x288 with 1 Axes>"
      ]
     },
     "metadata": {
      "needs_background": "light"
     },
     "output_type": "display_data"
    }
   ],
   "source": [
    "val_counts=df['PAY_4'].value_counts()\n",
    "graph=val_counts.plot(kind='bar')\n",
    "graph.set_xticklabels(graph.get_xticklabels(), rotation=0)\n",
    "graph.set_xlabel(\"PAY_4\")\n",
    "graph.set_ylabel(\"Number of Occurrences\")\n",
    "graph.set_title(\"PAY_4 Distribution\")"
   ]
  },
  {
   "cell_type": "code",
   "execution_count": 321,
   "id": "590a88cc",
   "metadata": {},
   "outputs": [
    {
     "data": {
      "text/plain": [
       "Text(0.5, 1.0, 'PAY_5 Distribution')"
      ]
     },
     "execution_count": 321,
     "metadata": {},
     "output_type": "execute_result"
    },
    {
     "data": {
      "image/png": "[encoded data removed]",
      "text/plain": [
       "<Figure size 432x288 with 1 Axes>"
      ]
     },
     "metadata": {
      "needs_background": "light"
     },
     "output_type": "display_data"
    }
   ],
   "source": [
    "val_counts=df['PAY_5'].value_counts()\n",
    "graph=val_counts.plot(kind='bar')\n",
    "graph.set_xticklabels(graph.get_xticklabels(), rotation=0)\n",
    "graph.set_xlabel(\"PAY_5\")\n",
    "graph.set_ylabel(\"Number of Occurrences\")\n",
    "graph.set_title(\"PAY_5 Distribution\")"
   ]
  },
  {
   "cell_type": "code",
   "execution_count": 322,
   "id": "8e1f92fa",
   "metadata": {},
   "outputs": [
    {
     "data": {
      "text/plain": [
       "Text(0.5, 1.0, 'PAY_6 Distribution')"
      ]
     },
     "execution_count": 322,
     "metadata": {},
     "output_type": "execute_result"
    },
    {
     "data": {
      "image/png": "[encoded data removed]",
      "text/plain": [
       "<Figure size 432x288 with 1 Axes>"
      ]
     },
     "metadata": {
      "needs_background": "light"
     },
     "output_type": "display_data"
    }
   ],
   "source": [
    "val_counts=df['PAY_6'].value_counts()\n",
    "graph=val_counts.plot(kind='bar')\n",
    "graph.set_xticklabels(graph.get_xticklabels(), rotation=0)\n",
    "graph.set_xlabel(\"PAY_6\")\n",
    "graph.set_ylabel(\"Number of Occurrences\")\n",
    "graph.set_title(\"PAY_6 Distribution\")"
   ]
  },
  {
   "cell_type": "code",
   "execution_count": 323,
   "id": "fafc7b62",
   "metadata": {},
   "outputs": [
    {
     "data": {
      "text/plain": [
       "Text(0.5, 1.0, 'PAY_AMT1 Distribution')"
      ]
     },
     "execution_count": 323,
     "metadata": {},
     "output_type": "execute_result"
    },
    {
     "data": {
      "image/png": "[encoded data removed]",
      "text/plain": [
       "<Figure size 432x288 with 1 Axes>"
      ]
     },
     "metadata": {
      "needs_background": "light"
     },
     "output_type": "display_data"
    }
   ],
   "source": [
    "val_counts=df['PAY_AMT1'].value_counts()\n",
    "graph=val_counts.plot(kind='bar')\n",
    "graph.set_xticklabels(graph.get_xticklabels(), rotation=0)\n",
    "graph.set_xlabel(\"PAY_AMT1\")\n",
    "graph.set_ylabel(\"Number of Occurrences\")\n",
    "graph.set_title(\"PAY_AMT1 Distribution\")"
   ]
  },
  {
   "cell_type": "code",
   "execution_count": 324,
   "id": "4e7be4b7",
   "metadata": {},
   "outputs": [
    {
     "data": {
      "text/plain": [
       "Text(0.5, 1.0, 'PAY_AMT2 Distribution')"
      ]
     },
     "execution_count": 324,
     "metadata": {},
     "output_type": "execute_result"
    },
    {
     "data": {
      "image/png": "[encoded data removed]",
      "text/plain": [
       "<Figure size 432x288 with 1 Axes>"
      ]
     },
     "metadata": {
      "needs_background": "light"
     },
     "output_type": "display_data"
    }
   ],
   "source": [
    "val_counts=df['PAY_AMT2'].value_counts()\n",
    "graph=val_counts.plot(kind='bar')\n",
    "graph.set_xticklabels(graph.get_xticklabels(), rotation=0)\n",
    "graph.set_xlabel(\"PAY_AMT2\")\n",
    "graph.set_ylabel(\"Number of Occurrences\")\n",
    "graph.set_title(\"PAY_AMT2 Distribution\")"
   ]
  },
  {
   "cell_type": "code",
   "execution_count": 325,
   "id": "e77bd189",
   "metadata": {},
   "outputs": [
    {
     "data": {
      "text/plain": [
       "Text(0.5, 1.0, 'PAY_AMT3 Distribution')"
      ]
     },
     "execution_count": 325,
     "metadata": {},
     "output_type": "execute_result"
    },
    {
     "data": {
      "image/png": "[encoded data removed]",
      "text/plain": [
       "<Figure size 432x288 with 1 Axes>"
      ]
     },
     "metadata": {
      "needs_background": "light"
     },
     "output_type": "display_data"
    }
   ],
   "source": [
    "val_counts=df['PAY_AMT3'].value_counts()\n",
    "graph=val_counts.plot(kind='bar')\n",
    "graph.set_xticklabels(graph.get_xticklabels(), rotation=0)\n",
    "graph.set_xlabel(\"PAY_AMT3\")\n",
    "graph.set_ylabel(\"Number of Occurrences\")\n",
    "graph.set_title(\"PAY_AMT3 Distribution\")"
   ]
  },
  {
   "cell_type": "code",
   "execution_count": 326,
   "id": "3aa0edb7",
   "metadata": {},
   "outputs": [
    {
     "data": {
      "text/plain": [
       "Text(0.5, 1.0, 'PAY_AMT4 Distribution')"
      ]
     },
     "execution_count": 326,
     "metadata": {},
     "output_type": "execute_result"
    },
    {
     "data": {
      "image/png": "[encoded data removed]",
      "text/plain": [
       "<Figure size 432x288 with 1 Axes>"
      ]
     },
     "metadata": {
      "needs_background": "light"
     },
     "output_type": "display_data"
    }
   ],
   "source": [
    "val_counts=df['PAY_AMT4'].value_counts()\n",
    "graph=val_counts.plot(kind='bar')\n",
    "graph.set_xticklabels(graph.get_xticklabels(), rotation=0)\n",
    "graph.set_xlabel(\"PAY_AMT4\")\n",
    "graph.set_ylabel(\"Number of Occurrences\")\n",
    "graph.set_title(\"PAY_AMT4 Distribution\")"
   ]
  },
  {
   "cell_type": "code",
   "execution_count": 327,
   "id": "4b94d7cf",
   "metadata": {},
   "outputs": [
    {
     "data": {
      "text/plain": [
       "Text(0.5, 1.0, 'PAY_AMT5 Distribution')"
      ]
     },
     "execution_count": 327,
     "metadata": {},
     "output_type": "execute_result"
    },
    {
     "data": {
      "image/png": "[encoded data removed]",
      "text/plain": [
       "<Figure size 432x288 with 1 Axes>"
      ]
     },
     "metadata": {
      "needs_background": "light"
     },
     "output_type": "display_data"
    }
   ],
   "source": [
    "val_counts=df['PAY_AMT5'].value_counts()\n",
    "graph=val_counts.plot(kind='bar')\n",
    "graph.set_xticklabels(graph.get_xticklabels(), rotation=0)\n",
    "graph.set_xlabel(\"PAY_AMT5\")\n",
    "graph.set_ylabel(\"Number of Occurrences\")\n",
    "graph.set_title(\"PAY_AMT5 Distribution\")"
   ]
  },
  {
   "cell_type": "code",
   "execution_count": null,
   "id": "982e367b",
   "metadata": {},
   "outputs": [],
   "source": [
    "val_counts=df['PAY_AMT6'].value_counts()\n",
    "graph=val_counts.plot(kind='bar')\n",
    "graph.set_xticklabels(graph.get_xticklabels(), rotation=0)\n",
    "graph.set_xlabel(\"PAY_AMT6\")\n",
    "graph.set_ylabel(\"Number of Occurrences\")\n",
    "graph.set_title(\"PAY_AMT6 Distribution\")"
   ]
  },
  {
   "cell_type": "code",
   "execution_count": null,
   "id": "82227003",
   "metadata": {},
   "outputs": [],
   "source": [
    "val_counts=df['BILL_AMT1'].value_counts()\n",
    "graph=val_counts.plot(kind='bar')\n",
    "graph.set_xticklabels(graph.get_xticklabels(), rotation=0)\n",
    "graph.set_xlabel(\"BILL_AMT1\")\n",
    "graph.set_ylabel(\"Number of Occurrences\")\n",
    "graph.set_title(\"BILL_AMT1 Distribution\")"
   ]
  },
  {
   "cell_type": "code",
   "execution_count": null,
   "id": "cd80126d",
   "metadata": {},
   "outputs": [],
   "source": [
    "val_counts=df['BILL_AMT2'].value_counts()\n",
    "graph=val_counts.plot(kind='bar')\n",
    "graph.set_xticklabels(graph.get_xticklabels(), rotation=0)\n",
    "graph.set_xlabel(\"BILL_AMT2\")\n",
    "graph.set_ylabel(\"Number of Occurrences\")\n",
    "graph.set_title(\"BILL_AMT2 Distribution\")"
   ]
  },
  {
   "cell_type": "code",
   "execution_count": null,
   "id": "e12bbf50",
   "metadata": {},
   "outputs": [],
   "source": [
    "val_counts=df['BILL_AMT3'].value_counts()\n",
    "graph=val_counts.plot(kind='bar')\n",
    "graph.set_xticklabels(graph.get_xticklabels(), rotation=0)\n",
    "graph.set_xlabel(\"BILL_AMT3\")\n",
    "graph.set_ylabel(\"Number of Occurrences\")\n",
    "graph.set_title(\"BILL_AMT3 Distribution\")"
   ]
  },
  {
   "cell_type": "code",
   "execution_count": null,
   "id": "e77b1252",
   "metadata": {},
   "outputs": [],
   "source": [
    "val_counts=df['BILL_AMT4'].value_counts()\n",
    "graph=val_counts.plot(kind='bar')\n",
    "graph.set_xticklabels(graph.get_xticklabels(), rotation=0)\n",
    "graph.set_xlabel(\"BILL_AMT4\")\n",
    "graph.set_ylabel(\"Number of Occurrences\")\n",
    "graph.set_title(\"BILL_AMT4 Distribution\")"
   ]
  },
  {
   "cell_type": "code",
   "execution_count": null,
   "id": "a49fc073",
   "metadata": {},
   "outputs": [],
   "source": [
    "val_counts=df['BILL_AMT5'].value_counts()\n",
    "graph=val_counts.plot(kind='bar')\n",
    "graph.set_xticklabels(graph.get_xticklabels(), rotation=0)\n",
    "graph.set_xlabel(\"BILL_AMT5\")\n",
    "graph.set_ylabel(\"Number of Occurrences\")\n",
    "graph.set_title(\"BILL_AMT5 Distribution\")"
   ]
  },
  {
   "cell_type": "code",
   "execution_count": null,
   "id": "b9c3e025",
   "metadata": {},
   "outputs": [],
   "source": [
    "val_counts=df['BILL_AMT6'].value_counts()\n",
    "graph=val_counts.plot(kind='bar')\n",
    "graph.set_xticklabels(graph.get_xticklabels(), rotation=0)\n",
    "graph.set_xlabel(\"BILL_AMT6\")\n",
    "graph.set_ylabel(\"Number of Occurrences\")\n",
    "graph.set_title(\"BILL_AMT6 Distribution\")"
   ]
  },
  {
   "cell_type": "code",
   "execution_count": 376,
   "id": "4c917ecd",
   "metadata": {},
   "outputs": [
    {
     "data": {
      "text/plain": [
       "Text(0.5, 1.0, 'default payment next month Distribution')"
      ]
     },
     "execution_count": 376,
     "metadata": {},
     "output_type": "execute_result"
    },
    {
     "data": {
      "image/png": "[encoded data removed]",
      "text/plain": [
       "<Figure size 432x288 with 1 Axes>"
      ]
     },
     "metadata": {
      "needs_background": "light"
     },
     "output_type": "display_data"
    }
   ],
   "source": [
    "val_counts=df['default payment next month'].value_counts()\n",
    "graph=val_counts.plot(kind='bar')\n",
    "graph.set_xticklabels(graph.get_xticklabels(), rotation=0)\n",
    "graph.set_xlabel(\"default payment next month\")\n",
    "graph.set_ylabel(\"Number of Occurrences\")\n",
    "graph.set_title(\"default payment next month Distribution\")"
   ]
  },
  {
   "cell_type": "code",
   "execution_count": null,
   "id": "a0df6c0f",
   "metadata": {},
   "outputs": [],
   "source": [
    "df['BILL_AMT1'].min()"
   ]
  },
  {
   "cell_type": "code",
   "execution_count": null,
   "id": "484613d1",
   "metadata": {},
   "outputs": [],
   "source": [
    "df['BILL_AMT1'].max()"
   ]
  },
  {
   "cell_type": "code",
   "execution_count": null,
   "id": "fa47771a",
   "metadata": {},
   "outputs": [],
   "source": [
    "df['BILL_AMT1'].value_counts()"
   ]
  },
  {
   "cell_type": "code",
   "execution_count": null,
   "id": "aebfdbe9",
   "metadata": {},
   "outputs": [],
   "source": [
    "df['BILL_AMT1'].mean()"
   ]
  },
  {
   "cell_type": "code",
   "execution_count": null,
   "id": "7b3e15da",
   "metadata": {},
   "outputs": [],
   "source": [
    "df['BILL_AMT1'].std()"
   ]
  },
  {
   "cell_type": "code",
   "execution_count": null,
   "id": "5192dcf0",
   "metadata": {},
   "outputs": [],
   "source": [
    "var_x=np.array(df['BILL_AMT1'])\n",
    "plt.boxplot(var_x)"
   ]
  },
  {
   "cell_type": "code",
   "execution_count": null,
   "id": "7d702a13",
   "metadata": {},
   "outputs": [],
   "source": [
    "df['BILL_AMT2'].min()"
   ]
  },
  {
   "cell_type": "code",
   "execution_count": null,
   "id": "a1480461",
   "metadata": {},
   "outputs": [],
   "source": [
    "df['BILL_AMT2'].max()"
   ]
  },
  {
   "cell_type": "code",
   "execution_count": null,
   "id": "abbf8c97",
   "metadata": {},
   "outputs": [],
   "source": [
    "df['BILL_AMT2'].value_counts()"
   ]
  },
  {
   "cell_type": "code",
   "execution_count": null,
   "id": "c8fb01da",
   "metadata": {},
   "outputs": [],
   "source": [
    "df['BILL_AMT2'].mean()"
   ]
  },
  {
   "cell_type": "code",
   "execution_count": null,
   "id": "d6304694",
   "metadata": {},
   "outputs": [],
   "source": [
    "df['BILL_AMT2'].std()"
   ]
  },
  {
   "cell_type": "code",
   "execution_count": null,
   "id": "88e85aee",
   "metadata": {},
   "outputs": [],
   "source": [
    "var_x=np.array(df['BILL_AMT2'])\n",
    "plt.boxplot(var_x)"
   ]
  },
  {
   "cell_type": "code",
   "execution_count": null,
   "id": "0354a9dd",
   "metadata": {},
   "outputs": [],
   "source": [
    "df['BILL_AMT3'].min()"
   ]
  },
  {
   "cell_type": "code",
   "execution_count": null,
   "id": "5294acb6",
   "metadata": {},
   "outputs": [],
   "source": [
    "df['BILL_AMT3'].max()"
   ]
  },
  {
   "cell_type": "code",
   "execution_count": null,
   "id": "7c08c0ce",
   "metadata": {},
   "outputs": [],
   "source": [
    "df['BILL_AMT3'].value_counts()"
   ]
  },
  {
   "cell_type": "code",
   "execution_count": null,
   "id": "bc66cf6c",
   "metadata": {},
   "outputs": [],
   "source": [
    "df['BILL_AMT3'].mean()"
   ]
  },
  {
   "cell_type": "code",
   "execution_count": null,
   "id": "0e3c134e",
   "metadata": {},
   "outputs": [],
   "source": [
    "df['BILL_AMT3'].std()"
   ]
  },
  {
   "cell_type": "code",
   "execution_count": null,
   "id": "fb4e0020",
   "metadata": {},
   "outputs": [],
   "source": [
    "var_x=np.array(df['BILL_AMT3'])\n",
    "plt.boxplot(var_x)"
   ]
  },
  {
   "cell_type": "code",
   "execution_count": null,
   "id": "230b4770",
   "metadata": {},
   "outputs": [],
   "source": [
    "df['BILL_AMT4'].min()"
   ]
  },
  {
   "cell_type": "code",
   "execution_count": null,
   "id": "3a87239c",
   "metadata": {},
   "outputs": [],
   "source": [
    "df['BILL_AMT4'].max()"
   ]
  },
  {
   "cell_type": "code",
   "execution_count": null,
   "id": "d06ab8a8",
   "metadata": {},
   "outputs": [],
   "source": [
    "df['BILL_AMT4'].value_counts()"
   ]
  },
  {
   "cell_type": "code",
   "execution_count": null,
   "id": "5ae12258",
   "metadata": {},
   "outputs": [],
   "source": [
    "df['BILL_AMT4'].mean()"
   ]
  },
  {
   "cell_type": "code",
   "execution_count": null,
   "id": "31e3ce9b",
   "metadata": {},
   "outputs": [],
   "source": [
    "df['BILL_AMT4'].std()"
   ]
  },
  {
   "cell_type": "code",
   "execution_count": null,
   "id": "e250ea97",
   "metadata": {},
   "outputs": [],
   "source": [
    "var_x=np.array(df['BILL_AMT4'])\n",
    "plt.boxplot(var_x)"
   ]
  },
  {
   "cell_type": "code",
   "execution_count": null,
   "id": "f3ea9dc8",
   "metadata": {},
   "outputs": [],
   "source": [
    "df['BILL_AMT5'].min()"
   ]
  },
  {
   "cell_type": "code",
   "execution_count": null,
   "id": "1a57fa72",
   "metadata": {},
   "outputs": [],
   "source": [
    "df['BILL_AMT5'].max()"
   ]
  },
  {
   "cell_type": "code",
   "execution_count": null,
   "id": "4afcc3fc",
   "metadata": {},
   "outputs": [],
   "source": [
    "df['BILL_AMT5'].value_counts()"
   ]
  },
  {
   "cell_type": "code",
   "execution_count": null,
   "id": "457d6a04",
   "metadata": {},
   "outputs": [],
   "source": [
    "df['BILL_AMT5'].mean()"
   ]
  },
  {
   "cell_type": "code",
   "execution_count": null,
   "id": "85795ac2",
   "metadata": {},
   "outputs": [],
   "source": [
    "df['BILL_AMT5'].std()"
   ]
  },
  {
   "cell_type": "code",
   "execution_count": null,
   "id": "6171cd21",
   "metadata": {},
   "outputs": [],
   "source": [
    "var_x=np.array(df['BILL_AMT5'])\n",
    "plt.boxplot(var_x)"
   ]
  },
  {
   "cell_type": "code",
   "execution_count": null,
   "id": "abe41ea5",
   "metadata": {},
   "outputs": [],
   "source": [
    "df['BILL_AMT6'].min()"
   ]
  },
  {
   "cell_type": "code",
   "execution_count": null,
   "id": "f08631c1",
   "metadata": {},
   "outputs": [],
   "source": [
    "df['BILL_AMT6'].max()"
   ]
  },
  {
   "cell_type": "code",
   "execution_count": null,
   "id": "ac1c0935",
   "metadata": {},
   "outputs": [],
   "source": [
    "df['BILL_AMT6'].value_counts()"
   ]
  },
  {
   "cell_type": "code",
   "execution_count": null,
   "id": "9d54986c",
   "metadata": {},
   "outputs": [],
   "source": [
    "df['BILL_AMT6'].mean()"
   ]
  },
  {
   "cell_type": "code",
   "execution_count": null,
   "id": "7112447b",
   "metadata": {},
   "outputs": [],
   "source": [
    "df['BILL_AMT6'].std()"
   ]
  },
  {
   "cell_type": "code",
   "execution_count": null,
   "id": "6b860ef1",
   "metadata": {},
   "outputs": [],
   "source": [
    "var_x=np.array(df['BILL_AMT6'])\n",
    "plt.boxplot(var_x)"
   ]
  },
  {
   "cell_type": "code",
   "execution_count": null,
   "id": "fda6e112",
   "metadata": {},
   "outputs": [],
   "source": [
    "# Set the figure size\n",
    "plt.rcParams[\"figure.figsize\"] = [7.50, 3.50]\n",
    "plt.rcParams[\"figure.autolayout\"] = True\n",
    "\n",
    "# Plot the dataframe\n",
    "ax = df[['BILL_AMT1', 'BILL_AMT2', 'BILL_AMT3', 'BILL_AMT4', 'BILL_AMT5', 'BILL_AMT6']].plot(kind='box', title='BILL_AMT Boxplots')\n",
    "\n",
    "# Display the plot\n",
    "plt.xlabel(\"ID\")\n",
    "plt.ylabel(\"Frequency\")\n",
    "plt.title(\"ID Distribution\")\n",
    "plt.show()"
   ]
  },
  {
   "cell_type": "code",
   "execution_count": 369,
   "id": "7f3402e6",
   "metadata": {},
   "outputs": [
    {
     "data": {
      "text/plain": [
       "'All of the histograms have a very similar interquartile range and are nearly identical with\\na slight difference in the data sampling it seems. However, where they difffer is that BILL_AMT6\\nis weighted downward with a small cluster of points and BILL_AMT 3,5 both contain upper outliers\\nthat we might want to further examine for commonalities'"
      ]
     },
     "execution_count": 369,
     "metadata": {},
     "output_type": "execute_result"
    }
   ],
   "source": [
    "\"\"\"TASK 2\"\"\"\n",
    "#Describe your findings observed from the above questions (i.e., 2(a) and 2(b)).    \n",
    "\"\"\"All of the histograms have a very similar interquartile range and are nearly identical with\n",
    "a slight difference in the data sampling it seems. However, where they difffer is that BILL_AMT6\n",
    "is weighted downward with a small cluster of points and BILL_AMT 3,5 both contain upper outliers\n",
    "that we might want to further examine for commonalities\"\"\""
   ]
  },
  {
   "cell_type": "code",
   "execution_count": 79,
   "id": "a8c9d4a2",
   "metadata": {},
   "outputs": [
    {
     "data": {
      "text/plain": [
       "'TASK 3'"
      ]
     },
     "execution_count": 79,
     "metadata": {},
     "output_type": "execute_result"
    }
   ],
   "source": [
    "\"\"\"TASK 3\"\"\"\n",
    "#Discuss the characteristics and differences of chi-square functions \n",
    "\n",
    "\n",
    "'''Chi-Squared Test: if they select a defined range of attribute values, they are more likely to select another range of values of another mutually dependent attribute. Can be used to detect mutual Independence depending on chi-squared test score. \n",
    "\n",
    "Mutual information detects whether some rows contain mutual attribute values across separate attributes.\n",
    "\n",
    "Chi-Squared is based on lower P values\n",
    "Mutual information is based on higher mutual info values, more in commo\n",
    "'''"
   ]
  },
  {
   "cell_type": "code",
   "execution_count": 370,
   "id": "0036be94",
   "metadata": {},
   "outputs": [
    {
     "data": {
      "text/plain": [
       "'No, we might need to normalize some of the categorical data or categorize the numerical data to compare with the categorical data and vice versa. Otherwise the numerical data can be directly compared utilizing both of the chi-squared and mutual information tests'"
      ]
     },
     "execution_count": 370,
     "metadata": {},
     "output_type": "execute_result"
    }
   ],
   "source": [
    "#Can we directly apply a chi-square function and a mutual information function on this dataset for feature selection? \n",
    "#Please explain in accordance with the different attribute types in this dataset.  \n",
    "\n",
    "'''No, we might need to normalize some of the categorical data or categorize the numerical data to compare with the categorical data and vice versa. Otherwise the numerical data can be directly compared utilizing both of the chi-squared and mutual information tests'''"
   ]
  },
  {
   "cell_type": "code",
   "execution_count": 410,
   "id": "236681af",
   "metadata": {},
   "outputs": [
    {
     "data": {
      "text/plain": [
       "0.5307828240549662"
      ]
     },
     "execution_count": 410,
     "metadata": {},
     "output_type": "execute_result"
    }
   ],
   "source": [
    "#Employ chi-square or mutual information as appropriate to obtain a measure between values of each feature and the class. \n",
    "#Rank features by their measures of chi-square and mutual information, respectively.  \n",
    "#Note: Please make two lists: one for chi-square and the other for mutual information. \n",
    "#An attribute only belongs to one list. \n",
    "\n",
    "\n",
    "mutual_info_score(df['ID'],df['default payment next month'])\n",
    "\n",
    "#ID < Bill_amt1<bill_amt6<pay_amt1<pay_amt6"
   ]
  },
  {
   "cell_type": "code",
   "execution_count": 409,
   "id": "8282990a",
   "metadata": {},
   "outputs": [
    {
     "data": {
      "text/plain": [
       "0.49696513636361594"
      ]
     },
     "execution_count": 409,
     "metadata": {},
     "output_type": "execute_result"
    }
   ],
   "source": [
    "contingency= pd.crosstab(df['ID'], df['default payment next month'])\n",
    "chi, p, dof, expected=chi2_contingency(contingency)\n",
    "p"
   ]
  },
  {
   "cell_type": "code",
   "execution_count": 381,
   "id": "ae1c138b",
   "metadata": {},
   "outputs": [
    {
     "data": {
      "text/plain": [
       "0.01721881690939895"
      ]
     },
     "execution_count": 381,
     "metadata": {},
     "output_type": "execute_result"
    }
   ],
   "source": [
    "mutual_info_score(df['LIMIT_BAL'],df['default payment next month'])"
   ]
  },
  {
   "cell_type": "code",
   "execution_count": 411,
   "id": "425f754a",
   "metadata": {},
   "outputs": [
    {
     "data": {
      "text/plain": [
       "4.480442785191215e-125"
      ]
     },
     "execution_count": 411,
     "metadata": {},
     "output_type": "execute_result"
    }
   ],
   "source": [
    "contingency= pd.crosstab(df['LIMIT_BAL'], df['default payment next month'])\n",
    "chi, p, dof, expected=chi2_contingency(contingency)\n",
    "p"
   ]
  },
  {
   "cell_type": "code",
   "execution_count": 382,
   "id": "3b1243a4",
   "metadata": {},
   "outputs": [
    {
     "data": {
      "text/plain": [
       "0.0006318352730546595"
      ]
     },
     "execution_count": 382,
     "metadata": {},
     "output_type": "execute_result"
    }
   ],
   "source": [
    "mutual_info_score(df['SEX'],df['default payment next month'])"
   ]
  },
  {
   "cell_type": "code",
   "execution_count": 412,
   "id": "cada1aa0",
   "metadata": {},
   "outputs": [
    {
     "data": {
      "text/plain": [
       "3.6307816914492925e-08"
      ]
     },
     "execution_count": 412,
     "metadata": {},
     "output_type": "execute_result"
    }
   ],
   "source": [
    "contingency= pd.crosstab(df['SEX'], df['default payment next month'])\n",
    "chi, p, dof, expected=chi2_contingency(contingency)\n",
    "p"
   ]
  },
  {
   "cell_type": "code",
   "execution_count": 383,
   "id": "a352eef1",
   "metadata": {},
   "outputs": [
    {
     "data": {
      "text/plain": [
       "0.0029522171388151434"
      ]
     },
     "execution_count": 383,
     "metadata": {},
     "output_type": "execute_result"
    }
   ],
   "source": [
    "mutual_info_score(df['EDUCATION'],df['default payment next month'])"
   ]
  },
  {
   "cell_type": "code",
   "execution_count": 413,
   "id": "807c9f21",
   "metadata": {},
   "outputs": [
    {
     "data": {
      "text/plain": [
       "7.504585848042359e-25"
      ]
     },
     "execution_count": 413,
     "metadata": {},
     "output_type": "execute_result"
    }
   ],
   "source": [
    "contingency= pd.crosstab(df['EDUCATION'], df['default payment next month'])\n",
    "chi, p, dof, expected=chi2_contingency(contingency)\n",
    "p"
   ]
  },
  {
   "cell_type": "code",
   "execution_count": 384,
   "id": "7e2e0a9d",
   "metadata": {},
   "outputs": [
    {
     "data": {
      "text/plain": [
       "0.0005029872206222894"
      ]
     },
     "execution_count": 384,
     "metadata": {},
     "output_type": "execute_result"
    }
   ],
   "source": [
    "mutual_info_score(df['MARRIAGE'],df['default payment next month'])"
   ]
  },
  {
   "cell_type": "code",
   "execution_count": 414,
   "id": "c14a19b3",
   "metadata": {},
   "outputs": [
    {
     "data": {
      "text/plain": [
       "3.374736832509036e-05"
      ]
     },
     "execution_count": 414,
     "metadata": {},
     "output_type": "execute_result"
    }
   ],
   "source": [
    "contingency= pd.crosstab(df['MARRIAGE'], df['default payment next month'])\n",
    "chi, p, dof, expected=chi2_contingency(contingency)\n",
    "p"
   ]
  },
  {
   "cell_type": "code",
   "execution_count": 385,
   "id": "4dff1906",
   "metadata": {},
   "outputs": [
    {
     "data": {
      "text/plain": [
       "0.00267090467710086"
      ]
     },
     "execution_count": 385,
     "metadata": {},
     "output_type": "execute_result"
    }
   ],
   "source": [
    "mutual_info_score(df['AGE'],df['default payment next month'])"
   ]
  },
  {
   "cell_type": "code",
   "execution_count": 415,
   "id": "6204d942",
   "metadata": {},
   "outputs": [
    {
     "data": {
      "text/plain": [
       "1.754297463645798e-08"
      ]
     },
     "execution_count": 415,
     "metadata": {},
     "output_type": "execute_result"
    }
   ],
   "source": [
    "contingency= pd.crosstab(df['AGE'], df['default payment next month'])\n",
    "chi, p, dof, expected=chi2_contingency(contingency)\n",
    "p\n",
    "\n",
    "#AGE...."
   ]
  },
  {
   "cell_type": "code",
   "execution_count": 386,
   "id": "c0fc928b",
   "metadata": {},
   "outputs": [
    {
     "data": {
      "text/plain": [
       "0.07639297666286696"
      ]
     },
     "execution_count": 386,
     "metadata": {},
     "output_type": "execute_result"
    }
   ],
   "source": [
    "mutual_info_score(df['PAY_0'],df['default payment next month'])"
   ]
  },
  {
   "cell_type": "code",
   "execution_count": 417,
   "id": "2b29f5c1",
   "metadata": {},
   "outputs": [
    {
     "data": {
      "text/plain": [
       "0.0"
      ]
     },
     "execution_count": 417,
     "metadata": {},
     "output_type": "execute_result"
    }
   ],
   "source": [
    "contingency= pd.crosstab(df['PAY_0'], df['default payment next month'])\n",
    "chi, p, dof, expected=chi2_contingency(contingency)\n",
    "p\n",
    "\n",
    "#CHI^2"
   ]
  },
  {
   "cell_type": "code",
   "execution_count": 387,
   "id": "ca8863ff",
   "metadata": {},
   "outputs": [
    {
     "data": {
      "text/plain": [
       "0.04975875044384179"
      ]
     },
     "execution_count": 387,
     "metadata": {},
     "output_type": "execute_result"
    }
   ],
   "source": [
    "mutual_info_score(df['PAY_2'],df['default payment next month'])"
   ]
  },
  {
   "cell_type": "code",
   "execution_count": 418,
   "id": "97369aa9",
   "metadata": {},
   "outputs": [
    {
     "data": {
      "text/plain": [
       "0.0"
      ]
     },
     "execution_count": 418,
     "metadata": {},
     "output_type": "execute_result"
    }
   ],
   "source": [
    "contingency= pd.crosstab(df['PAY_2'], df['default payment next month'])\n",
    "chi, p, dof, expected=chi2_contingency(contingency)\n",
    "p\n",
    "\n",
    "#PAY_X CHIS"
   ]
  },
  {
   "cell_type": "code",
   "execution_count": 388,
   "id": "5cc29faa",
   "metadata": {},
   "outputs": [
    {
     "data": {
      "text/plain": [
       "0.036895226687647824"
      ]
     },
     "execution_count": 388,
     "metadata": {},
     "output_type": "execute_result"
    }
   ],
   "source": [
    "mutual_info_score(df['PAY_3'],df['default payment next month'])"
   ]
  },
  {
   "cell_type": "code",
   "execution_count": 419,
   "id": "bee3c050",
   "metadata": {},
   "outputs": [
    {
     "data": {
      "text/plain": [
       "0.0"
      ]
     },
     "execution_count": 419,
     "metadata": {},
     "output_type": "execute_result"
    }
   ],
   "source": [
    "contingency= pd.crosstab(df['PAY_3'], df['default payment next month'])\n",
    "chi, p, dof, expected=chi2_contingency(contingency)\n",
    "p"
   ]
  },
  {
   "cell_type": "code",
   "execution_count": 389,
   "id": "8c986ada",
   "metadata": {},
   "outputs": [
    {
     "data": {
      "text/plain": [
       "0.032940654985826726"
      ]
     },
     "execution_count": 389,
     "metadata": {},
     "output_type": "execute_result"
    }
   ],
   "source": [
    "mutual_info_score(df['PAY_4'],df['default payment next month'])"
   ]
  },
  {
   "cell_type": "code",
   "execution_count": 420,
   "id": "25722d0a",
   "metadata": {},
   "outputs": [
    {
     "data": {
      "text/plain": [
       "0.0"
      ]
     },
     "execution_count": 420,
     "metadata": {},
     "output_type": "execute_result"
    }
   ],
   "source": [
    "contingency= pd.crosstab(df['PAY_4'], df['default payment next month'])\n",
    "chi, p, dof, expected=chi2_contingency(contingency)\n",
    "p"
   ]
  },
  {
   "cell_type": "code",
   "execution_count": 390,
   "id": "37c586ac",
   "metadata": {},
   "outputs": [
    {
     "data": {
      "text/plain": [
       "0.03200950448758364"
      ]
     },
     "execution_count": 390,
     "metadata": {},
     "output_type": "execute_result"
    }
   ],
   "source": [
    "mutual_info_score(df['PAY_5'],df['default payment next month'])"
   ]
  },
  {
   "cell_type": "code",
   "execution_count": 421,
   "id": "15a933ca",
   "metadata": {},
   "outputs": [
    {
     "data": {
      "text/plain": [
       "0.0"
      ]
     },
     "execution_count": 421,
     "metadata": {},
     "output_type": "execute_result"
    }
   ],
   "source": [
    "contingency= pd.crosstab(df['PAY_5'], df['default payment next month'])\n",
    "chi, p, dof, expected=chi2_contingency(contingency)\n",
    "p"
   ]
  },
  {
   "cell_type": "code",
   "execution_count": 391,
   "id": "fcad5917",
   "metadata": {},
   "outputs": [
    {
     "data": {
      "text/plain": [
       "0.027065812298487046"
      ]
     },
     "execution_count": 391,
     "metadata": {},
     "output_type": "execute_result"
    }
   ],
   "source": [
    "mutual_info_score(df['PAY_6'],df['default payment next month'])"
   ]
  },
  {
   "cell_type": "code",
   "execution_count": 423,
   "id": "6c6909a2",
   "metadata": {},
   "outputs": [
    {
     "data": {
      "text/plain": [
       "0.0"
      ]
     },
     "execution_count": 423,
     "metadata": {},
     "output_type": "execute_result"
    }
   ],
   "source": [
    "contingency= pd.crosstab(df['PAY_6'], df['default payment next month'])\n",
    "chi, p, dof, expected=chi2_contingency(contingency)\n",
    "p"
   ]
  },
  {
   "cell_type": "code",
   "execution_count": 392,
   "id": "16f3ef8c",
   "metadata": {},
   "outputs": [
    {
     "data": {
      "text/plain": [
       "0.415370843637736"
      ]
     },
     "execution_count": 392,
     "metadata": {},
     "output_type": "execute_result"
    }
   ],
   "source": [
    "mutual_info_score(df['BILL_AMT1'],df['default payment next month'])\n",
    "#Bill _ amts, earlier the better"
   ]
  },
  {
   "cell_type": "code",
   "execution_count": 422,
   "id": "c7071695",
   "metadata": {},
   "outputs": [
    {
     "data": {
      "text/plain": [
       "0.8660452338340344"
      ]
     },
     "execution_count": 422,
     "metadata": {},
     "output_type": "execute_result"
    }
   ],
   "source": [
    "contingency= pd.crosstab(df['BILL_AMT1'], df['default payment next month'])\n",
    "chi, p, dof, expected=chi2_contingency(contingency)\n",
    "p\n",
    "\n",
    "#BILL AMT CHI2"
   ]
  },
  {
   "cell_type": "code",
   "execution_count": 393,
   "id": "f102bc2b",
   "metadata": {},
   "outputs": [
    {
     "data": {
      "text/plain": [
       "0.4101493884767311"
      ]
     },
     "execution_count": 393,
     "metadata": {},
     "output_type": "execute_result"
    }
   ],
   "source": [
    "mutual_info_score(df['BILL_AMT2'],df['default payment next month'])"
   ]
  },
  {
   "cell_type": "code",
   "execution_count": 424,
   "id": "9226d524",
   "metadata": {},
   "outputs": [
    {
     "data": {
      "text/plain": [
       "0.6491404243273402"
      ]
     },
     "execution_count": 424,
     "metadata": {},
     "output_type": "execute_result"
    }
   ],
   "source": [
    "contingency= pd.crosstab(df['BILL_AMT2'], df['default payment next month'])\n",
    "chi, p, dof, expected=chi2_contingency(contingency)\n",
    "p"
   ]
  },
  {
   "cell_type": "code",
   "execution_count": 425,
   "id": "4b95e79b",
   "metadata": {},
   "outputs": [
    {
     "data": {
      "text/plain": [
       "0.4040469496591991"
      ]
     },
     "execution_count": 425,
     "metadata": {},
     "output_type": "execute_result"
    }
   ],
   "source": [
    "mutual_info_score(df['BILL_AMT3'],df['default payment next month'])"
   ]
  },
  {
   "cell_type": "code",
   "execution_count": 426,
   "id": "cea3fa28",
   "metadata": {},
   "outputs": [
    {
     "data": {
      "text/plain": [
       "0.7265949979939756"
      ]
     },
     "execution_count": 426,
     "metadata": {},
     "output_type": "execute_result"
    }
   ],
   "source": [
    "contingency= pd.crosstab(df['BILL_AMT3'], df['default payment next month'])\n",
    "chi, p, dof, expected=chi2_contingency(contingency)\n",
    "p"
   ]
  },
  {
   "cell_type": "code",
   "execution_count": 395,
   "id": "8c56adae",
   "metadata": {},
   "outputs": [
    {
     "data": {
      "text/plain": [
       "0.3966409715598998"
      ]
     },
     "execution_count": 395,
     "metadata": {},
     "output_type": "execute_result"
    }
   ],
   "source": [
    "mutual_info_score(df['BILL_AMT4'],df['default payment next month'])"
   ]
  },
  {
   "cell_type": "code",
   "execution_count": 379,
   "id": "de3361aa",
   "metadata": {},
   "outputs": [
    {
     "data": {
      "text/plain": [
       "0.01721881690939895"
      ]
     },
     "execution_count": 379,
     "metadata": {},
     "output_type": "execute_result"
    }
   ],
   "source": [
    "contingency= pd.crosstab(df['BILL_AMT4'], df['default payment next month'])\n",
    "chi, p, dof, expected=chi2_contingency(contingency)\n",
    "p"
   ]
  },
  {
   "cell_type": "code",
   "execution_count": 396,
   "id": "9c9fac7d",
   "metadata": {},
   "outputs": [
    {
     "data": {
      "text/plain": [
       "0.3876579534522836"
      ]
     },
     "execution_count": 396,
     "metadata": {},
     "output_type": "execute_result"
    }
   ],
   "source": [
    "mutual_info_score(df['BILL_AMT5'],df['default payment next month'])"
   ]
  },
  {
   "cell_type": "code",
   "execution_count": 427,
   "id": "65f53e2a",
   "metadata": {},
   "outputs": [
    {
     "data": {
      "text/plain": [
       "0.6906076554848462"
      ]
     },
     "execution_count": 427,
     "metadata": {},
     "output_type": "execute_result"
    }
   ],
   "source": [
    "contingency= pd.crosstab(df['BILL_AMT5'], df['default payment next month'])\n",
    "chi, p, dof, expected=chi2_contingency(contingency)\n",
    "p"
   ]
  },
  {
   "cell_type": "code",
   "execution_count": 397,
   "id": "30e51e88",
   "metadata": {},
   "outputs": [
    {
     "data": {
      "text/plain": [
       "0.3815607948179738"
      ]
     },
     "execution_count": 397,
     "metadata": {},
     "output_type": "execute_result"
    }
   ],
   "source": [
    "mutual_info_score(df['BILL_AMT6'],df['default payment next month'])"
   ]
  },
  {
   "cell_type": "code",
   "execution_count": 428,
   "id": "d838ac07",
   "metadata": {},
   "outputs": [
    {
     "data": {
      "text/plain": [
       "0.4890532471696181"
      ]
     },
     "execution_count": 428,
     "metadata": {},
     "output_type": "execute_result"
    }
   ],
   "source": [
    "contingency= pd.crosstab(df['BILL_AMT6'], df['default payment next month'])\n",
    "chi, p, dof, expected=chi2_contingency(contingency)\n",
    "p"
   ]
  },
  {
   "cell_type": "code",
   "execution_count": 398,
   "id": "711d5003",
   "metadata": {},
   "outputs": [
    {
     "data": {
      "text/plain": [
       "0.1522465673824506"
      ]
     },
     "execution_count": 398,
     "metadata": {},
     "output_type": "execute_result"
    }
   ],
   "source": [
    "mutual_info_score(df['PAY_AMT1'],df['default payment next month'])\n",
    "\n",
    "# pay amounts, the earlier the better"
   ]
  },
  {
   "cell_type": "code",
   "execution_count": 429,
   "id": "afaa8f0c",
   "metadata": {},
   "outputs": [
    {
     "data": {
      "text/plain": [
       "0.9999999998806247"
      ]
     },
     "execution_count": 429,
     "metadata": {},
     "output_type": "execute_result"
    }
   ],
   "source": [
    "contingency= pd.crosstab(df['PAY_AMT1'], df['default payment next month'])\n",
    "chi, p, dof, expected=chi2_contingency(contingency)\n",
    "p"
   ]
  },
  {
   "cell_type": "code",
   "execution_count": 399,
   "id": "010fb148",
   "metadata": {},
   "outputs": [
    {
     "data": {
      "text/plain": [
       "0.1453710376022176"
      ]
     },
     "execution_count": 399,
     "metadata": {},
     "output_type": "execute_result"
    }
   ],
   "source": [
    "mutual_info_score(df['PAY_AMT2'],df['default payment next month'])"
   ]
  },
  {
   "cell_type": "code",
   "execution_count": 430,
   "id": "b5d80ce1",
   "metadata": {},
   "outputs": [
    {
     "data": {
      "text/plain": [
       "1.0"
      ]
     },
     "execution_count": 430,
     "metadata": {},
     "output_type": "execute_result"
    }
   ],
   "source": [
    "contingency= pd.crosstab(df['PAY_AMT2'], df['default payment next month'])\n",
    "chi, p, dof, expected=chi2_contingency(contingency)\n",
    "p"
   ]
  },
  {
   "cell_type": "code",
   "execution_count": 400,
   "id": "c32c623b",
   "metadata": {},
   "outputs": [
    {
     "data": {
      "text/plain": [
       "0.14138556608106337"
      ]
     },
     "execution_count": 400,
     "metadata": {},
     "output_type": "execute_result"
    }
   ],
   "source": [
    "mutual_info_score(df['PAY_AMT3'],df['default payment next month'])"
   ]
  },
  {
   "cell_type": "code",
   "execution_count": 431,
   "id": "feaa364d",
   "metadata": {},
   "outputs": [
    {
     "data": {
      "text/plain": [
       "0.9999999999969125"
      ]
     },
     "execution_count": 431,
     "metadata": {},
     "output_type": "execute_result"
    }
   ],
   "source": [
    "contingency= pd.crosstab(df['PAY_AMT3'], df['default payment next month'])\n",
    "chi, p, dof, expected=chi2_contingency(contingency)\n",
    "p"
   ]
  },
  {
   "cell_type": "code",
   "execution_count": 401,
   "id": "c472d535",
   "metadata": {},
   "outputs": [
    {
     "data": {
      "text/plain": [
       "0.1302895804553946"
      ]
     },
     "execution_count": 401,
     "metadata": {},
     "output_type": "execute_result"
    }
   ],
   "source": [
    "mutual_info_score(df['PAY_AMT4'],df['default payment next month'])"
   ]
  },
  {
   "cell_type": "code",
   "execution_count": 432,
   "id": "1c6811db",
   "metadata": {},
   "outputs": [
    {
     "data": {
      "text/plain": [
       "0.9999999999991136"
      ]
     },
     "execution_count": 432,
     "metadata": {},
     "output_type": "execute_result"
    }
   ],
   "source": [
    "contingency= pd.crosstab(df['PAY_AMT4'], df['default payment next month'])\n",
    "chi, p, dof, expected=chi2_contingency(contingency)\n",
    "p"
   ]
  },
  {
   "cell_type": "code",
   "execution_count": 402,
   "id": "5c085848",
   "metadata": {},
   "outputs": [
    {
     "data": {
      "text/plain": [
       "0.13093101279198127"
      ]
     },
     "execution_count": 402,
     "metadata": {},
     "output_type": "execute_result"
    }
   ],
   "source": [
    "mutual_info_score(df['PAY_AMT5'],df['default payment next month'])"
   ]
  },
  {
   "cell_type": "code",
   "execution_count": 379,
   "id": "7535837e",
   "metadata": {},
   "outputs": [
    {
     "data": {
      "text/plain": [
       "0.01721881690939895"
      ]
     },
     "execution_count": 379,
     "metadata": {},
     "output_type": "execute_result"
    }
   ],
   "source": [
    "contingency= pd.crosstab(df['PAY_AMT5'], df['default payment next month'])\n",
    "chi, p, dof, expected=chi2_contingency(contingency)\n",
    "p"
   ]
  },
  {
   "cell_type": "code",
   "execution_count": 403,
   "id": "a8c799a9",
   "metadata": {},
   "outputs": [
    {
     "data": {
      "text/plain": [
       "0.13052446209320992"
      ]
     },
     "execution_count": 403,
     "metadata": {},
     "output_type": "execute_result"
    }
   ],
   "source": [
    "mutual_info_score(df['PAY_AMT6'],df['default payment next month'])"
   ]
  },
  {
   "cell_type": "code",
   "execution_count": 379,
   "id": "b8807eac",
   "metadata": {},
   "outputs": [
    {
     "data": {
      "text/plain": [
       "0.01721881690939895"
      ]
     },
     "execution_count": 379,
     "metadata": {},
     "output_type": "execute_result"
    }
   ],
   "source": [
    "contingency= pd.crosstab(df['PAY_AMT6'], df['default payment next month'])\n",
    "chi, p, dof, expected=chi2_contingency(contingency)\n",
    "p"
   ]
  },
  {
   "cell_type": "code",
   "execution_count": 466,
   "id": "72703ca1",
   "metadata": {},
   "outputs": [
    {
     "data": {
      "text/plain": [
       "Text(0.5, 1.0, 'ID Distribution in Credit Cards Clients')"
      ]
     },
     "execution_count": 466,
     "metadata": {},
     "output_type": "execute_result"
    },
    {
     "data": {
      "image/png": "[encoded data removed]",
      "text/plain": [
       "<Figure size 432x288 with 1 Axes>"
      ]
     },
     "metadata": {
      "needs_background": "light"
     },
     "output_type": "display_data"
    }
   ],
   "source": [
    "#plot value distribution of the highest ranked three categorical features, \n",
    "crosstb=pd.crosstab(df['ID'], df['default payment next month'])\n",
    "barplot = crosstb.plot(kind='bar', stacked=True, rot=0)\n",
    "for p in barplot.patches:\n",
    "    barplot.annotate(str(p.get_height()),(p.get_x()*1.005, p.get_height()*1.005))\n",
    "barplot.set_xticklabels(barplot.get_xticklabels(), rotation=0)\n",
    "barplot.set_xlabel(\"ID\")\n",
    "barplot.set_ylabel(\"Number of Occurrences\")\n",
    "barplot.set_title(\"ID Distribution in Credit Cards Clients\")\n"
   ]
  },
  {
   "cell_type": "code",
   "execution_count": 467,
   "id": "c9307b4c",
   "metadata": {},
   "outputs": [
    {
     "data": {
      "text/plain": [
       "Text(0.5, 1.0, 'LIMIT_BAL Distribution in Credit Cards Clients')"
      ]
     },
     "execution_count": 467,
     "metadata": {},
     "output_type": "execute_result"
    },
    {
     "data": {
      "image/png": "[encoded data removed]",
      "text/plain": [
       "<Figure size 432x288 with 1 Axes>"
      ]
     },
     "metadata": {
      "needs_background": "light"
     },
     "output_type": "display_data"
    }
   ],
   "source": [
    "#plot value distribution of the highest ranked three categorical features, \n",
    "crosstb=pd.crosstab(df['LIMIT_BAL'], df['default payment next month'])\n",
    "barplot = crosstb.plot(kind='bar', stacked=True, rot=0)\n",
    "for p in barplot.patches:\n",
    "    barplot.annotate(str(p.get_height()),(p.get_x()*1.005, p.get_height()*1.005))\n",
    "barplot.set_xticklabels(barplot.get_xticklabels(), rotation=0)\n",
    "barplot.set_xlabel(\"LIMIT_BAL\")\n",
    "barplot.set_ylabel(\"Number of Occurrences\")\n",
    "barplot.set_title(\"LIMIT_BAL Distribution in Credit Cards Clients\")\n"
   ]
  },
  {
   "cell_type": "code",
   "execution_count": 468,
   "id": "0e6a6e1a",
   "metadata": {},
   "outputs": [
    {
     "name": "stderr",
     "output_type": "stream",
     "text": [
      "C:\\Users\\dmoye\\AppData\\Local\\Temp\\ipykernel_46792\\3330924568.py:6: UserWarning: FixedFormatter should only be used together with FixedLocator\n",
      "  barplot.set_xticklabels(barplot.get_xticklabels(), rotation=0)\n"
     ]
    },
    {
     "data": {
      "text/plain": [
       "Text(0.5, 1.0, 'AGE Distribution in Credit Cards Clients')"
      ]
     },
     "execution_count": 468,
     "metadata": {},
     "output_type": "execute_result"
    },
    {
     "data": {
      "image/png": "[encoded data removed]",
      "text/plain": [
       "<Figure size 432x288 with 1 Axes>"
      ]
     },
     "metadata": {
      "needs_background": "light"
     },
     "output_type": "display_data"
    }
   ],
   "source": [
    "#PLOT value distribution of the lowest ranked three categorical features, \n",
    "crosstb=pd.crosstab(df['AGE'], df['default payment next month'])\n",
    "barplot = crosstb.plot.hist(stacked='false',rot=0)\n",
    "for p in barplot.patches:\n",
    "    barplot.annotate(str(p.get_height()),(p.get_x()*1.005, p.get_height()*1.005))\n",
    "barplot.set_xticklabels(barplot.get_xticklabels(), rotation=0)\n",
    "barplot.set_xlabel(\"AGE\")\n",
    "barplot.set_ylabel(\"Number of Occurrences\")\n",
    "barplot.set_title(\"AGE Distribution in Credit Cards Clients\")\n"
   ]
  },
  {
   "cell_type": "code",
   "execution_count": 469,
   "id": "4b40da54",
   "metadata": {},
   "outputs": [
    {
     "data": {
      "text/plain": [
       "Text(0.5, 1.0, 'MARRIAGE Distribution in Credit Cards Clients')"
      ]
     },
     "execution_count": 469,
     "metadata": {},
     "output_type": "execute_result"
    },
    {
     "data": {
      "image/png": "[encoded data removed]",
      "text/plain": [
       "<Figure size 432x288 with 1 Axes>"
      ]
     },
     "metadata": {
      "needs_background": "light"
     },
     "output_type": "display_data"
    }
   ],
   "source": [
    "#PLOT value distribution of the lowest ranked three categorical features, \n",
    "crosstb=pd.crosstab(df['MARRIAGE'], df['default payment next month'])\n",
    "barplot = crosstb.plot(kind='bar', stacked=True, rot=0)\n",
    "for p in barplot.patches:\n",
    "    barplot.annotate(str(p.get_height()),(p.get_x()*1.005, p.get_height()*1.005))\n",
    "barplot.set_xticklabels(barplot.get_xticklabels(), rotation=0)\n",
    "barplot.set_xlabel(\"MARRIAGE\")\n",
    "barplot.set_ylabel(\"Number of Occurrences\")\n",
    "barplot.set_title(\"MARRIAGE Distribution in Credit Cards Clients\")\n",
    "\n",
    "\n",
    "\n",
    "\n",
    "\n",
    "\n",
    "\n"
   ]
  },
  {
   "cell_type": "code",
   "execution_count": 470,
   "id": "87862e3d",
   "metadata": {},
   "outputs": [
    {
     "data": {
      "text/plain": [
       "Text(0.5, 1.0, 'SEX Distribution in Credit Cards Clients')"
      ]
     },
     "execution_count": 470,
     "metadata": {},
     "output_type": "execute_result"
    },
    {
     "data": {
      "image/png": "[encoded data removed]",
      "text/plain": [
       "<Figure size 432x288 with 1 Axes>"
      ]
     },
     "metadata": {
      "needs_background": "light"
     },
     "output_type": "display_data"
    }
   ],
   "source": [
    "#PLOT value distribution of the lowest ranked three categorical features, \n",
    "crosstb=pd.crosstab(df['SEX'], df['default payment next month'])\n",
    "barplot = crosstb.plot(kind='bar', stacked=True, rot=0)\n",
    "for p in barplot.patches:\n",
    "    barplot.annotate(str(p.get_height()),(p.get_x()*1.005, p.get_height()*1.005))\n",
    "barplot.set_xticklabels(barplot.get_xticklabels(), rotation=0)\n",
    "barplot.set_xlabel(\"SEX\")\n",
    "barplot.set_ylabel(\"Number of Occurrences\")\n",
    "barplot.set_title(\"SEX Distribution in Credit Cards Clients\")\n",
    "\n"
   ]
  },
  {
   "cell_type": "code",
   "execution_count": 471,
   "id": "6f76632d",
   "metadata": {},
   "outputs": [
    {
     "data": {
      "text/plain": [
       "Text(0.5, 1.0, 'EDUCATION Distribution in Credit Cards Clients')"
      ]
     },
     "execution_count": 471,
     "metadata": {},
     "output_type": "execute_result"
    },
    {
     "data": {
      "image/png": "[encoded data removed]",
      "text/plain": [
       "<Figure size 432x288 with 1 Axes>"
      ]
     },
     "metadata": {
      "needs_background": "light"
     },
     "output_type": "display_data"
    }
   ],
   "source": [
    "#PLOT value distribution of the lowest ranked three categorical features, \n",
    "crosstb=pd.crosstab(df['EDUCATION'], df['default payment next month'])\n",
    "barplot = crosstb.plot(kind='bar', stacked=True, rot=0)\n",
    "for p in barplot.patches:\n",
    "    barplot.annotate(str(p.get_height()),(p.get_x()*1.005, p.get_height()*1.005))\n",
    "barplot.set_xticklabels(barplot.get_xticklabels(), rotation=0)\n",
    "barplot.set_xlabel(\"EDUCATION\")\n",
    "barplot.set_ylabel(\"Number of Occurrences\")\n",
    "barplot.set_title(\"EDUCATION Distribution in Credit Cards Clients\")\n"
   ]
  },
  {
   "cell_type": "code",
   "execution_count": 493,
   "id": "95f9fd58",
   "metadata": {},
   "outputs": [
    {
     "name": "stderr",
     "output_type": "stream",
     "text": [
      "C:\\Users\\dmoye\\AppData\\Local\\Temp\\ipykernel_46792\\1641948835.py:7: UserWarning: FixedFormatter should only be used together with FixedLocator\n",
      "  barplot.set_xticklabels(barplot.get_xticklabels(), rotation=0)\n"
     ]
    },
    {
     "data": {
      "text/plain": [
       "Text(0.5, 1.0, 'BILL_AMT1 Distribution in Credit Cards Clients')"
      ]
     },
     "execution_count": 493,
     "metadata": {},
     "output_type": "execute_result"
    },
    {
     "data": {
      "image/png": "[encoded data removed]",
      "text/plain": [
       "<Figure size 432x288 with 1 Axes>"
      ]
     },
     "metadata": {
      "needs_background": "light"
     },
     "output_type": "display_data"
    }
   ],
   "source": [
    "#PLOT value distribution of the highest ranked three numerical features\n",
    "\n",
    "crosstb=pd.crosstab(df['BILL_AMT1'], df['default payment next month'])\n",
    "barplot = crosstb.plot.hist(stacked=True, rot=0)\n",
    "for p in barplot.patches:\n",
    "    barplot.annotate(str(p.get_height()),(p.get_x()*1.005, p.get_height()*1.005))\n",
    "barplot.set_xticklabels(barplot.get_xticklabels(), rotation=0)\n",
    "barplot.set_xlabel(\"BILL_AMT1\")\n",
    "x_ticks_array=[i for i in range(-155580, 746814, (746814-155580)//10)]\n",
    "barplot.set_xticks(x_ticks_array)\n",
    "barplot.set_ylabel(\"Number of Occurrences\")\n",
    "barplot.set_title(\"BILL_AMT1 Distribution in Credit Cards Clients\")"
   ]
  },
  {
   "cell_type": "code",
   "execution_count": 495,
   "id": "4b7bef1c",
   "metadata": {},
   "outputs": [
    {
     "name": "stderr",
     "output_type": "stream",
     "text": [
      "C:\\Users\\dmoye\\AppData\\Local\\Temp\\ipykernel_46792\\3185865891.py:6: UserWarning: FixedFormatter should only be used together with FixedLocator\n",
      "  barplot.set_xticklabels(barplot.get_xticklabels(), rotation=0)\n"
     ]
    },
    {
     "data": {
      "text/plain": [
       "Text(0.5, 1.0, 'BILL_AMT2 Distribution in Credit Cards Clients')"
      ]
     },
     "execution_count": 495,
     "metadata": {},
     "output_type": "execute_result"
    },
    {
     "data": {
      "image/png": "[encoded data removed]",
      "text/plain": [
       "<Figure size 432x288 with 1 Axes>"
      ]
     },
     "metadata": {
      "needs_background": "light"
     },
     "output_type": "display_data"
    }
   ],
   "source": [
    "#PLOT value distribution of the highest ranked three numerical features\n",
    "crosstb=pd.crosstab(df['BILL_AMT2'], df['default payment next month'])\n",
    "barplot = crosstb.plot.hist(stacked=True, rot=0)\n",
    "for p in barplot.patches:\n",
    "    barplot.annotate(str(p.get_height()),(p.get_x()*1.005, p.get_height()*1.005))\n",
    "barplot.set_xticklabels(barplot.get_xticklabels(), rotation=0)\n",
    "barplot.set_xlabel(\"BILL_AMT2\")\n",
    "x_ticks_array=[i for i in range(-69777, 743970, (743970-69777)//10)]\n",
    "barplot.set_xticks(x_ticks_array)\n",
    "barplot.set_ylabel(\"Number of Occurrences\")\n",
    "barplot.set_title(\"BILL_AMT2 Distribution in Credit Cards Clients\")"
   ]
  },
  {
   "cell_type": "code",
   "execution_count": 497,
   "id": "728c87ad",
   "metadata": {},
   "outputs": [
    {
     "name": "stderr",
     "output_type": "stream",
     "text": [
      "C:\\Users\\dmoye\\AppData\\Local\\Temp\\ipykernel_46792\\4232054661.py:6: UserWarning: FixedFormatter should only be used together with FixedLocator\n",
      "  barplot.set_xticklabels(barplot.get_xticklabels(), rotation=0)\n"
     ]
    },
    {
     "data": {
      "text/plain": [
       "Text(0.5, 1.0, 'BILL_AMT3 Distribution in Credit Cards Clients')"
      ]
     },
     "execution_count": 497,
     "metadata": {},
     "output_type": "execute_result"
    },
    {
     "data": {
      "image/png": "[encoded data removed]",
      "text/plain": [
       "<Figure size 432x288 with 1 Axes>"
      ]
     },
     "metadata": {
      "needs_background": "light"
     },
     "output_type": "display_data"
    }
   ],
   "source": [
    "#PLOT value distribution of the highest ranked three numerical features\n",
    "crosstb=pd.crosstab(df['BILL_AMT3'], df['default payment next month'])\n",
    "barplot = crosstb.plot.hist( stacked=False, rot=0)\n",
    "for p in barplot.patches:\n",
    "    barplot.annotate(str(p.get_height()),(p.get_x()*1.005, p.get_height()*1.005))\n",
    "barplot.set_xticklabels(barplot.get_xticklabels(), rotation=0)\n",
    "x_ticks_array=[i for i in range(-157264, 1664089,(1664089-157264)//10)]\n",
    "barplot.set_xticks(x_ticks_array)\n",
    "barplot.set_xlabel(\"BILL_AMT3\")\n",
    "barplot.set_ylabel(\"Number of Occurrences\")\n",
    "barplot.set_title(\"BILL_AMT3 Distribution in Credit Cards Clients\")"
   ]
  },
  {
   "cell_type": "code",
   "execution_count": 498,
   "id": "5f1b1654",
   "metadata": {},
   "outputs": [
    {
     "name": "stderr",
     "output_type": "stream",
     "text": [
      "C:\\Users\\dmoye\\AppData\\Local\\Temp\\ipykernel_46792\\4204546214.py:6: UserWarning: FixedFormatter should only be used together with FixedLocator\n",
      "  barplot.set_xticklabels(barplot.get_xticklabels(), rotation=0)\n"
     ]
    },
    {
     "data": {
      "text/plain": [
       "Text(0.5, 1.0, 'PAY_AMT5 Distribution in Credit Cards Clients')"
      ]
     },
     "execution_count": 498,
     "metadata": {},
     "output_type": "execute_result"
    },
    {
     "data": {
      "image/png": "[encoded data removed]",
      "text/plain": [
       "<Figure size 432x288 with 1 Axes>"
      ]
     },
     "metadata": {
      "needs_background": "light"
     },
     "output_type": "display_data"
    }
   ],
   "source": [
    "#PLOT value distribution of the lowest ranked three numerical features. \n",
    "crosstb=pd.crosstab(df['PAY_AMT5'], df['default payment next month'])\n",
    "barplot = crosstb.plot.hist(stacked=False,rot=0)\n",
    "for p in barplot.patches:\n",
    "    barplot.annotate(str(p.get_height()),(p.get_x()*1.005, p.get_height()*1.005))\n",
    "barplot.set_xticklabels(barplot.get_xticklabels(), rotation=0)\n",
    "x_ticks_array=[i for i in range(0, 426529, (426529-0)//10)]\n",
    "barplot.set_xticks(x_ticks_array)\n",
    "barplot.set_xlabel(\"PAY_AMT5\")\n",
    "barplot.set_ylabel(\"Number of Occurrences\")\n",
    "barplot.set_title(\"PAY_AMT5 Distribution in Credit Cards Clients\")"
   ]
  },
  {
   "cell_type": "code",
   "execution_count": 501,
   "id": "77c11d65",
   "metadata": {},
   "outputs": [
    {
     "name": "stderr",
     "output_type": "stream",
     "text": [
      "C:\\Users\\dmoye\\AppData\\Local\\Temp\\ipykernel_46792\\192777321.py:6: UserWarning: FixedFormatter should only be used together with FixedLocator\n",
      "  barplot.set_xticklabels(barplot.get_xticklabels(), rotation=0)\n"
     ]
    },
    {
     "data": {
      "text/plain": [
       "Text(0.5, 1.0, 'AGE Distribution in Credit Cards Clients')"
      ]
     },
     "execution_count": 501,
     "metadata": {},
     "output_type": "execute_result"
    },
    {
     "data": {
      "image/png": "[encoded data removed]",
      "text/plain": [
       "<Figure size 432x288 with 1 Axes>"
      ]
     },
     "metadata": {
      "needs_background": "light"
     },
     "output_type": "display_data"
    }
   ],
   "source": [
    "#PLOT value distribution of the lowest ranked three numerical features. \n",
    "crosstb=pd.crosstab(df['AGE'].value_counts(), df['default payment next month'])\n",
    "barplot = crosstb.plot.hist(stacked=False,rot=0)\n",
    "for p in barplot.patches:\n",
    "    barplot.annotate(str(p.get_height()),(p.get_x()*1.005, p.get_height()*1.005))\n",
    "barplot.set_xticklabels(barplot.get_xticklabels(), rotation=0)\n",
    "x_ticks_array=[i for i in range(21, 75, (75-21)//10)]\n",
    "barplot.set_xticks(x_ticks_array)\n",
    "barplot.set_xlabel(\"AGE\")\n",
    "barplot.set_ylabel(\"Number of Occurrences\")\n",
    "barplot.set_title(\"AGE Distribution in Credit Cards Clients\")\n"
   ]
  },
  {
   "cell_type": "code",
   "execution_count": 500,
   "id": "72d461c9",
   "metadata": {},
   "outputs": [
    {
     "name": "stderr",
     "output_type": "stream",
     "text": [
      "C:\\Users\\dmoye\\AppData\\Local\\Temp\\ipykernel_46792\\797678729.py:6: UserWarning: FixedFormatter should only be used together with FixedLocator\n",
      "  barplot.set_xticklabels(barplot.get_xticklabels(), rotation=0)\n"
     ]
    },
    {
     "data": {
      "text/plain": [
       "Text(0.5, 1.0, 'PAY_AMT6 Distribution in Credit Cards Clients')"
      ]
     },
     "execution_count": 500,
     "metadata": {},
     "output_type": "execute_result"
    },
    {
     "data": {
      "image/png": "[encoded data removed]",
      "text/plain": [
       "<Figure size 432x288 with 1 Axes>"
      ]
     },
     "metadata": {
      "needs_background": "light"
     },
     "output_type": "display_data"
    }
   ],
   "source": [
    "#PLOT value distribution of the lowest ranked three numerical features. \n",
    "crosstb=pd.crosstab(df['PAY_AMT6'], df['default payment next month'])\n",
    "barplot = crosstb.plot.hist(stacked=False,rot=0)\n",
    "for p in barplot.patches:\n",
    "    barplot.annotate(str(p.get_height()),(p.get_x()*1.005, p.get_height()*1.005))\n",
    "barplot.set_xticklabels(barplot.get_xticklabels(), rotation=0)\n",
    "x_ticks_array=[i for i in range(0, 528666, (528666-0)//10)]\n",
    "barplot.set_xticks(x_ticks_array)\n",
    "barplot.set_xlabel(\"PAY_AMT6\")\n",
    "barplot.set_ylabel(\"Number of Occurrences\")\n",
    "barplot.set_title(\"PAY_AMT6 Distribution in Credit Cards Clients\")\n"
   ]
  },
  {
   "cell_type": "code",
   "execution_count": 502,
   "id": "5d3243d7",
   "metadata": {},
   "outputs": [
    {
     "data": {
      "text/plain": [
       "'\\nBefore I rescaled the Histograms, they showed the data accordngly. However, once they reflected 10 intervals, the data becomes illegible in the graphs.\\n\\nHowever, some of distributions were leftward/rightward/center where as the coloration trended toward certain sides depending on the graph. For example an attribute that leans rightward when values are distribnuted\\n\\nTherefore, if the class attribute colors are clustered left or right along the value distributions, we can better predict which class attribute knowing how they responded based on their value distrution'"
      ]
     },
     "execution_count": 502,
     "metadata": {},
     "output_type": "execute_result"
    }
   ],
   "source": [
    "#Describe what you observe from these value distributions and discuss whether the ranks are reasonable. \n",
    "'''\n",
    "Before I rescaled the Histograms, they showed the data accordngly. However, once they reflected 10 intervals, the data becomes illegible in the graphs.\n",
    "\n",
    "However, some of distributions were leftward/rightward/center where as the coloration trended toward certain sides depending on the graph. For example an attribute that leans rightward when values are distribnuted\n",
    "\n",
    "Therefore, if the class attribute colors are clustered left or right along the value distributions, we can better predict which class attribute knowing how they responded based on their value distrution'''"
   ]
  },
  {
   "cell_type": "code",
   "execution_count": 512,
   "id": "ada92c21",
   "metadata": {},
   "outputs": [
    {
     "data": {
      "text/plain": [
       "0        3\n",
       "1        2\n",
       "2        3\n",
       "3        3\n",
       "4        5\n",
       "        ..\n",
       "23995    3\n",
       "23996    3\n",
       "23997    2\n",
       "23998    3\n",
       "23999    3\n",
       "Name: CLUSTER_AGE, Length: 24000, dtype: object"
      ]
     },
     "execution_count": 512,
     "metadata": {},
     "output_type": "execute_result"
    }
   ],
   "source": [
    "'''TASK 4'''\n",
    "#Please derive/generate at least one new feature from existing ones in the dataset and explain why you believe it is useful.\n",
    "#Please add the feature or features you propose (those in Assignment 1 and the new ones) to the dataset\n",
    "#in accordance with the following format: \n",
    "    #Column 1 is the client ID and Column 2-24 are the features in the original dataset. \n",
    "    #Insert your proposed feature in the subsequent columns, i.e., Column 25 and so on, \n",
    "    #and move the output class to the last column, e.g., Column 26 if you add only one new feature.\n",
    "    \n",
    "    #New Feature:\n",
    "''' recluster AGE as intervals of 10:\n",
    "        21=2\n",
    "        35=3\n",
    "        75=70\n",
    "'''\n",
    "#Explanation of why this feature is useful:\n",
    "''' having clusters of ages enables us to see how age ranges correlate mutual informatoin wiht other attributes'''\n",
    "    #Add new features to Column 26\n",
    "AGE = df[\"AGE\"]\n",
    "\n",
    "cond_list = [AGE<20,AGE<30, AGE<40,AGE<50,AGE<60,AGE<70,AGE<80, AGE>=80]\n",
    "choice_list = [\"-1\", \"2\", \"3\", \"4\",\"5\",\"6\",\"7\",\"8\"]\n",
    "\n",
    "df['CLUSTER_AGE'] = np.select(cond_list, choice_list)   \n",
    "df['CLUSTER_AGE']\n",
    "    "
   ]
  },
  {
   "cell_type": "code",
   "execution_count": 556,
   "id": "b8e034f8",
   "metadata": {},
   "outputs": [
    {
     "name": "stdout",
     "output_type": "stream",
     "text": [
      "AGE:[54]\n",
      "BILL_AMT1:[912394]\n",
      "BILL_AMT2:[813747]\n",
      "BILL_AMT3:[1821353]\n",
      "BILL_AMT4:[876864]\n",
      "BILL_AMT5:[904874]\n",
      "BILL_AMT6:[908995]\n",
      "PAY_AMT1:[873552]\n",
      "PAY_AMT2:[1684259]\n",
      "PAY_AMT3:[889043]\n",
      "PAY_AMT4:[621000]\n",
      "PAY_AMT5:[426529]\n",
      "PAY_AMT6:[528666]\n"
     ]
    }
   ],
   "source": [
    "for column in df[['AGE', 'BILL_AMT1','BILL_AMT2', 'BILL_AMT3','BILL_AMT4','BILL_AMT5','BILL_AMT6','PAY_AMT1','PAY_AMT2','PAY_AMT3','PAY_AMT4','PAY_AMT5','PAY_AMT6']].columns:\n",
    "    print(f'{column}:{[df[column].max()-df[column].min()]}')"
   ]
  },
  {
   "cell_type": "code",
   "execution_count": 547,
   "id": "79ddbaff",
   "metadata": {},
   "outputs": [
    {
     "data": {
      "text/html": [
       "<div>\n",
       "<style scoped>\n",
       "    .dataframe tbody tr th:only-of-type {\n",
       "        vertical-align: middle;\n",
       "    }\n",
       "\n",
       "    .dataframe tbody tr th {\n",
       "        vertical-align: top;\n",
       "    }\n",
       "\n",
       "    .dataframe thead th {\n",
       "        text-align: right;\n",
       "    }\n",
       "</style>\n",
       "<table border=\"1\" class=\"dataframe\">\n",
       "  <thead>\n",
       "    <tr style=\"text-align: right;\">\n",
       "      <th></th>\n",
       "      <th>ID</th>\n",
       "      <th>LIMIT_BAL</th>\n",
       "      <th>SEX</th>\n",
       "      <th>EDUCATION</th>\n",
       "      <th>MARRIAGE</th>\n",
       "      <th>AGE</th>\n",
       "      <th>PAY_0</th>\n",
       "      <th>PAY_2</th>\n",
       "      <th>PAY_3</th>\n",
       "      <th>PAY_4</th>\n",
       "      <th>...</th>\n",
       "      <th>BILL_AMT4</th>\n",
       "      <th>BILL_AMT5</th>\n",
       "      <th>BILL_AMT6</th>\n",
       "      <th>PAY_AMT1</th>\n",
       "      <th>PAY_AMT2</th>\n",
       "      <th>PAY_AMT3</th>\n",
       "      <th>PAY_AMT4</th>\n",
       "      <th>PAY_AMT5</th>\n",
       "      <th>PAY_AMT6</th>\n",
       "      <th>default payment next month</th>\n",
       "    </tr>\n",
       "  </thead>\n",
       "  <tbody>\n",
       "    <tr>\n",
       "      <th>0</th>\n",
       "      <td>5771</td>\n",
       "      <td>180000</td>\n",
       "      <td>1</td>\n",
       "      <td>2</td>\n",
       "      <td>1</td>\n",
       "      <td>0.506667</td>\n",
       "      <td>1</td>\n",
       "      <td>2</td>\n",
       "      <td>2</td>\n",
       "      <td>0</td>\n",
       "      <td>...</td>\n",
       "      <td>0.007174</td>\n",
       "      <td>0.006308</td>\n",
       "      <td>0.000000</td>\n",
       "      <td>0.002290</td>\n",
       "      <td>0.000119</td>\n",
       "      <td>0.000562</td>\n",
       "      <td>0.000200</td>\n",
       "      <td>0.000000</td>\n",
       "      <td>0.000000</td>\n",
       "      <td>1</td>\n",
       "    </tr>\n",
       "    <tr>\n",
       "      <th>1</th>\n",
       "      <td>3999</td>\n",
       "      <td>20000</td>\n",
       "      <td>2</td>\n",
       "      <td>1</td>\n",
       "      <td>2</td>\n",
       "      <td>0.306667</td>\n",
       "      <td>2</td>\n",
       "      <td>2</td>\n",
       "      <td>2</td>\n",
       "      <td>2</td>\n",
       "      <td>...</td>\n",
       "      <td>0.018330</td>\n",
       "      <td>0.015912</td>\n",
       "      <td>0.018207</td>\n",
       "      <td>0.004007</td>\n",
       "      <td>0.000119</td>\n",
       "      <td>0.001125</td>\n",
       "      <td>0.000805</td>\n",
       "      <td>0.000000</td>\n",
       "      <td>0.001892</td>\n",
       "      <td>1</td>\n",
       "    </tr>\n",
       "    <tr>\n",
       "      <th>2</th>\n",
       "      <td>397</td>\n",
       "      <td>100000</td>\n",
       "      <td>1</td>\n",
       "      <td>1</td>\n",
       "      <td>2</td>\n",
       "      <td>0.506667</td>\n",
       "      <td>0</td>\n",
       "      <td>0</td>\n",
       "      <td>0</td>\n",
       "      <td>0</td>\n",
       "      <td>...</td>\n",
       "      <td>0.060848</td>\n",
       "      <td>0.052227</td>\n",
       "      <td>0.041356</td>\n",
       "      <td>0.002864</td>\n",
       "      <td>0.000712</td>\n",
       "      <td>0.000967</td>\n",
       "      <td>0.000000</td>\n",
       "      <td>0.001357</td>\n",
       "      <td>0.000000</td>\n",
       "      <td>0</td>\n",
       "    </tr>\n",
       "    <tr>\n",
       "      <th>3</th>\n",
       "      <td>15467</td>\n",
       "      <td>220000</td>\n",
       "      <td>1</td>\n",
       "      <td>1</td>\n",
       "      <td>2</td>\n",
       "      <td>0.400000</td>\n",
       "      <td>2</td>\n",
       "      <td>0</td>\n",
       "      <td>0</td>\n",
       "      <td>0</td>\n",
       "      <td>...</td>\n",
       "      <td>0.128581</td>\n",
       "      <td>0.111582</td>\n",
       "      <td>0.134032</td>\n",
       "      <td>0.005724</td>\n",
       "      <td>0.002969</td>\n",
       "      <td>0.004724</td>\n",
       "      <td>0.006441</td>\n",
       "      <td>0.009378</td>\n",
       "      <td>0.009458</td>\n",
       "      <td>0</td>\n",
       "    </tr>\n",
       "    <tr>\n",
       "      <th>4</th>\n",
       "      <td>16482</td>\n",
       "      <td>240000</td>\n",
       "      <td>2</td>\n",
       "      <td>4</td>\n",
       "      <td>1</td>\n",
       "      <td>0.786667</td>\n",
       "      <td>0</td>\n",
       "      <td>0</td>\n",
       "      <td>0</td>\n",
       "      <td>0</td>\n",
       "      <td>...</td>\n",
       "      <td>0.341049</td>\n",
       "      <td>0.177818</td>\n",
       "      <td>0.189001</td>\n",
       "      <td>0.009567</td>\n",
       "      <td>0.005938</td>\n",
       "      <td>0.011248</td>\n",
       "      <td>0.016103</td>\n",
       "      <td>0.011723</td>\n",
       "      <td>0.037831</td>\n",
       "      <td>0</td>\n",
       "    </tr>\n",
       "    <tr>\n",
       "      <th>...</th>\n",
       "      <td>...</td>\n",
       "      <td>...</td>\n",
       "      <td>...</td>\n",
       "      <td>...</td>\n",
       "      <td>...</td>\n",
       "      <td>...</td>\n",
       "      <td>...</td>\n",
       "      <td>...</td>\n",
       "      <td>...</td>\n",
       "      <td>...</td>\n",
       "      <td>...</td>\n",
       "      <td>...</td>\n",
       "      <td>...</td>\n",
       "      <td>...</td>\n",
       "      <td>...</td>\n",
       "      <td>...</td>\n",
       "      <td>...</td>\n",
       "      <td>...</td>\n",
       "      <td>...</td>\n",
       "      <td>...</td>\n",
       "      <td>...</td>\n",
       "    </tr>\n",
       "    <tr>\n",
       "      <th>23995</th>\n",
       "      <td>20939</td>\n",
       "      <td>280000</td>\n",
       "      <td>1</td>\n",
       "      <td>2</td>\n",
       "      <td>2</td>\n",
       "      <td>0.520000</td>\n",
       "      <td>-2</td>\n",
       "      <td>-2</td>\n",
       "      <td>-2</td>\n",
       "      <td>-2</td>\n",
       "      <td>...</td>\n",
       "      <td>0.005759</td>\n",
       "      <td>-0.000036</td>\n",
       "      <td>-0.000043</td>\n",
       "      <td>0.014398</td>\n",
       "      <td>0.002908</td>\n",
       "      <td>0.004697</td>\n",
       "      <td>0.000000</td>\n",
       "      <td>0.000000</td>\n",
       "      <td>0.000000</td>\n",
       "      <td>0</td>\n",
       "    </tr>\n",
       "    <tr>\n",
       "      <th>23996</th>\n",
       "      <td>4919</td>\n",
       "      <td>260000</td>\n",
       "      <td>2</td>\n",
       "      <td>1</td>\n",
       "      <td>2</td>\n",
       "      <td>0.520000</td>\n",
       "      <td>0</td>\n",
       "      <td>0</td>\n",
       "      <td>0</td>\n",
       "      <td>0</td>\n",
       "      <td>...</td>\n",
       "      <td>0.135776</td>\n",
       "      <td>0.076277</td>\n",
       "      <td>0.087466</td>\n",
       "      <td>0.034404</td>\n",
       "      <td>0.011909</td>\n",
       "      <td>0.005751</td>\n",
       "      <td>0.004895</td>\n",
       "      <td>0.046890</td>\n",
       "      <td>0.056760</td>\n",
       "      <td>0</td>\n",
       "    </tr>\n",
       "    <tr>\n",
       "      <th>23997</th>\n",
       "      <td>1437</td>\n",
       "      <td>80000</td>\n",
       "      <td>2</td>\n",
       "      <td>1</td>\n",
       "      <td>2</td>\n",
       "      <td>0.386667</td>\n",
       "      <td>0</td>\n",
       "      <td>0</td>\n",
       "      <td>0</td>\n",
       "      <td>2</td>\n",
       "      <td>...</td>\n",
       "      <td>0.113773</td>\n",
       "      <td>0.095058</td>\n",
       "      <td>0.110395</td>\n",
       "      <td>0.003253</td>\n",
       "      <td>0.012119</td>\n",
       "      <td>0.000000</td>\n",
       "      <td>0.004831</td>\n",
       "      <td>0.007034</td>\n",
       "      <td>0.005675</td>\n",
       "      <td>1</td>\n",
       "    </tr>\n",
       "    <tr>\n",
       "      <th>23998</th>\n",
       "      <td>1764</td>\n",
       "      <td>500000</td>\n",
       "      <td>1</td>\n",
       "      <td>1</td>\n",
       "      <td>2</td>\n",
       "      <td>0.440000</td>\n",
       "      <td>-1</td>\n",
       "      <td>-1</td>\n",
       "      <td>-1</td>\n",
       "      <td>-2</td>\n",
       "      <td>...</td>\n",
       "      <td>0.005882</td>\n",
       "      <td>0.009663</td>\n",
       "      <td>-0.000280</td>\n",
       "      <td>0.002364</td>\n",
       "      <td>0.006267</td>\n",
       "      <td>0.004690</td>\n",
       "      <td>0.012823</td>\n",
       "      <td>0.000460</td>\n",
       "      <td>0.013398</td>\n",
       "      <td>0</td>\n",
       "    </tr>\n",
       "    <tr>\n",
       "      <th>23999</th>\n",
       "      <td>12498</td>\n",
       "      <td>200000</td>\n",
       "      <td>1</td>\n",
       "      <td>1</td>\n",
       "      <td>2</td>\n",
       "      <td>0.453333</td>\n",
       "      <td>0</td>\n",
       "      <td>0</td>\n",
       "      <td>0</td>\n",
       "      <td>2</td>\n",
       "      <td>...</td>\n",
       "      <td>0.219781</td>\n",
       "      <td>0.157785</td>\n",
       "      <td>0.168874</td>\n",
       "      <td>0.011448</td>\n",
       "      <td>0.008906</td>\n",
       "      <td>0.000000</td>\n",
       "      <td>0.016103</td>\n",
       "      <td>0.000000</td>\n",
       "      <td>0.020807</td>\n",
       "      <td>1</td>\n",
       "    </tr>\n",
       "  </tbody>\n",
       "</table>\n",
       "<p>24000 rows × 25 columns</p>\n",
       "</div>"
      ],
      "text/plain": [
       "          ID  LIMIT_BAL  SEX  EDUCATION  MARRIAGE       AGE  PAY_0  PAY_2  \\\n",
       "0       5771     180000    1          2         1  0.506667      1      2   \n",
       "1       3999      20000    2          1         2  0.306667      2      2   \n",
       "2        397     100000    1          1         2  0.506667      0      0   \n",
       "3      15467     220000    1          1         2  0.400000      2      0   \n",
       "4      16482     240000    2          4         1  0.786667      0      0   \n",
       "...      ...        ...  ...        ...       ...       ...    ...    ...   \n",
       "23995  20939     280000    1          2         2  0.520000     -2     -2   \n",
       "23996   4919     260000    2          1         2  0.520000      0      0   \n",
       "23997   1437      80000    2          1         2  0.386667      0      0   \n",
       "23998   1764     500000    1          1         2  0.440000     -1     -1   \n",
       "23999  12498     200000    1          1         2  0.453333      0      0   \n",
       "\n",
       "       PAY_3  PAY_4  ...  BILL_AMT4  BILL_AMT5  BILL_AMT6  PAY_AMT1  PAY_AMT2  \\\n",
       "0          2      0  ...   0.007174   0.006308   0.000000  0.002290  0.000119   \n",
       "1          2      2  ...   0.018330   0.015912   0.018207  0.004007  0.000119   \n",
       "2          0      0  ...   0.060848   0.052227   0.041356  0.002864  0.000712   \n",
       "3          0      0  ...   0.128581   0.111582   0.134032  0.005724  0.002969   \n",
       "4          0      0  ...   0.341049   0.177818   0.189001  0.009567  0.005938   \n",
       "...      ...    ...  ...        ...        ...        ...       ...       ...   \n",
       "23995     -2     -2  ...   0.005759  -0.000036  -0.000043  0.014398  0.002908   \n",
       "23996      0      0  ...   0.135776   0.076277   0.087466  0.034404  0.011909   \n",
       "23997      0      2  ...   0.113773   0.095058   0.110395  0.003253  0.012119   \n",
       "23998     -1     -2  ...   0.005882   0.009663  -0.000280  0.002364  0.006267   \n",
       "23999      0      2  ...   0.219781   0.157785   0.168874  0.011448  0.008906   \n",
       "\n",
       "       PAY_AMT3  PAY_AMT4  PAY_AMT5  PAY_AMT6  default payment next month  \n",
       "0      0.000562  0.000200  0.000000  0.000000                           1  \n",
       "1      0.001125  0.000805  0.000000  0.001892                           1  \n",
       "2      0.000967  0.000000  0.001357  0.000000                           0  \n",
       "3      0.004724  0.006441  0.009378  0.009458                           0  \n",
       "4      0.011248  0.016103  0.011723  0.037831                           0  \n",
       "...         ...       ...       ...       ...                         ...  \n",
       "23995  0.004697  0.000000  0.000000  0.000000                           0  \n",
       "23996  0.005751  0.004895  0.046890  0.056760                           0  \n",
       "23997  0.000000  0.004831  0.007034  0.005675                           1  \n",
       "23998  0.004690  0.012823  0.000460  0.013398                           0  \n",
       "23999  0.000000  0.016103  0.000000  0.020807                           1  \n",
       "\n",
       "[24000 rows x 25 columns]"
      ]
     },
     "execution_count": 547,
     "metadata": {},
     "output_type": "execute_result"
    }
   ],
   "source": [
    "#Normalize the range of values of numerical features (including the generated ones as appropriate) into [0, 1], \n",
    "#respectively. For each normalized numerical feature, show the ranges of both its original and normalized values. \n",
    "#In your report, please specify (or describe) the adopted normalization scheme.\n",
    "#Normalize the range of values [0,1]\n",
    "#show the range of both original and normalized values\n",
    "#Specify Normalization Scheme:\n",
    "\n",
    "#Normalized using maximum absolute scaling\n",
    "df_num_scaled=df.copy()\n",
    "\n",
    "for column in df_max_scaled[['AGE', 'BILL_AMT1','BILL_AMT2', 'BILL_AMT3','BILL_AMT4','BILL_AMT5','BILL_AMT6','PAY_AMT1','PAY_AMT2','PAY_AMT3','PAY_AMT4','PAY_AMT5','PAY_AMT6']].columns:\n",
    "    df_num_scaled[column] = df_num_scaled[column]  / df_num_scaled[column].abs().max()\n",
    "\n",
    "df_num_scaled\n",
    "\n",
    "\n"
   ]
  },
  {
   "cell_type": "code",
   "execution_count": 558,
   "id": "9c46b0da",
   "metadata": {},
   "outputs": [
    {
     "name": "stdout",
     "output_type": "stream",
     "text": [
      "AGE:[0.72]\n",
      "BILL_AMT1:[1.2217151794154903]\n",
      "BILL_AMT2:[1.0937900721803298]\n",
      "BILL_AMT3:[1.0945045607536616]\n",
      "BILL_AMT4:[1.240498879558161]\n",
      "BILL_AMT5:[1.0987614444957137]\n",
      "BILL_AMT6:[1.2986681791686192]\n",
      "PAY_AMT1:[1.0]\n",
      "PAY_AMT2:[1.0]\n",
      "PAY_AMT3:[1.0]\n",
      "PAY_AMT4:[1.0]\n",
      "PAY_AMT5:[1.0]\n",
      "PAY_AMT6:[1.0]\n"
     ]
    }
   ],
   "source": [
    " #respectively. For each normalized numerical feature, show the ranges of both its original and normalized values. \n",
    "#In your report, please specify (or describe) the adopted normalization scheme.\n",
    "#Normalize the range of values [0,1]\n",
    "#show the range of both original and normalized values\n",
    "#Specify Normalization Scheme:\n",
    "for column in df_num_scaled[['AGE', 'BILL_AMT1','BILL_AMT2', 'BILL_AMT3','BILL_AMT4','BILL_AMT5','BILL_AMT6','PAY_AMT1','PAY_AMT2','PAY_AMT3','PAY_AMT4','PAY_AMT5','PAY_AMT6']].columns:\n",
    "    print(f'{column}:{[df_num_scaled[column].max()-df_num_scaled[column].min()]}')\n"
   ]
  },
  {
   "cell_type": "code",
   "execution_count": 563,
   "id": "10ff7021",
   "metadata": {},
   "outputs": [
    {
     "name": "stdout",
     "output_type": "stream",
     "text": [
      "pa:8000 nj:8000 ny:8000\n"
     ]
    }
   ],
   "source": [
    "#Encode categorical features (including the generated ones as appropriate) using *one-hot representation* scheme. \n",
    "#For example, assuming that there is a ‘state’ feature with three categorical values, ’PA’, ‘NY’ and ‘NJ’. \n",
    "#Create three new binary features, namely ‘state_is_PA’, ‘state_is_NY’ and ‘state_is_NJ’ to replace \n",
    "#‘state’, where the feature values are either 0 or 1. \n",
    "#For each new binary feature, count and report the number of times value 1 occurs, e.g., “state_is_PA”: 15000, \n",
    "#“state_is_NY”: 20000 and “state_is_NJ”: 10000.\n",
    "#Encode categorical features as one-hot (Including generated features)\n",
    "#Three binary features:\n",
    "#namely: ‘state_is_PA’, ‘state_is_NY’, ‘state_is_NJ’ to replace ‘state’ where feature is either 0 or 1\n",
    "#For each binary feature, Count and report the number of times 1 occurs\n",
    "\n",
    "nj=0\n",
    "pa=0\n",
    "ny=0\n",
    "for ind in df.index:\n",
    "    if ind%3==0: \n",
    "        df['state_is_NJ']=1\n",
    "        df['state_is_PA']=0\n",
    "        df['state_is_NY']=0\n",
    "        nj+=1\n",
    "    elif ind%3==1: \n",
    "        df['state_is_NJ']=0\n",
    "        df['state_is_PA']=1\n",
    "        df['state_is_NY']=0\n",
    "        pa+=1\n",
    "    elif ind%3==2: \n",
    "        df['state_is_NJ']=1\n",
    "        df['state_is_PA']=0\n",
    "        df['state_is_NY']=0\n",
    "        ny+=1\n",
    "df\n",
    "print(f\"pa:{pa} nj:{nj} ny:{ny}\")"
   ]
  },
  {
   "cell_type": "code",
   "execution_count": 93,
   "id": "cac842f2",
   "metadata": {},
   "outputs": [
    {
     "data": {
      "text/plain": [
       "'TASK 5'"
      ]
     },
     "execution_count": 93,
     "metadata": {},
     "output_type": "execute_result"
    }
   ],
   "source": [
    "'''TASK 5'''\n",
    "#In this task, you will train decision tree classifiers on the Credit Card Clients Dataset \n",
    "    #to predict whether a client will default in the next month.\n",
    "#a) There are 14 numerical features and 9 categorical features.\n",
    "#train **Decision Tree Model 1** based on normalized numerical features and one-hot encoded categorical features"
   ]
  },
  {
   "cell_type": "code",
   "execution_count": 94,
   "id": "6f0e82ca",
   "metadata": {},
   "outputs": [],
   "source": [
    "#Train **Decision Tree Model 2** based on unnormalized numerical feature and one-hot encoded categorical feature.\n",
    "#Feel free to train additional models if you would like to compare the effect of encoding on categorial features \n",
    "#(but please state your goal in the report)."
   ]
  },
  {
   "cell_type": "code",
   "execution_count": 98,
   "id": "c297a2c1",
   "metadata": {},
   "outputs": [],
   "source": [
    "#- [ ]  Please use 5-Fold cross-validation for experiments. \n",
    "#(See textbook and https://en.wikipedia.org/wiki/Cross-validation_(statistics)) \n"
   ]
  },
  {
   "cell_type": "code",
   "execution_count": 99,
   "id": "a04e4f87",
   "metadata": {},
   "outputs": [],
   "source": [
    "##Please summarize the definitions and mathematical formulae of \n",
    "    #**confusion matrix, precision metric, recall metric, f-measure metric, and accuracy metric**."
   ]
  },
  {
   "cell_type": "code",
   "execution_count": 100,
   "id": "8a324e2b",
   "metadata": {},
   "outputs": [],
   "source": [
    "#Please compare the performance of **Decision Tree Model 1** and **Decision Tree Model 2** in terms of these four metrics and give your conclusion.\n",
    "#- Note: In your report, please specify (or describe) the adopted normalization scheme."
   ]
  },
  {
   "cell_type": "code",
   "execution_count": 105,
   "id": "7bb24cb8",
   "metadata": {},
   "outputs": [],
   "source": [
    "'''TASK 6'''\n",
    "#Please list the reasons why we perform feature selection. "
   ]
  },
  {
   "cell_type": "code",
   "execution_count": 102,
   "id": "0dae0a1d",
   "metadata": {},
   "outputs": [],
   "source": [
    "#Please perform feature selection based on the correlation results in Task 3 \n",
    "#(using chi-square for categorical data and mutual information for numerical data). "
   ]
  },
  {
   "cell_type": "code",
   "execution_count": 103,
   "id": "ae659c9d",
   "metadata": {},
   "outputs": [],
   "source": [
    "#Generate partial datasets by only using top k (k =1, 3, 5)\n",
    "#most correlated categorical features and numerical features for model training \n",
    "#(i.e., k categorical features + k numerical features). "
   ]
  },
  {
   "cell_type": "code",
   "execution_count": 104,
   "id": "a9a4552d",
   "metadata": {},
   "outputs": [],
   "source": [
    "#Follow the setup in Task 5 to compare the performance of Decision Tree Models \n",
    "#trained using the partial datasets with the one using the original dataset \n",
    "#(i.e., without including features generated in Task 4(a)).  "
   ]
  },
  {
   "cell_type": "code",
   "execution_count": 253,
   "id": "dc659ebb",
   "metadata": {},
   "outputs": [
    {
     "data": {
      "text/plain": [
       "<AxesSubplot:>"
      ]
     },
     "execution_count": 253,
     "metadata": {},
     "output_type": "execute_result"
    },
    {
     "data": {
      "image/png": "[encoded data removed]",
      "text/plain": [
       "<Figure size 432x288 with 1 Axes>"
      ]
     },
     "metadata": {
      "needs_background": "light"
     },
     "output_type": "display_data"
    }
   ],
   "source": []
  },
  {
   "cell_type": "code",
   "execution_count": null,
   "id": "3422d7fc",
   "metadata": {},
   "outputs": [],
   "source": []
  }
 ],
 "metadata": {
  "kernelspec": {
   "display_name": "Python 3 (ipykernel)",
   "language": "python",
   "name": "python3"
  },
  "language_info": {
   "codemirror_mode": {
    "name": "ipython",
    "version": 3
   },
   "file_extension": ".py",
   "mimetype": "text/x-python",
   "name": "python",
   "nbconvert_exporter": "python",
   "pygments_lexer": "ipython3",
   "version": "3.9.12"
  }
 },
 "nbformat": 4,
 "nbformat_minor": 5
}
