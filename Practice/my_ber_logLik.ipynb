{
 "cells": [
  {
   "cell_type": "code",
   "execution_count": 39,
   "id": "8c68b19d",
   "metadata": {},
   "outputs": [],
   "source": [
    "import numpy as np\n",
    "from scipy.stats import bernoulli"
   ]
  },
  {
   "cell_type": "code",
   "execution_count": 40,
   "id": "3221c2d2",
   "metadata": {},
   "outputs": [],
   "source": [
    "def my_ber_log_Lik(p, dat):\n",
    "    n=len(dat)\n",
    "    log_lik = np.sum(bernoulli.logpmf(dat, p))\n",
    "    return log_lik"
   ]
  },
  {
   "cell_type": "code",
   "execution_count": 44,
   "id": "cf4fb9b9",
   "metadata": {},
   "outputs": [
    {
     "name": "stdout",
     "output_type": "stream",
     "text": [
      " p = 0.1, my_ber_logLik = -4.9212517329615695\n",
      " p = 0.2, my_ber_logLik = -3.8883064788108297\n",
      " p = 0.3, my_ber_logLik = -3.4779704404680696\n"
     ]
    }
   ],
   "source": [
    "dat = [0,1,1,0,0]\n",
    "for p in [0.1, 0.2, 0.3]:\n",
    "    print(f\" p = {p}, my_ber_logLik = {my_ber_logLik(p,dat)}\")"
   ]
  },
  {
   "cell_type": "code",
   "execution_count": null,
   "id": "268c00e1",
   "metadata": {},
   "outputs": [],
   "source": []
  },
  {
   "cell_type": "code",
   "execution_count": null,
   "id": "b977e727",
   "metadata": {},
   "outputs": [],
   "source": []
  }
 ],
 "metadata": {
  "kernelspec": {
   "display_name": "Python 3 (ipykernel)",
   "language": "python",
   "name": "python3"
  },
  "language_info": {
   "codemirror_mode": {
    "name": "ipython",
    "version": 3
   },
   "file_extension": ".py",
   "mimetype": "text/x-python",
   "name": "python",
   "nbconvert_exporter": "python",
   "pygments_lexer": "ipython3",
   "version": "3.9.12"
  }
 },
 "nbformat": 4,
 "nbformat_minor": 5
}
