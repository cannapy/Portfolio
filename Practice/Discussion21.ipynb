{
 "cells": [
  {
   "cell_type": "markdown",
   "id": "fb7d5d9e",
   "metadata": {},
   "source": [
    "### Imports"
   ]
  },
  {
   "cell_type": "code",
   "execution_count": 34,
   "id": "d9aefaba",
   "metadata": {},
   "outputs": [],
   "source": [
    "import numpy as np\n",
    "import matplotlib.pyplot as plt\n",
    "import pandas as pd\n",
    "import scipy.stats as stat\n",
    "from scipy.stats import poisson"
   ]
  },
  {
   "cell_type": "markdown",
   "id": "bc6c476f",
   "metadata": {},
   "source": [
    "### Create Random Samples"
   ]
  },
  {
   "cell_type": "code",
   "execution_count": 53,
   "id": "2f92d28e",
   "metadata": {},
   "outputs": [
    {
     "name": "stdout",
     "output_type": "stream",
     "text": [
      "Lambda = 2 | E[Xi] = 2.091\n"
     ]
    }
   ],
   "source": [
    "Lam = 2\n",
    "n=1000\n",
    "x = np.random.poisson(lam=Lam, size=n)\n",
    "Mu = np.average(x)\n",
    "print('Lambda =', Lam, '| E[Xi] =',Mu)"
   ]
  },
  {
   "cell_type": "markdown",
   "id": "0aca6905",
   "metadata": {},
   "source": [
    "### 1. Choose a good estimator for Lam = E[Xi]; Compute the ML estimator Lam' for Lam = E[Xi]."
   ]
  },
  {
   "cell_type": "code",
   "execution_count": 40,
   "id": "cbd0731b",
   "metadata": {},
   "outputs": [
    {
     "name": "stdout",
     "output_type": "stream",
     "text": [
      "-5223.479128146337\n"
     ]
    }
   ],
   "source": [
    "# Log Poisson PMF\n",
    "ll = poisson.logpmf(k = n, mu = Mu)\n",
    "print(ll)"
   ]
  },
  {
   "cell_type": "code",
   "execution_count": 27,
   "id": "509729f2",
   "metadata": {},
   "outputs": [],
   "source": [
    "# d'(Log(PMF))=0"
   ]
  },
  {
   "cell_type": "code",
   "execution_count": 28,
   "id": "f30c28b7",
   "metadata": {},
   "outputs": [],
   "source": [
    "# MLE = argmax(pmf(0), pmf(1), pmf(d/dT(log(pmf))=0))"
   ]
  },
  {
   "cell_type": "code",
   "execution_count": 29,
   "id": "c01cf48c",
   "metadata": {},
   "outputs": [],
   "source": [
    "# 1/In(Theta'ML) = -n*E[d^2/d^2t(log(pmf))]"
   ]
  },
  {
   "cell_type": "markdown",
   "id": "1374f463",
   "metadata": {},
   "source": [
    "### 2. Find the asymptotic distribution of the ML estimator.\n",
    "Hint: you may use either CLT or asymptotic optimality of MLE theorem"
   ]
  },
  {
   "cell_type": "code",
   "execution_count": 30,
   "id": "d3c6ff8f",
   "metadata": {},
   "outputs": [],
   "source": [
    "# Lam a~N(MLE(Lam), In(Lam)^-1) \n",
    "# = (MLE(Lam)+-Lam)/sqrt(In(Lam)^-1)"
   ]
  },
  {
   "cell_type": "markdown",
   "id": "b122bc7a",
   "metadata": {},
   "source": [
    "### 3. By standardizing the asymptotic distribution in 2, and replacing the parameter in the denominator with its MLE, find an asymptotic pivotal quanity.\n",
    "Based on the pivotal quantity, find the 90% interval estimator for Lam."
   ]
  },
  {
   "cell_type": "code",
   "execution_count": 62,
   "id": "b379aa77",
   "metadata": {},
   "outputs": [],
   "source": [
    "# Confidence interval = 1-alpha\n",
    "# poisson.interval(confidence, mu, loc=0)\n",
    "# ^^^ Confidence interval with = areas around the mean\n",
    "ci = 0.9\n",
    "alpha = 1-0.9\n",
    "interval = poisson.interval(ci, Lam, loc=0)\n",
    "length = 2*interval[1]-interval[0]\n",
    "\n",
    "std = np.std(x)"
   ]
  },
  {
   "cell_type": "markdown",
   "id": "ff5d48bf",
   "metadata": {},
   "source": [
    "### 4. Find the 90% confidence interval estimator for Lam\n",
    "Hint: mean(dat) returns the mean of the observed data."
   ]
  },
  {
   "cell_type": "code",
   "execution_count": 65,
   "id": "ac843d0e",
   "metadata": {},
   "outputs": [
    {
     "name": "stdout",
     "output_type": "stream",
     "text": [
      "Dist: Poisson | Lambda: 2 | Mean: 2.091 | StdDv: 1.442469757048653 \n",
      "Alpha: 0.09999999999999998 | Confidence: 0.9 | Interval: (0.0, 5.0) Length: 10.0\n"
     ]
    }
   ],
   "source": [
    "mean = np.average(x)\n",
    "print(\"Dist: Poisson | Lambda:\", Lam, \"| Mean:\", mean, \"| StdDv:\",std, \"\\nAlpha:\", alpha, \"| Confidence:\",ci,\"| Interval:\", interval, \"Length:\", length)"
   ]
  },
  {
   "cell_type": "code",
   "execution_count": null,
   "id": "67451413",
   "metadata": {},
   "outputs": [],
   "source": []
  }
 ],
 "metadata": {
  "kernelspec": {
   "display_name": "Python 3 (ipykernel)",
   "language": "python",
   "name": "python3"
  },
  "language_info": {
   "codemirror_mode": {
    "name": "ipython",
    "version": 3
   },
   "file_extension": ".py",
   "mimetype": "text/x-python",
   "name": "python",
   "nbconvert_exporter": "python",
   "pygments_lexer": "ipython3",
   "version": "3.9.12"
  }
 },
 "nbformat": 4,
 "nbformat_minor": 5
}
