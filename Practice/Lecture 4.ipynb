{
 "cells": [
  {
   "cell_type": "code",
   "execution_count": 1,
   "id": "2e096e9f",
   "metadata": {},
   "outputs": [],
   "source": [
    "import numpy as np\n",
    "import pandas as pd"
   ]
  },
  {
   "cell_type": "markdown",
   "id": "75e77bd3",
   "metadata": {},
   "source": [
    "## 1. Find , i.e., the 95% quantile value of N(0,1).\n"
   ]
  },
  {
   "cell_type": "code",
   "execution_count": 72,
   "id": "c2c48950",
   "metadata": {},
   "outputs": [],
   "source": [
    "mu=0\n",
    "sig=1\n",
    "x=100000000\n",
    "quantile=0.95"
   ]
  },
  {
   "cell_type": "code",
   "execution_count": 73,
   "id": "96c0ac2e",
   "metadata": {},
   "outputs": [
    {
     "name": "stdout",
     "output_type": "stream",
     "text": [
      "95% quantile:  1.6446282033296544 \n",
      "\n"
     ]
    }
   ],
   "source": [
    "normal=np.random.normal(mu,sig, x)\n",
    "q=np.quantile(normal, quantile)\n",
    "\n",
    "print('95% quantile: ',q,'\\n')"
   ]
  },
  {
   "cell_type": "markdown",
   "id": "d4fd5c13",
   "metadata": {},
   "source": [
    "## 2. Find , i.e., the 95% quantile value for t(20) (t distribution with df = 20)\n",
    "\n"
   ]
  },
  {
   "cell_type": "code",
   "execution_count": 74,
   "id": "0b096126",
   "metadata": {},
   "outputs": [
    {
     "name": "stdout",
     "output_type": "stream",
     "text": [
      "95% quantile:  1.7243237738348458 \n",
      "\n"
     ]
    }
   ],
   "source": [
    "df = 20\n",
    "t = np.random.standard_t(df,x)\n",
    "q=np.quantile(t, quantile)\n",
    "\n",
    "print('95% quantile: ',q,'\\n')"
   ]
  },
  {
   "cell_type": "markdown",
   "id": "ec823251",
   "metadata": {},
   "source": [
    "## 3. Find P(X > 3; X ~ Poisson(2)) , i.e., the probability that X is greater than 3 when X follows Poisson(2)"
   ]
  },
  {
   "cell_type": "code",
   "execution_count": 76,
   "id": "42eb4e8f",
   "metadata": {},
   "outputs": [
    {
     "name": "stdout",
     "output_type": "stream",
     "text": [
      "Total>3:  14289153\n",
      "Sample space:  100000000\n",
      "Probability:  0.14289153\n"
     ]
    }
   ],
   "source": [
    "lam = 2\n",
    "poisson = np.random.poisson(lam, x)\n",
    "g3=poisson>3\n",
    "num=np.count_nonzero(g3)\n",
    "print('Total>3: ', num)\n",
    "print('Sample space: ',len(poisson))\n",
    "prob = num/len(poisson)\n",
    "print('Probability: ', prob)"
   ]
  }
 ],
 "metadata": {
  "kernelspec": {
   "display_name": "Python 3 (ipykernel)",
   "language": "python",
   "name": "python3"
  },
  "language_info": {
   "codemirror_mode": {
    "name": "ipython",
    "version": 3
   },
   "file_extension": ".py",
   "mimetype": "text/x-python",
   "name": "python",
   "nbconvert_exporter": "python",
   "pygments_lexer": "ipython3",
   "version": "3.9.12"
  }
 },
 "nbformat": 4,
 "nbformat_minor": 5
}
