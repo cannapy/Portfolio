{
  "cells": [
    {
      "cell_type": "markdown",
      "metadata": {
        "id": "3q4llFOQmyHN"
      },
      "source": [
        "# Basic data types"
      ]
    },
    {
      "cell_type": "code",
      "execution_count": null,
      "metadata": {
        "id": "UccS9GLXm2Q7",
        "colab": {
          "base_uri": "https://localhost:8080/"
        },
        "outputId": "461bef14-9e7f-449b-93ac-fb7f66e3471f"
      },
      "outputs": [
        {
          "output_type": "stream",
          "name": "stdout",
          "text": [
            "<class 'int'>\n",
            "4\n",
            "2\n",
            "6\n",
            "9\n"
          ]
        }
      ],
      "source": [
        "import numpy as np\n",
        "#Integers \n",
        "x = 3\n",
        "#print the type of x\n",
        "print(type(3))\n",
        "# Addition : add 1 to x and print the result\n",
        "print(1+x)\n",
        "# Subtraction; subtract 1 from x and print the result\n",
        "print(x-1)\n",
        "# Multiplication; multiply x with 2 and print the result\n",
        "print(x*2)\n",
        "# Exponentiation; print the square of x\n",
        "print(x**2)"
      ]
    },
    {
      "cell_type": "code",
      "execution_count": null,
      "metadata": {
        "id": "gDNf97w0oSxB",
        "colab": {
          "base_uri": "https://localhost:8080/"
        },
        "outputId": "0673048b-f027-44c5-fe2c-5309ee3a7c70"
      },
      "outputs": [
        {
          "output_type": "stream",
          "name": "stdout",
          "text": [
            "<class 'float'>\n",
            "5.0\n",
            "8.0\n"
          ]
        }
      ],
      "source": [
        "#floats\n",
        "y = 2.5\n",
        "#print the type of y\n",
        "print(type(y))\n",
        "#use operator *= to double the value of y and print y \n",
        "y*=2\n",
        "print(y)\n",
        "\n",
        "\n",
        "#use operator += to add 3 to y and print y \n",
        "y+=3\n",
        "print(y)\n"
      ]
    },
    {
      "cell_type": "code",
      "execution_count": null,
      "metadata": {
        "id": "4xaTfgDyozmB",
        "colab": {
          "base_uri": "https://localhost:8080/"
        },
        "outputId": "620d8a69-fe54-4e69-ee06-28646c3cc639"
      },
      "outputs": [
        {
          "output_type": "stream",
          "name": "stdout",
          "text": [
            "Hello\n",
            "HELLO\n",
            "  HELLO\n",
            " HELLO \n",
            " HELLO \n",
            " HEellellO \n",
            "world\n"
          ]
        }
      ],
      "source": [
        "#Strings \n",
        "s = \"hello\"\n",
        "# Capitalize the above string and print it\n",
        "s=s.capitalize()\n",
        "print(s)\n",
        "\n",
        "#Convert the string to uppercase and print it\n",
        "s=s[:].upper()\n",
        "print(s)\n",
        "\n",
        "# Right-justify the string, padding with 2 spaces print it;\n",
        "s='  '+s\n",
        "print(s)\n",
        "\n",
        "# Center the string, padding with 2 spaces print it;\n",
        "s=s[1:]+' '\n",
        "print(s)\n",
        "\n",
        "# Replace all instances of letter l  with \"(ell)\" and print it;\n",
        "s=s.replace(\"l\",\"ell\")\n",
        "print(s)\n",
        "s=s.replace(\"L\",\"ell\")\n",
        "print(s)\n",
        "\n",
        "\n",
        "\n",
        "str = \" world \"\n",
        "# Strip leading and trailing whitespace in the above string and print\n",
        "str=str.strip()\n",
        "print(str)"
      ]
    },
    {
      "cell_type": "markdown",
      "metadata": {
        "id": "ZRK4igr0r5Qc"
      },
      "source": [
        "# Containers"
      ]
    },
    {
      "cell_type": "code",
      "execution_count": null,
      "metadata": {
        "colab": {
          "base_uri": "https://localhost:8080/"
        },
        "id": "tkt3cWoYrCop",
        "outputId": "fc8c4d15-9883-4450-cd7e-6cccec2fe84a"
      },
      "outputs": [
        {
          "output_type": "stream",
          "name": "stdout",
          "text": [
            "[1, 2, 3, 4, 5]\n",
            "[1, 2, 'foo', 4, 5]\n",
            "[1, 2, 'foo', 4, 5, ['bar']]\n",
            "[1, 2, 'foo', 4, 5, ['bar'], 'bar']\n",
            "[1, 2, 'foo', 4, 5, ['bar']]\n"
          ]
        }
      ],
      "source": [
        "#Lists\n",
        "#create a list of first five natural numbers\n",
        "list1 = [1,2,3,4]\n",
        "list1.append(5)\n",
        "print(list1)\n",
        "\n",
        "#change the 3rd element to \"foo\" and print list1\n",
        "list1[2]=\"foo\"\n",
        "print(list1)\n",
        "\n",
        "list2 = [\"bar\"]\n",
        "#append list2 to list1 and print the result\n",
        "list1.append(list2)\n",
        "print(list1)\n",
        "\n",
        "#add list2 to list1 using extend and print the result\n",
        "list1.extend(list2)\n",
        "print(list1)\n",
        "\n",
        "#remove last element in list1 using pop and print list1\n",
        "list1.pop()\n",
        "print(list1)\n"
      ]
    },
    {
      "cell_type": "code",
      "execution_count": null,
      "metadata": {
        "colab": {
          "base_uri": "https://localhost:8080/"
        },
        "id": "fcayPpYjtla-",
        "outputId": "5d38f2f9-10df-441c-fa7b-52c40eff32ae"
      },
      "outputs": [
        {
          "output_type": "stream",
          "name": "stdout",
          "text": [
            "[2, 3, 4]\n",
            "[2, 3]\n",
            "[0, 1]\n",
            "[0, 1, 8, 9, 4]\n"
          ]
        }
      ],
      "source": [
        "#Slicing \n",
        "nums = list(range(5))\n",
        "#print a slice from index 2 to 4 (inclusive)\n",
        "print(nums[2:5])\n",
        "\n",
        "#print a slice from index 2 to 4 (exclusive)\n",
        "print(nums[2:4])\n",
        "\n",
        "# Slice indices can be negative; \n",
        "print(nums[:-3]) \n",
        "\n",
        "# Assign the [8,9] new list to a slice from index 2 to 4 (exclusive)\n",
        "newlist=[8,9]\n",
        "nums[2:4]=newlist\n",
        "print(nums)"
      ]
    },
    {
      "cell_type": "code",
      "execution_count": null,
      "metadata": {
        "id": "v-PI9dt3uxkx",
        "colab": {
          "base_uri": "https://localhost:8080/"
        },
        "outputId": "ce997782-e5b7-47e8-c47c-0b859e10a477"
      },
      "outputs": [
        {
          "output_type": "stream",
          "name": "stdout",
          "text": [
            "[0, 1, 4, 9, 16]\n",
            "(0, 'cat')\n",
            "(1, 'dog')\n",
            "(2, 'monkey')\n",
            "[0, 4, 16]\n",
            "Just some extra practice [(0, 1, 2), ('cat', 'dog', 'monkey')]\n"
          ]
        }
      ],
      "source": [
        "#Loops\n",
        "nums = [0, 1, 2, 3, 4]\n",
        "squares = []\n",
        "# append squares of each element in nums to squares using for loop\n",
        "for i in nums:\n",
        "  i*=i\n",
        "  squares.append(i)\n",
        "\n",
        "print(squares)\n",
        "####\n",
        "\n",
        "animals = ['cat', 'dog', 'monkey']\n",
        "#print index and elements in the list using enumerate and for loop\n",
        "for i in enumerate(animals):\n",
        "  print(i)\n",
        "\n",
        "#print squares of even numbers using list comprehensions\n",
        "nums = [0, 1, 2, 3, 4]\n",
        "even_squares = [x**2 for x in nums if x%2==0]\n",
        "print(even_squares)\n",
        "\n",
        "lst = list(enumerate(animals))\n",
        "print(\"Just some extra practice\",list(zip(*lst)))"
      ]
    },
    {
      "cell_type": "code",
      "execution_count": null,
      "metadata": {
        "id": "Odzrj6_Nv51m",
        "colab": {
          "base_uri": "https://localhost:8080/"
        },
        "outputId": "f3f65f2a-974e-4eb4-baf7-bf3178574ddb"
      },
      "outputs": [
        {
          "output_type": "stream",
          "name": "stdout",
          "text": [
            "{'cat': 'cute', 'dog': 'furry'}\n",
            "{'cat': 'cute', 'dog': 'furry', 'fish': 'wet'}\n",
            "{'dog': 'furry', 'fish': 'wet'}\n",
            "N/A\n",
            "wet\n",
            "dict_keys(['dog', 'fish'])\n",
            "dict_items([('dog', 'furry'), ('fish', 'wet')])\n"
          ]
        }
      ],
      "source": [
        "#Dictionaries\n",
        "#create a dictionary with keys = (cat, dog) and items = (cute,furry)\n",
        "d = {'cat':'cute',\n",
        "     'dog':'furry'}\n",
        "print(d)\n",
        "\n",
        "#set an entry {fish:wet}\n",
        "d['fish']='wet'\n",
        "print(d)\n",
        "\n",
        "#remove the entry with key= cat \n",
        "d.pop('cat')\n",
        "print(d)\n",
        "\n",
        "# Get an element with a default;\n",
        "print(d.get('monkey', 'N/A'))\n",
        "\n",
        "# get an element with key= fish and print it\n",
        "print(d['fish'])\n",
        "\n",
        "#print all keys in dictionary\n",
        "print(d.keys())\n",
        "\n",
        "#print all items in dictionary\n",
        "print(d.items())\n"
      ]
    },
    {
      "cell_type": "code",
      "execution_count": null,
      "metadata": {
        "id": "DAZXgnPqwNrB",
        "colab": {
          "base_uri": "https://localhost:8080/"
        },
        "outputId": "1658b796-d4c1-4b18-939c-9da5f3d88802"
      },
      "outputs": [
        {
          "output_type": "stream",
          "name": "stdout",
          "text": [
            "{'cat', 'fish', 'dog'}\n",
            "{'cat', 'fish', 'monkey', 'dog'}\n",
            "{'cat', 'monkey', 'dog'}\n",
            "False\n"
          ]
        }
      ],
      "source": [
        "#sets \n",
        "#create a set with elements cat, dog and fish\n",
        "s = {'cat','dog','fish'}\n",
        "print(s)\n",
        "\n",
        "#add monkey to the set\n",
        "s.add('monkey')\n",
        "print(s)\n",
        "\n",
        "#remove fish from the set \n",
        "s.discard('fish')\n",
        "print(s)\n",
        "\n",
        "#checks if an element is in the set\n",
        "print('fish' in animals)\n"
      ]
    },
    {
      "cell_type": "markdown",
      "metadata": {
        "id": "1hOHkVTbFVk8"
      },
      "source": [
        "# Numpy"
      ]
    },
    {
      "cell_type": "code",
      "execution_count": null,
      "metadata": {
        "id": "uG2OTLa9FTqL",
        "colab": {
          "base_uri": "https://localhost:8080/"
        },
        "outputId": "d7cb749f-155f-4a20-f41b-73f27dc3573e"
      },
      "outputs": [
        {
          "output_type": "stream",
          "name": "stdout",
          "text": [
            "(2, 3)\n",
            "[[0. 0.]\n",
            " [0. 0.]]\n",
            "[[1. 1.]]\n",
            "[[7. 7. 7.]\n",
            " [7. 7. 7.]\n",
            " [7. 7. 7.]]\n",
            "[[0.95411714 0.65591826]\n",
            " [0.35216118 0.60749011]]\n"
          ]
        }
      ],
      "source": [
        "#importing the numpy package \n",
        "import numpy as np\n",
        "b = np.array([[1,2,3],[4,5,6]])    # Create a rank 2 array\n",
        "#print the shape of the array\n",
        "print(b.shape)\n",
        "\n",
        "#print an array of all zeros of shape(2,2)\n",
        "print(np.zeros((2,2)))\n",
        "\n",
        "#print an array of all ones of shape(1,2)\n",
        "print(np.ones((1,2)))\n",
        "\n",
        "#print an array of shape (3,3) with all elements in array = 7\n",
        "print(7*np.ones((3,3)))\n",
        "\n",
        "#print an array filled with random values of shape (2,2)\n",
        "print(np.random.rand(4).reshape(2,2))"
      ]
    },
    {
      "cell_type": "code",
      "execution_count": null,
      "metadata": {
        "id": "IYiYxnHYP2L5",
        "colab": {
          "base_uri": "https://localhost:8080/"
        },
        "outputId": "7cf494f7-e443-4630-9a9a-7c6cec3cc460"
      },
      "outputs": [
        {
          "output_type": "stream",
          "name": "stdout",
          "text": [
            "[[2 3]\n",
            " [6 7]]\n",
            "1\n",
            "6\n",
            "7\n",
            "11\n",
            "[[11  2  3]\n",
            " [ 4  5 16]\n",
            " [17  8  9]\n",
            " [10 21 12]]\n"
          ]
        }
      ],
      "source": [
        "import numpy as np\n",
        "#ARRAY INDEXING\n",
        "\n",
        "a = np.array([[1,2,3,4], [5,6,7,8], [9,10,11,12]])\n",
        "# Use slicing to print out the subarray consisting of the first 2 rows and columns 1 and 2;\n",
        "print(a[0:2, 1:3])\n",
        "\n",
        "a = np.array([[1,2,3], [4,5,6], [7,8,9], [10, 11, 12]])\n",
        "b = np.array([0, 2, 0, 1])\n",
        "# print one element from each row of a using the indices in b\n",
        "x=0\n",
        "for i in a:\n",
        "  print(a[x, b[x] ])\n",
        "  x+=1\n",
        "\n",
        "# add 10 to one element from each row of a using the indices in b\n",
        "x = 0\n",
        "for i in a:\n",
        "  a[x, b[x]]+=10\n",
        "  x+=1\n",
        "  \n",
        "print(a)"
      ]
    },
    {
      "cell_type": "code",
      "execution_count": null,
      "metadata": {
        "id": "OYsgl7PtSzq-",
        "colab": {
          "base_uri": "https://localhost:8080/"
        },
        "outputId": "2160bcc9-5853-4fa3-d901-d07a64fd6a56"
      },
      "outputs": [
        {
          "output_type": "stream",
          "name": "stdout",
          "text": [
            "[[False False]\n",
            " [ True  True]\n",
            " [ True  True]]\n",
            "[[False False  True  True  True  True]]\n",
            "int64\n",
            "[[1 2]\n",
            " [3 4]]\n"
          ]
        }
      ],
      "source": [
        "import numpy as np\n",
        "#Boolean array indexing\n",
        "a = np.array([[1,2], [3, 4], [5, 6]])\n",
        "#Print a numpy array of Booleans where elements of a are bigger than 2 ,shape=(3,2)\n",
        "print(a>2)\n",
        "\n",
        "#a rank 1 array consisting of the elements of a that are bigger than 2\n",
        "a=a.reshape(1,6)\n",
        "print(a>2)\n",
        "\n",
        "x = np.array([1, 2]) \n",
        "#print data type of the array\n",
        "print(x.dtype)\n",
        "\n",
        "#create an array [[1,2],[3,4]] with data type int64.\n",
        "z=np.arange(1,5, dtype='int64').reshape(2,2)\n",
        "print(z)"
      ]
    },
    {
      "cell_type": "code",
      "execution_count": null,
      "metadata": {
        "id": "VZoDHzWSUk3_",
        "colab": {
          "base_uri": "https://localhost:8080/"
        },
        "outputId": "978f8088-4285-4e99-984c-99b06fdfc44b"
      },
      "outputs": [
        {
          "output_type": "stream",
          "name": "stdout",
          "text": [
            "[[ 6.  8.]\n",
            " [10. 12.]]\n",
            "[[-4. -4.]\n",
            " [-4. -4.]]\n",
            "[[ 5. 12.]\n",
            " [21. 32.]]\n",
            "[[0.2        0.33333333]\n",
            " [0.42857143 0.5       ]]\n",
            "[[1.         1.41421356]\n",
            " [1.73205081 2.        ]]\n",
            "[[2.23606798 2.44948974]\n",
            " [2.64575131 2.82842712]]\n"
          ]
        }
      ],
      "source": [
        "#Array math\n",
        "x = np.array([[1,2],[3,4]], dtype=np.float64)\n",
        "y = np.array([[5,6],[7,8]], dtype=np.float64)\n",
        "\n",
        "#print elementwise addition using numpy function\n",
        "print(x+y)\n",
        "\n",
        "#print elementwise difference using numpy function\n",
        "print(x-y)\n",
        "\n",
        "#print elementwise multiplication using numpy function\n",
        "print(x*y)\n",
        "\n",
        "#print elementwise division using numpy function\n",
        "print(x/y)\n",
        "\n",
        "#print elementwise square root using numpy function\n",
        "print(x**.5)\n",
        "print(y**.5)"
      ]
    },
    {
      "cell_type": "code",
      "execution_count": null,
      "metadata": {
        "id": "TmMfplkRVZIu",
        "colab": {
          "base_uri": "https://localhost:8080/"
        },
        "outputId": "d6ea63fe-aae5-4c1c-8044-b1c5ef45a0c9"
      },
      "outputs": [
        {
          "output_type": "stream",
          "name": "stdout",
          "text": [
            "[[17 23]\n",
            " [39 53]]\n",
            "[-8 -6]\n",
            "[-4 -4]\n",
            "\n",
            "\n",
            "\t Just some practice \n",
            " [[19 22]\n",
            " [43 50]]\n"
          ]
        }
      ],
      "source": [
        "import numpy as np\n",
        "x = np.array([[1,2],[3,4]])\n",
        "y = np.array([[5,6],[7,8]])\n",
        "\n",
        "v = np.array([9,10])\n",
        "w = np.array([11, 12])\n",
        "\n",
        "#print Inner product of vectors\n",
        "print(np.inner(x,y))\n",
        "\n",
        "#print matrix / vector product of x and v \n",
        "print(np.cross(x,v))\n",
        "\n",
        "#print matrix / vector product of x and y \n",
        "print(np.cross(x,y))\n",
        "\n",
        "\n",
        "#Matrix Multiplication\n",
        "print(\"\\n\\n\\t Just some practice \\n\", x@y)"
      ]
    },
    {
      "cell_type": "code",
      "execution_count": null,
      "metadata": {
        "id": "5_Iy6xwGXVS8",
        "colab": {
          "base_uri": "https://localhost:8080/"
        },
        "outputId": "a90b7d39-fdd1-4f85-d6e3-3eafc8ffff94"
      },
      "outputs": [
        {
          "output_type": "stream",
          "name": "stdout",
          "text": [
            "10\n",
            "[3 7]\n",
            "[4 6]\n"
          ]
        }
      ],
      "source": [
        "x = np.array([[1,2],[3,4]])\n",
        "#print sum of all elements in array\n",
        "print(x.sum())\n",
        "\n",
        "#print sum of elements in each row\n",
        "print(x.sum(axis=1))\n",
        "\n",
        "#print sum of elements in each column\n",
        "print(x.sum(axis=0))\n",
        "\n",
        "\n"
      ]
    },
    {
      "cell_type": "code",
      "execution_count": null,
      "metadata": {
        "id": "dwkaL3GSZiBl",
        "colab": {
          "base_uri": "https://localhost:8080/"
        },
        "outputId": "8d211f84-2cec-438e-87b6-9336708ef798"
      },
      "outputs": [
        {
          "output_type": "stream",
          "name": "stdout",
          "text": [
            "[[4.9e-324 9.9e-324 1.5e-323]\n",
            " [2.0e-323 2.5e-323 3.0e-323]\n",
            " [3.5e-323 4.0e-323 4.4e-323]\n",
            " [4.9e-323 5.4e-323 5.9e-323]]\n",
            "\n",
            " [[ 2  2  4]\n",
            " [ 5  5  7]\n",
            " [ 8  8 10]\n",
            " [11 11 13]]\n",
            "[[ 2  2  4]\n",
            " [ 5  5  7]\n",
            " [ 8  8 10]\n",
            " [11 11 13]] Numpy has built in broadcasting\n"
          ]
        }
      ],
      "source": [
        "x = np.array([[1,2,3], [4,5,6], [7,8,9], [10, 11, 12]])\n",
        "v = np.array([1, 0, 1])\n",
        "#Create an empty matrix with the same shape as x and print\n",
        "arr=np.empty(x.shape)\n",
        "print(arr)\n",
        "\n",
        "# create an array y by adding  the vector v to each row of the matrix x with an explicit loop \n",
        "#print y\n",
        "\n",
        "ar=[]\n",
        "for i in x:\n",
        "  ar.append(i+v)\n",
        "ar= np.array(ar)\n",
        "print('\\n',ar)\n",
        "\n",
        "\n",
        "#Add v to each row of x using broadcasting\n",
        "#store the result in matrix y and print y\n",
        "\n",
        "# From the documentation, Numpy has built in broadcasting\n",
        "y=x+v\n",
        "print(y,\"Numpy has built in broadcasting\")\n",
        "\n"
      ]
    },
    {
      "cell_type": "code",
      "execution_count": null,
      "metadata": {
        "id": "apNuOG-_bomv",
        "colab": {
          "base_uri": "https://localhost:8080/"
        },
        "outputId": "d3488341-c45e-4d42-e313-39168c6564d2"
      },
      "outputs": [
        {
          "output_type": "stream",
          "name": "stdout",
          "text": [
            "[[1]\n",
            " [2]\n",
            " [3]]\n"
          ]
        }
      ],
      "source": [
        "import numpy as np\n",
        "v = np.array([1,2,3])  \n",
        "w = np.array([4,5])\n",
        "#reshape v to(3,1) using numpy function and print it\n",
        "v=v.reshape(3,1)\n",
        "print(v)"
      ]
    }
  ],
  "metadata": {
    "colab": {
      "provenance": []
    },
    "kernelspec": {
      "display_name": "Python 3",
      "language": "python",
      "name": "python3"
    },
    "language_info": {
      "codemirror_mode": {
        "name": "ipython",
        "version": 3
      },
      "file_extension": ".py",
      "mimetype": "text/x-python",
      "name": "python",
      "nbconvert_exporter": "python",
      "pygments_lexer": "ipython3",
      "version": "3.10.6 (tags/v3.10.6:9c7b4bd, Aug  1 2022, 21:53:49) [MSC v.1932 64 bit (AMD64)]"
    },
    "vscode": {
      "interpreter": {
        "hash": "4f64e51f1d93f6076c9e16a069710480e2dde28a76b2e4cc243631e7f4d3910f"
      }
    }
  },
  "nbformat": 4,
  "nbformat_minor": 0
}